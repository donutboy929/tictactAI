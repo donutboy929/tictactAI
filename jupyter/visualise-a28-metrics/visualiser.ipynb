{
 "cells": [
  {
   "cell_type": "markdown",
   "id": "3bfa9238",
   "metadata": {},
   "source": [
    "# Visualiser for area28 metric data"
   ]
  },
  {
   "cell_type": "code",
   "execution_count": 124,
   "id": "ceb16383",
   "metadata": {},
   "outputs": [
    {
     "data": {
      "text/html": [
       "<script>\n",
       "code_show=true; \n",
       "function code_toggle() {\n",
       " if (code_show){\n",
       " $('div.input').hide();\n",
       " } else {\n",
       " $('div.input').show();\n",
       " }\n",
       " code_show = !code_show\n",
       "} \n",
       "$( document ).ready(code_toggle);\n",
       "</script>\n",
       "<form action=\"javascript:code_toggle()\"><input type=\"submit\" value=\"Click here to toggle on/off the raw code.\"></form>"
      ],
      "text/plain": [
       "<IPython.core.display.HTML object>"
      ]
     },
     "execution_count": 124,
     "metadata": {},
     "output_type": "execute_result"
    }
   ],
   "source": [
    "from IPython.display import HTML\n",
    "\n",
    "HTML('''<script>\n",
    "code_show=true; \n",
    "function code_toggle() {\n",
    " if (code_show){\n",
    " $('div.input').hide();\n",
    " } else {\n",
    " $('div.input').show();\n",
    " }\n",
    " code_show = !code_show\n",
    "} \n",
    "$( document ).ready(code_toggle);\n",
    "</script>\n",
    "<form action=\"javascript:code_toggle()\"><input type=\"submit\" value=\"Click here to toggle on/off the raw code.\"></form>''')"
   ]
  },
  {
   "cell_type": "code",
   "execution_count": 125,
   "id": "ca85c3ac",
   "metadata": {},
   "outputs": [],
   "source": [
    "import warnings\n",
    "warnings.simplefilter(action='ignore', category=FutureWarning)"
   ]
  },
  {
   "cell_type": "markdown",
   "id": "4cb3569d",
   "metadata": {},
   "source": [
    "## Import data as CSV / json file"
   ]
  },
  {
   "cell_type": "code",
   "execution_count": 126,
   "id": "745d79d6",
   "metadata": {
    "scrolled": false
   },
   "outputs": [
    {
     "data": {
      "text/html": [
       "<div>\n",
       "<style scoped>\n",
       "    .dataframe tbody tr th:only-of-type {\n",
       "        vertical-align: middle;\n",
       "    }\n",
       "\n",
       "    .dataframe tbody tr th {\n",
       "        vertical-align: top;\n",
       "    }\n",
       "\n",
       "    .dataframe thead th {\n",
       "        text-align: right;\n",
       "    }\n",
       "</style>\n",
       "<table border=\"1\" class=\"dataframe\">\n",
       "  <thead>\n",
       "    <tr style=\"text-align: right;\">\n",
       "      <th></th>\n",
       "      <th>type</th>\n",
       "      <th>userId</th>\n",
       "      <th>sceneId</th>\n",
       "      <th>timestamp</th>\n",
       "      <th>data</th>\n",
       "    </tr>\n",
       "    <tr>\n",
       "      <th>id</th>\n",
       "      <th></th>\n",
       "      <th></th>\n",
       "      <th></th>\n",
       "      <th></th>\n",
       "      <th></th>\n",
       "    </tr>\n",
       "  </thead>\n",
       "  <tbody>\n",
       "    <tr>\n",
       "      <th>35c8906c-85ab-434d-9d7a-6c211ab746d2</th>\n",
       "      <td>CORE_SCENE_JOIN</td>\n",
       "      <td>2fba20f5-6353-4a69-9bb7-63335250f7f0</td>\n",
       "      <td>4af34850-9708-4366-b6ed-1e5377be73be</td>\n",
       "      <td>2021-10-04 11:22:53</td>\n",
       "      <td>{'ratingValue': None, 'ratingCategory': None}</td>\n",
       "    </tr>\n",
       "    <tr>\n",
       "      <th>848926b5-3654-4983-bd1f-e31b92e15420</th>\n",
       "      <td>CORE_SCENE_LEAVE</td>\n",
       "      <td>2fba20f5-6353-4a69-9bb7-63335250f7f0</td>\n",
       "      <td>4af34850-9708-4366-b6ed-1e5377be73be</td>\n",
       "      <td>2021-10-04 13:26:10</td>\n",
       "      <td>{'ratingValue': None, 'ratingCategory': None}</td>\n",
       "    </tr>\n",
       "    <tr>\n",
       "      <th>06f1611a-9b4f-4a95-88d2-93cc2605c042</th>\n",
       "      <td>CORE_SCENE_RATE</td>\n",
       "      <td>2fba20f5-6353-4a69-9bb7-63335250f7f0</td>\n",
       "      <td>4af34850-9708-4366-b6ed-1e5377be73be</td>\n",
       "      <td>2021-10-04 13:26:37</td>\n",
       "      <td>{'ratingValue': 1, 'ratingCategory': 'Collab T...</td>\n",
       "    </tr>\n",
       "    <tr>\n",
       "      <th>bc3e38df-e2c4-48a8-8266-25a796a1257e</th>\n",
       "      <td>CORE_SCENE_JOIN</td>\n",
       "      <td>7af8284d-5ebf-4e94-b561-4b92264f78b1</td>\n",
       "      <td>4af34850-9708-4366-b6ed-1e5377be73be</td>\n",
       "      <td>2021-10-04 10:25:11</td>\n",
       "      <td>{'ratingValue': None, 'ratingCategory': None}</td>\n",
       "    </tr>\n",
       "    <tr>\n",
       "      <th>4ac96285-75d4-457a-9d21-7571c828b134</th>\n",
       "      <td>CORE_SCENE_LEAVE</td>\n",
       "      <td>7af8284d-5ebf-4e94-b561-4b92264f78b1</td>\n",
       "      <td>4af34850-9708-4366-b6ed-1e5377be73be</td>\n",
       "      <td>2021-10-04 11:55:03</td>\n",
       "      <td>{'ratingValue': None, 'ratingCategory': None}</td>\n",
       "    </tr>\n",
       "    <tr>\n",
       "      <th>...</th>\n",
       "      <td>...</td>\n",
       "      <td>...</td>\n",
       "      <td>...</td>\n",
       "      <td>...</td>\n",
       "      <td>...</td>\n",
       "    </tr>\n",
       "    <tr>\n",
       "      <th>ab9f4f05-3af7-4f3d-886b-ad3b2bf4b4b5</th>\n",
       "      <td>CORE_SCENE_JOIN</td>\n",
       "      <td>60e93cfc-5f74-4d26-8769-42b3858143f8</td>\n",
       "      <td>40100e02-dea1-4910-b6fe-19c8f79f7c1a</td>\n",
       "      <td>2021-12-31 12:13:31</td>\n",
       "      <td>{'ratingValue': None, 'ratingCategory': None}</td>\n",
       "    </tr>\n",
       "    <tr>\n",
       "      <th>cb241852-7337-413e-8fef-5958cad8ddc1</th>\n",
       "      <td>CORE_SCENE_LEAVE</td>\n",
       "      <td>60e93cfc-5f74-4d26-8769-42b3858143f8</td>\n",
       "      <td>40100e02-dea1-4910-b6fe-19c8f79f7c1a</td>\n",
       "      <td>2021-12-31 13:42:12</td>\n",
       "      <td>{'ratingValue': None, 'ratingCategory': None}</td>\n",
       "    </tr>\n",
       "    <tr>\n",
       "      <th>f7fab08e-22c7-4b27-bb3b-c46e1987847d</th>\n",
       "      <td>CORE_SCENE_JOIN</td>\n",
       "      <td>e39e4015-17ed-4a22-9c3a-751fd3c4f808</td>\n",
       "      <td>40100e02-dea1-4910-b6fe-19c8f79f7c1a</td>\n",
       "      <td>2021-12-31 10:51:55</td>\n",
       "      <td>{'ratingValue': None, 'ratingCategory': None}</td>\n",
       "    </tr>\n",
       "    <tr>\n",
       "      <th>a501b3ba-3b8b-4f94-8b41-0ba1c7b8457f</th>\n",
       "      <td>CORE_SCENE_LEAVE</td>\n",
       "      <td>e39e4015-17ed-4a22-9c3a-751fd3c4f808</td>\n",
       "      <td>40100e02-dea1-4910-b6fe-19c8f79f7c1a</td>\n",
       "      <td>2021-12-31 13:00:59</td>\n",
       "      <td>{'ratingValue': None, 'ratingCategory': None}</td>\n",
       "    </tr>\n",
       "    <tr>\n",
       "      <th>4173505a-d781-4b6c-a829-5e25219fb245</th>\n",
       "      <td>CORE_SCENE_RATE</td>\n",
       "      <td>e39e4015-17ed-4a22-9c3a-751fd3c4f808</td>\n",
       "      <td>40100e02-dea1-4910-b6fe-19c8f79f7c1a</td>\n",
       "      <td>2021-12-31 13:02:56</td>\n",
       "      <td>{'ratingValue': 0, 'ratingCategory': 'Chat'}</td>\n",
       "    </tr>\n",
       "  </tbody>\n",
       "</table>\n",
       "<p>1604 rows × 5 columns</p>\n",
       "</div>"
      ],
      "text/plain": [
       "                                                  type  \\\n",
       "id                                                       \n",
       "35c8906c-85ab-434d-9d7a-6c211ab746d2   CORE_SCENE_JOIN   \n",
       "848926b5-3654-4983-bd1f-e31b92e15420  CORE_SCENE_LEAVE   \n",
       "06f1611a-9b4f-4a95-88d2-93cc2605c042   CORE_SCENE_RATE   \n",
       "bc3e38df-e2c4-48a8-8266-25a796a1257e   CORE_SCENE_JOIN   \n",
       "4ac96285-75d4-457a-9d21-7571c828b134  CORE_SCENE_LEAVE   \n",
       "...                                                ...   \n",
       "ab9f4f05-3af7-4f3d-886b-ad3b2bf4b4b5   CORE_SCENE_JOIN   \n",
       "cb241852-7337-413e-8fef-5958cad8ddc1  CORE_SCENE_LEAVE   \n",
       "f7fab08e-22c7-4b27-bb3b-c46e1987847d   CORE_SCENE_JOIN   \n",
       "a501b3ba-3b8b-4f94-8b41-0ba1c7b8457f  CORE_SCENE_LEAVE   \n",
       "4173505a-d781-4b6c-a829-5e25219fb245   CORE_SCENE_RATE   \n",
       "\n",
       "                                                                    userId  \\\n",
       "id                                                                           \n",
       "35c8906c-85ab-434d-9d7a-6c211ab746d2  2fba20f5-6353-4a69-9bb7-63335250f7f0   \n",
       "848926b5-3654-4983-bd1f-e31b92e15420  2fba20f5-6353-4a69-9bb7-63335250f7f0   \n",
       "06f1611a-9b4f-4a95-88d2-93cc2605c042  2fba20f5-6353-4a69-9bb7-63335250f7f0   \n",
       "bc3e38df-e2c4-48a8-8266-25a796a1257e  7af8284d-5ebf-4e94-b561-4b92264f78b1   \n",
       "4ac96285-75d4-457a-9d21-7571c828b134  7af8284d-5ebf-4e94-b561-4b92264f78b1   \n",
       "...                                                                    ...   \n",
       "ab9f4f05-3af7-4f3d-886b-ad3b2bf4b4b5  60e93cfc-5f74-4d26-8769-42b3858143f8   \n",
       "cb241852-7337-413e-8fef-5958cad8ddc1  60e93cfc-5f74-4d26-8769-42b3858143f8   \n",
       "f7fab08e-22c7-4b27-bb3b-c46e1987847d  e39e4015-17ed-4a22-9c3a-751fd3c4f808   \n",
       "a501b3ba-3b8b-4f94-8b41-0ba1c7b8457f  e39e4015-17ed-4a22-9c3a-751fd3c4f808   \n",
       "4173505a-d781-4b6c-a829-5e25219fb245  e39e4015-17ed-4a22-9c3a-751fd3c4f808   \n",
       "\n",
       "                                                                   sceneId  \\\n",
       "id                                                                           \n",
       "35c8906c-85ab-434d-9d7a-6c211ab746d2  4af34850-9708-4366-b6ed-1e5377be73be   \n",
       "848926b5-3654-4983-bd1f-e31b92e15420  4af34850-9708-4366-b6ed-1e5377be73be   \n",
       "06f1611a-9b4f-4a95-88d2-93cc2605c042  4af34850-9708-4366-b6ed-1e5377be73be   \n",
       "bc3e38df-e2c4-48a8-8266-25a796a1257e  4af34850-9708-4366-b6ed-1e5377be73be   \n",
       "4ac96285-75d4-457a-9d21-7571c828b134  4af34850-9708-4366-b6ed-1e5377be73be   \n",
       "...                                                                    ...   \n",
       "ab9f4f05-3af7-4f3d-886b-ad3b2bf4b4b5  40100e02-dea1-4910-b6fe-19c8f79f7c1a   \n",
       "cb241852-7337-413e-8fef-5958cad8ddc1  40100e02-dea1-4910-b6fe-19c8f79f7c1a   \n",
       "f7fab08e-22c7-4b27-bb3b-c46e1987847d  40100e02-dea1-4910-b6fe-19c8f79f7c1a   \n",
       "a501b3ba-3b8b-4f94-8b41-0ba1c7b8457f  40100e02-dea1-4910-b6fe-19c8f79f7c1a   \n",
       "4173505a-d781-4b6c-a829-5e25219fb245  40100e02-dea1-4910-b6fe-19c8f79f7c1a   \n",
       "\n",
       "                                                timestamp  \\\n",
       "id                                                          \n",
       "35c8906c-85ab-434d-9d7a-6c211ab746d2  2021-10-04 11:22:53   \n",
       "848926b5-3654-4983-bd1f-e31b92e15420  2021-10-04 13:26:10   \n",
       "06f1611a-9b4f-4a95-88d2-93cc2605c042  2021-10-04 13:26:37   \n",
       "bc3e38df-e2c4-48a8-8266-25a796a1257e  2021-10-04 10:25:11   \n",
       "4ac96285-75d4-457a-9d21-7571c828b134  2021-10-04 11:55:03   \n",
       "...                                                   ...   \n",
       "ab9f4f05-3af7-4f3d-886b-ad3b2bf4b4b5  2021-12-31 12:13:31   \n",
       "cb241852-7337-413e-8fef-5958cad8ddc1  2021-12-31 13:42:12   \n",
       "f7fab08e-22c7-4b27-bb3b-c46e1987847d  2021-12-31 10:51:55   \n",
       "a501b3ba-3b8b-4f94-8b41-0ba1c7b8457f  2021-12-31 13:00:59   \n",
       "4173505a-d781-4b6c-a829-5e25219fb245  2021-12-31 13:02:56   \n",
       "\n",
       "                                                                                   data  \n",
       "id                                                                                       \n",
       "35c8906c-85ab-434d-9d7a-6c211ab746d2      {'ratingValue': None, 'ratingCategory': None}  \n",
       "848926b5-3654-4983-bd1f-e31b92e15420      {'ratingValue': None, 'ratingCategory': None}  \n",
       "06f1611a-9b4f-4a95-88d2-93cc2605c042  {'ratingValue': 1, 'ratingCategory': 'Collab T...  \n",
       "bc3e38df-e2c4-48a8-8266-25a796a1257e      {'ratingValue': None, 'ratingCategory': None}  \n",
       "4ac96285-75d4-457a-9d21-7571c828b134      {'ratingValue': None, 'ratingCategory': None}  \n",
       "...                                                                                 ...  \n",
       "ab9f4f05-3af7-4f3d-886b-ad3b2bf4b4b5      {'ratingValue': None, 'ratingCategory': None}  \n",
       "cb241852-7337-413e-8fef-5958cad8ddc1      {'ratingValue': None, 'ratingCategory': None}  \n",
       "f7fab08e-22c7-4b27-bb3b-c46e1987847d      {'ratingValue': None, 'ratingCategory': None}  \n",
       "a501b3ba-3b8b-4f94-8b41-0ba1c7b8457f      {'ratingValue': None, 'ratingCategory': None}  \n",
       "4173505a-d781-4b6c-a829-5e25219fb245       {'ratingValue': 0, 'ratingCategory': 'Chat'}  \n",
       "\n",
       "[1604 rows x 5 columns]"
      ]
     },
     "execution_count": 126,
     "metadata": {},
     "output_type": "execute_result"
    }
   ],
   "source": [
    "import pandas as pd\n",
    "import numpy as np\n",
    "import matplotlib.pyplot as plt\n",
    "import datetime as dt\n",
    "\n",
    "# df = pd.read_json(\"data.json\")\n",
    "df = pd.read_csv(\"dummy.csv\")\n",
    "df = df.set_index('id')\n",
    "df"
   ]
  },
  {
   "cell_type": "markdown",
   "id": "22cf51f7",
   "metadata": {},
   "source": [
    "## Pre-process data to be visualised"
   ]
  },
  {
   "cell_type": "code",
   "execution_count": 127,
   "id": "b7fe9d2f",
   "metadata": {},
   "outputs": [
    {
     "data": {
      "text/html": [
       "<div>\n",
       "<style scoped>\n",
       "    .dataframe tbody tr th:only-of-type {\n",
       "        vertical-align: middle;\n",
       "    }\n",
       "\n",
       "    .dataframe tbody tr th {\n",
       "        vertical-align: top;\n",
       "    }\n",
       "\n",
       "    .dataframe thead th {\n",
       "        text-align: right;\n",
       "    }\n",
       "</style>\n",
       "<table border=\"1\" class=\"dataframe\">\n",
       "  <thead>\n",
       "    <tr style=\"text-align: right;\">\n",
       "      <th></th>\n",
       "      <th>userId</th>\n",
       "      <th>type</th>\n",
       "      <th>date</th>\n",
       "      <th>duration</th>\n",
       "      <th>time</th>\n",
       "      <th>weekday</th>\n",
       "      <th>week_number</th>\n",
       "      <th>sceneId</th>\n",
       "    </tr>\n",
       "    <tr>\n",
       "      <th>id</th>\n",
       "      <th></th>\n",
       "      <th></th>\n",
       "      <th></th>\n",
       "      <th></th>\n",
       "      <th></th>\n",
       "      <th></th>\n",
       "      <th></th>\n",
       "      <th></th>\n",
       "    </tr>\n",
       "  </thead>\n",
       "  <tbody>\n",
       "    <tr>\n",
       "      <th>848926b5-3654-4983-bd1f-e31b92e15420</th>\n",
       "      <td>2fba20f5-6353-4a69-9bb7-63335250f7f0</td>\n",
       "      <td>CORE_SCENE_LEAVE</td>\n",
       "      <td>2021-10-04</td>\n",
       "      <td>0 days 02:03:17</td>\n",
       "      <td>13:26:10</td>\n",
       "      <td>Monday</td>\n",
       "      <td>40</td>\n",
       "      <td>4af34850-9708-4366-b6ed-1e5377be73be</td>\n",
       "    </tr>\n",
       "    <tr>\n",
       "      <th>4ac96285-75d4-457a-9d21-7571c828b134</th>\n",
       "      <td>7af8284d-5ebf-4e94-b561-4b92264f78b1</td>\n",
       "      <td>CORE_SCENE_LEAVE</td>\n",
       "      <td>2021-10-04</td>\n",
       "      <td>0 days 01:29:52</td>\n",
       "      <td>11:55:03</td>\n",
       "      <td>Monday</td>\n",
       "      <td>40</td>\n",
       "      <td>4af34850-9708-4366-b6ed-1e5377be73be</td>\n",
       "    </tr>\n",
       "    <tr>\n",
       "      <th>2672aa37-3f01-4200-8c12-0a8948b1a9a1</th>\n",
       "      <td>2314cb48-7a1f-4a81-a445-46b5d7d69d8f</td>\n",
       "      <td>CORE_SCENE_LEAVE</td>\n",
       "      <td>2021-10-04</td>\n",
       "      <td>0 days 02:19:14</td>\n",
       "      <td>15:39:35</td>\n",
       "      <td>Monday</td>\n",
       "      <td>40</td>\n",
       "      <td>4af34850-9708-4366-b6ed-1e5377be73be</td>\n",
       "    </tr>\n",
       "    <tr>\n",
       "      <th>fc35822a-aa89-4dae-8212-980e7e575c93</th>\n",
       "      <td>1305009a-5cb4-4ae6-9ad0-145d74347a36</td>\n",
       "      <td>CORE_SCENE_LEAVE</td>\n",
       "      <td>2021-10-04</td>\n",
       "      <td>0 days 02:06:32</td>\n",
       "      <td>12:47:46</td>\n",
       "      <td>Monday</td>\n",
       "      <td>40</td>\n",
       "      <td>4af34850-9708-4366-b6ed-1e5377be73be</td>\n",
       "    </tr>\n",
       "    <tr>\n",
       "      <th>52dc9b86-dd57-4692-924c-dfd80b057219</th>\n",
       "      <td>73f840f4-6fbd-48b3-80e6-81cb1120ec1e</td>\n",
       "      <td>CORE_SCENE_LEAVE</td>\n",
       "      <td>2021-10-04</td>\n",
       "      <td>0 days 03:25:06</td>\n",
       "      <td>16:19:53</td>\n",
       "      <td>Monday</td>\n",
       "      <td>40</td>\n",
       "      <td>4af34850-9708-4366-b6ed-1e5377be73be</td>\n",
       "    </tr>\n",
       "    <tr>\n",
       "      <th>...</th>\n",
       "      <td>...</td>\n",
       "      <td>...</td>\n",
       "      <td>...</td>\n",
       "      <td>...</td>\n",
       "      <td>...</td>\n",
       "      <td>...</td>\n",
       "      <td>...</td>\n",
       "      <td>...</td>\n",
       "    </tr>\n",
       "    <tr>\n",
       "      <th>253092d2-b3c7-4e1a-993e-e01bbe8bcd77</th>\n",
       "      <td>975f6d88-0f03-44e0-a753-68438e165e18</td>\n",
       "      <td>CORE_SCENE_LEAVE</td>\n",
       "      <td>2021-12-31</td>\n",
       "      <td>0 days 03:54:35</td>\n",
       "      <td>15:27:47</td>\n",
       "      <td>Friday</td>\n",
       "      <td>52</td>\n",
       "      <td>40100e02-dea1-4910-b6fe-19c8f79f7c1a</td>\n",
       "    </tr>\n",
       "    <tr>\n",
       "      <th>e40c9fae-3d48-4d8a-b13f-fe0458a74745</th>\n",
       "      <td>6fe32b84-dd79-4fff-981d-5e3afe8c214b</td>\n",
       "      <td>CORE_SCENE_LEAVE</td>\n",
       "      <td>2021-12-31</td>\n",
       "      <td>0 days 03:31:32</td>\n",
       "      <td>14:28:16</td>\n",
       "      <td>Friday</td>\n",
       "      <td>52</td>\n",
       "      <td>40100e02-dea1-4910-b6fe-19c8f79f7c1a</td>\n",
       "    </tr>\n",
       "    <tr>\n",
       "      <th>3f2351d0-aa78-40bd-8b90-649e8fc55b1d</th>\n",
       "      <td>91ce111a-d4dd-4d73-9707-834cbfc4fbb4</td>\n",
       "      <td>CORE_SCENE_LEAVE</td>\n",
       "      <td>2021-12-31</td>\n",
       "      <td>0 days 04:51:02</td>\n",
       "      <td>15:28:49</td>\n",
       "      <td>Friday</td>\n",
       "      <td>52</td>\n",
       "      <td>40100e02-dea1-4910-b6fe-19c8f79f7c1a</td>\n",
       "    </tr>\n",
       "    <tr>\n",
       "      <th>cb241852-7337-413e-8fef-5958cad8ddc1</th>\n",
       "      <td>60e93cfc-5f74-4d26-8769-42b3858143f8</td>\n",
       "      <td>CORE_SCENE_LEAVE</td>\n",
       "      <td>2021-12-31</td>\n",
       "      <td>0 days 01:28:41</td>\n",
       "      <td>13:42:12</td>\n",
       "      <td>Friday</td>\n",
       "      <td>52</td>\n",
       "      <td>40100e02-dea1-4910-b6fe-19c8f79f7c1a</td>\n",
       "    </tr>\n",
       "    <tr>\n",
       "      <th>a501b3ba-3b8b-4f94-8b41-0ba1c7b8457f</th>\n",
       "      <td>e39e4015-17ed-4a22-9c3a-751fd3c4f808</td>\n",
       "      <td>CORE_SCENE_LEAVE</td>\n",
       "      <td>2021-12-31</td>\n",
       "      <td>0 days 02:09:04</td>\n",
       "      <td>13:00:59</td>\n",
       "      <td>Friday</td>\n",
       "      <td>52</td>\n",
       "      <td>40100e02-dea1-4910-b6fe-19c8f79f7c1a</td>\n",
       "    </tr>\n",
       "  </tbody>\n",
       "</table>\n",
       "<p>650 rows × 8 columns</p>\n",
       "</div>"
      ],
      "text/plain": [
       "                                                                    userId  \\\n",
       "id                                                                           \n",
       "848926b5-3654-4983-bd1f-e31b92e15420  2fba20f5-6353-4a69-9bb7-63335250f7f0   \n",
       "4ac96285-75d4-457a-9d21-7571c828b134  7af8284d-5ebf-4e94-b561-4b92264f78b1   \n",
       "2672aa37-3f01-4200-8c12-0a8948b1a9a1  2314cb48-7a1f-4a81-a445-46b5d7d69d8f   \n",
       "fc35822a-aa89-4dae-8212-980e7e575c93  1305009a-5cb4-4ae6-9ad0-145d74347a36   \n",
       "52dc9b86-dd57-4692-924c-dfd80b057219  73f840f4-6fbd-48b3-80e6-81cb1120ec1e   \n",
       "...                                                                    ...   \n",
       "253092d2-b3c7-4e1a-993e-e01bbe8bcd77  975f6d88-0f03-44e0-a753-68438e165e18   \n",
       "e40c9fae-3d48-4d8a-b13f-fe0458a74745  6fe32b84-dd79-4fff-981d-5e3afe8c214b   \n",
       "3f2351d0-aa78-40bd-8b90-649e8fc55b1d  91ce111a-d4dd-4d73-9707-834cbfc4fbb4   \n",
       "cb241852-7337-413e-8fef-5958cad8ddc1  60e93cfc-5f74-4d26-8769-42b3858143f8   \n",
       "a501b3ba-3b8b-4f94-8b41-0ba1c7b8457f  e39e4015-17ed-4a22-9c3a-751fd3c4f808   \n",
       "\n",
       "                                                  type        date  \\\n",
       "id                                                                   \n",
       "848926b5-3654-4983-bd1f-e31b92e15420  CORE_SCENE_LEAVE  2021-10-04   \n",
       "4ac96285-75d4-457a-9d21-7571c828b134  CORE_SCENE_LEAVE  2021-10-04   \n",
       "2672aa37-3f01-4200-8c12-0a8948b1a9a1  CORE_SCENE_LEAVE  2021-10-04   \n",
       "fc35822a-aa89-4dae-8212-980e7e575c93  CORE_SCENE_LEAVE  2021-10-04   \n",
       "52dc9b86-dd57-4692-924c-dfd80b057219  CORE_SCENE_LEAVE  2021-10-04   \n",
       "...                                                ...         ...   \n",
       "253092d2-b3c7-4e1a-993e-e01bbe8bcd77  CORE_SCENE_LEAVE  2021-12-31   \n",
       "e40c9fae-3d48-4d8a-b13f-fe0458a74745  CORE_SCENE_LEAVE  2021-12-31   \n",
       "3f2351d0-aa78-40bd-8b90-649e8fc55b1d  CORE_SCENE_LEAVE  2021-12-31   \n",
       "cb241852-7337-413e-8fef-5958cad8ddc1  CORE_SCENE_LEAVE  2021-12-31   \n",
       "a501b3ba-3b8b-4f94-8b41-0ba1c7b8457f  CORE_SCENE_LEAVE  2021-12-31   \n",
       "\n",
       "                                            duration      time weekday  \\\n",
       "id                                                                       \n",
       "848926b5-3654-4983-bd1f-e31b92e15420 0 days 02:03:17  13:26:10  Monday   \n",
       "4ac96285-75d4-457a-9d21-7571c828b134 0 days 01:29:52  11:55:03  Monday   \n",
       "2672aa37-3f01-4200-8c12-0a8948b1a9a1 0 days 02:19:14  15:39:35  Monday   \n",
       "fc35822a-aa89-4dae-8212-980e7e575c93 0 days 02:06:32  12:47:46  Monday   \n",
       "52dc9b86-dd57-4692-924c-dfd80b057219 0 days 03:25:06  16:19:53  Monday   \n",
       "...                                              ...       ...     ...   \n",
       "253092d2-b3c7-4e1a-993e-e01bbe8bcd77 0 days 03:54:35  15:27:47  Friday   \n",
       "e40c9fae-3d48-4d8a-b13f-fe0458a74745 0 days 03:31:32  14:28:16  Friday   \n",
       "3f2351d0-aa78-40bd-8b90-649e8fc55b1d 0 days 04:51:02  15:28:49  Friday   \n",
       "cb241852-7337-413e-8fef-5958cad8ddc1 0 days 01:28:41  13:42:12  Friday   \n",
       "a501b3ba-3b8b-4f94-8b41-0ba1c7b8457f 0 days 02:09:04  13:00:59  Friday   \n",
       "\n",
       "                                      week_number  \\\n",
       "id                                                  \n",
       "848926b5-3654-4983-bd1f-e31b92e15420           40   \n",
       "4ac96285-75d4-457a-9d21-7571c828b134           40   \n",
       "2672aa37-3f01-4200-8c12-0a8948b1a9a1           40   \n",
       "fc35822a-aa89-4dae-8212-980e7e575c93           40   \n",
       "52dc9b86-dd57-4692-924c-dfd80b057219           40   \n",
       "...                                           ...   \n",
       "253092d2-b3c7-4e1a-993e-e01bbe8bcd77           52   \n",
       "e40c9fae-3d48-4d8a-b13f-fe0458a74745           52   \n",
       "3f2351d0-aa78-40bd-8b90-649e8fc55b1d           52   \n",
       "cb241852-7337-413e-8fef-5958cad8ddc1           52   \n",
       "a501b3ba-3b8b-4f94-8b41-0ba1c7b8457f           52   \n",
       "\n",
       "                                                                   sceneId  \n",
       "id                                                                          \n",
       "848926b5-3654-4983-bd1f-e31b92e15420  4af34850-9708-4366-b6ed-1e5377be73be  \n",
       "4ac96285-75d4-457a-9d21-7571c828b134  4af34850-9708-4366-b6ed-1e5377be73be  \n",
       "2672aa37-3f01-4200-8c12-0a8948b1a9a1  4af34850-9708-4366-b6ed-1e5377be73be  \n",
       "fc35822a-aa89-4dae-8212-980e7e575c93  4af34850-9708-4366-b6ed-1e5377be73be  \n",
       "52dc9b86-dd57-4692-924c-dfd80b057219  4af34850-9708-4366-b6ed-1e5377be73be  \n",
       "...                                                                    ...  \n",
       "253092d2-b3c7-4e1a-993e-e01bbe8bcd77  40100e02-dea1-4910-b6fe-19c8f79f7c1a  \n",
       "e40c9fae-3d48-4d8a-b13f-fe0458a74745  40100e02-dea1-4910-b6fe-19c8f79f7c1a  \n",
       "3f2351d0-aa78-40bd-8b90-649e8fc55b1d  40100e02-dea1-4910-b6fe-19c8f79f7c1a  \n",
       "cb241852-7337-413e-8fef-5958cad8ddc1  40100e02-dea1-4910-b6fe-19c8f79f7c1a  \n",
       "a501b3ba-3b8b-4f94-8b41-0ba1c7b8457f  40100e02-dea1-4910-b6fe-19c8f79f7c1a  \n",
       "\n",
       "[650 rows x 8 columns]"
      ]
     },
     "execution_count": 127,
     "metadata": {},
     "output_type": "execute_result"
    }
   ],
   "source": [
    "import calendar\n",
    "\n",
    "df_no_rating = df.drop(df[df['type'] == \"CORE_SCENE_RATE\"].index)\n",
    "\n",
    "df_no_rating['datetime'] = [dt.datetime.strptime(str(d), '%Y-%m-%d %H:%M:%S') for d in df_no_rating['timestamp']]\n",
    "durations = df_no_rating.groupby(['userId'])['datetime'].diff()\n",
    "df_no_rating['date'] = [dt.datetime.date(d) for d in df_no_rating['datetime']] \n",
    "df_no_rating['time'] = [dt.datetime.time(d) for d in df_no_rating['datetime']]\n",
    "df_no_rating['weekday'] = [calendar.day_name[d.weekday()] for d in df_no_rating['datetime']]\n",
    "df_no_rating['week_number'] = [d.isocalendar()[1] for d in df_no_rating['datetime']]\n",
    "\n",
    "df_no_rating['duration'] = durations\n",
    "df_processed = df_no_rating[['userId', 'type', 'date', 'duration', 'time', 'weekday', 'week_number', 'sceneId']].copy()\n",
    "df_processed = df_processed.dropna()\n",
    "df_processed = df_processed.drop(df_processed[df_processed['type'] == 'CORE_SCENE_JOIN'].index)\n",
    "df_processed"
   ]
  },
  {
   "cell_type": "code",
   "execution_count": 128,
   "id": "93bb94ee",
   "metadata": {},
   "outputs": [
    {
     "data": {
      "text/plain": [
       "1703"
      ]
     },
     "execution_count": 128,
     "metadata": {},
     "output_type": "execute_result"
    }
   ],
   "source": [
    "total_hours = df_processed['duration'].sum().days * 24 + df_processed['duration'].sum().seconds//3600\n",
    "total_hours"
   ]
  },
  {
   "cell_type": "code",
   "execution_count": 129,
   "id": "7ef6f637",
   "metadata": {},
   "outputs": [
    {
     "data": {
      "text/plain": [
       "65"
      ]
     },
     "execution_count": 129,
     "metadata": {},
     "output_type": "execute_result"
    }
   ],
   "source": [
    "len(df['sceneId'].unique())"
   ]
  },
  {
   "cell_type": "code",
   "execution_count": 130,
   "id": "ee53d158",
   "metadata": {},
   "outputs": [],
   "source": [
    "# Install a pip package in the current Jupyter kernel\n",
    "import sys\n",
    "!{sys.executable} -m pip install ipywidgets -q\n",
    "\n",
    "import ipywidgets as widgets\n",
    "from IPython.display import display"
   ]
  },
  {
   "cell_type": "code",
   "execution_count": 131,
   "id": "d15b87a8",
   "metadata": {},
   "outputs": [
    {
     "data": {
      "application/vnd.jupyter.widget-view+json": {
       "model_id": "d0234fd53fd649db85cb7970b9482c6a",
       "version_major": 2,
       "version_minor": 0
      },
      "text/plain": [
       "Dropdown(description='Timeframe:', options=('Day', 'Week', 'Month', 'Year', 'All Time'), value='Day')"
      ]
     },
     "metadata": {},
     "output_type": "display_data"
    },
    {
     "data": {
      "application/vnd.jupyter.widget-view+json": {
       "model_id": "f8c3ba7ee078411387d6fcb6b8b54623",
       "version_major": 2,
       "version_minor": 0
      },
      "text/plain": [
       "Dropdown(description='User ID(s):', options=('All', '2fba20f5-6353-4a69-9bb7-63335250f7f0', '7af8284d-5ebf-4e9…"
      ]
     },
     "metadata": {},
     "output_type": "display_data"
    }
   ],
   "source": [
    "dropdown_timeframe = widgets.Dropdown(\n",
    "       options=['Day', 'Week', 'Month', 'Year', 'All Time'],\n",
    "       description='Timeframe:')\n",
    "\n",
    "a = df['userId'].unique()\n",
    "a = np.append(['All'], a)\n",
    "\n",
    "dropdown_user = widgets.Dropdown(\n",
    "       options=a,\n",
    "       value='All',\n",
    "       description='User ID(s):')\n",
    "       \n",
    "output_widget = widgets.Output()\n",
    "\n",
    "today = dt.datetime.now()\n",
    "timeframe_ago = dt.datetime(1970, 1, 1)\n",
    "\n",
    "\n",
    "def dropdown_timeframe_eventhandler(change):\n",
    "    common_filtering(change.new, dropdown_user.value)\n",
    "\n",
    "def dropdown_user_eventhandler(change):\n",
    "    common_filtering(dropdown_timeframe.value, change.new)\n",
    "    \n",
    "def common_filtering(timeframe, user):\n",
    "    output_widget.clear_output()\n",
    "    \n",
    "    #timeframe\n",
    "    if timeframe == 'Day':\n",
    "        timeframe_ago = dt.datetime(today.year, today.month, day=today.day)\n",
    "    elif timeframe == 'Week':\n",
    "        idx = (today.weekday() + 1) % 7 # MON = 0, SUN = 6 -> SUN = 0 .. SAT = 6\n",
    "        last_sun = today - dt.timedelta(7+idx-6)\n",
    "        timeframe_ago = dt.datetime(last_sun.year, last_sun.month, day=last_sun.day)\n",
    "    elif timeframe == 'Month':\n",
    "        timeframe_ago = dt.datetime(today.year, today.month, day=1)\n",
    "    elif timeframe == 'Year':\n",
    "        timeframe_ago = dt.datetime(today.year, 1, day=1)\n",
    "    else:\n",
    "        timeframe_ago = dt.datetime(1970, 1, 1)\n",
    "    df_processed_timeframed = df_processed.drop(df_processed[df_processed.date < timeframe_ago.date()].index)\n",
    "    df_timeframed = df.drop(df[pd.to_datetime(df.timestamp) < timeframe_ago].index)\n",
    "    df_timeframed['week_number'] = [dt.datetime.strptime(str(d), '%Y-%m-%d %H:%M:%S').isocalendar()[1] for d in df_timeframed['timestamp']]\n",
    "    \n",
    "    #user\n",
    "    df_processed_user_timeframed = df_processed_timeframed\n",
    "    df_user_timeframed = df_timeframed\n",
    "    \n",
    "    if user != 'All':\n",
    "        dftemp = df_processed_timeframed\n",
    "        df_processed_user_timeframed = dftemp.drop(dftemp[dftemp.userId != str(user)].index)\n",
    "        df_user_timeframed = df_timeframed.drop(df_timeframed[df_timeframed.userId != str(user)].index)\n",
    "    \n",
    "    with output_widget:\n",
    "        display(df_processed_user_timeframed)\n",
    "\n",
    "dropdown_timeframe.observe(dropdown_timeframe_eventhandler, names='value')\n",
    "dropdown_user.observe(dropdown_user_eventhandler, names='value')\n",
    "display(dropdown_timeframe)\n",
    "display(dropdown_user)"
   ]
  },
  {
   "cell_type": "code",
   "execution_count": 132,
   "id": "fc9b60bb",
   "metadata": {},
   "outputs": [
    {
     "data": {
      "application/vnd.jupyter.widget-view+json": {
       "model_id": "ed43c49d77304066aad357bd56809a49",
       "version_major": 2,
       "version_minor": 0
      },
      "text/plain": [
       "Output()"
      ]
     },
     "metadata": {},
     "output_type": "display_data"
    }
   ],
   "source": [
    "display(output_widget)"
   ]
  },
  {
   "cell_type": "code",
   "execution_count": null,
   "id": "01609ed5",
   "metadata": {},
   "outputs": [],
   "source": []
  },
  {
   "cell_type": "markdown",
   "id": "d7f257b1",
   "metadata": {},
   "source": [
    "## Activity heatmap"
   ]
  },
  {
   "cell_type": "code",
   "execution_count": 133,
   "id": "0af9a9f9",
   "metadata": {},
   "outputs": [
    {
     "ename": "ModuleNotFoundError",
     "evalue": "No module named 'seaborn'",
     "output_type": "error",
     "traceback": [
      "\u001b[0;31m---------------------------------------------------------------------------\u001b[0m",
      "\u001b[0;31mModuleNotFoundError\u001b[0m                       Traceback (most recent call last)",
      "\u001b[0;32m/var/folders/v9/xyzllgj16mg_0cqxtj83czr40000gp/T/ipykernel_56041/2347032153.py\u001b[0m in \u001b[0;36m<module>\u001b[0;34m\u001b[0m\n\u001b[1;32m      1\u001b[0m \u001b[0;32mfrom\u001b[0m \u001b[0mpandas\u001b[0m \u001b[0;32mimport\u001b[0m \u001b[0mDataFrame\u001b[0m\u001b[0;34m\u001b[0m\u001b[0;34m\u001b[0m\u001b[0m\n\u001b[0;32m----> 2\u001b[0;31m \u001b[0;32mimport\u001b[0m \u001b[0mseaborn\u001b[0m \u001b[0;32mas\u001b[0m \u001b[0msns\u001b[0m\u001b[0;34m\u001b[0m\u001b[0;34m\u001b[0m\u001b[0m\n\u001b[0m\u001b[1;32m      3\u001b[0m \u001b[0;32mimport\u001b[0m \u001b[0mtime\u001b[0m\u001b[0;34m\u001b[0m\u001b[0;34m\u001b[0m\u001b[0m\n",
      "\u001b[0;31mModuleNotFoundError\u001b[0m: No module named 'seaborn'"
     ]
    }
   ],
   "source": [
    "from pandas import DataFrame\n",
    "import seaborn as sns\n",
    "import time"
   ]
  },
  {
   "cell_type": "code",
   "execution_count": null,
   "id": "f764814d",
   "metadata": {},
   "outputs": [],
   "source": [
    "dropdown_timeframe_hm = widgets.Dropdown(\n",
    "       options=['Day', 'Week', 'Month', 'Year', 'All Time'],\n",
    "       description='Timeframe:')\n",
    "\n",
    "a = df['userId'].unique()\n",
    "a = np.append(['All'], a)\n",
    "\n",
    "dropdown_user_hm = widgets.Dropdown(\n",
    "       options=a,\n",
    "       value='All',\n",
    "       description='User ID(s):')\n",
    "       \n",
    "output_heatmap_widget = widgets.Output()\n",
    "\n",
    "today = dt.datetime.now()\n",
    "timeframe_ago = dt.datetime(1970, 1, 1)\n",
    "\n",
    "\n",
    "def dropdown_timeframe_eventhandler_hm(change):\n",
    "    common_filtering_hm(change.new, dropdown_user_hm.value)\n",
    "\n",
    "def dropdown_user_eventhandler_hm(change):\n",
    "    common_filtering_hm(dropdown_timeframe_hm.value, change.new)\n",
    "    \n",
    "def common_filtering_hm(timeframe, user):\n",
    "    output_heatmap_widget.clear_output()\n",
    "    \n",
    "    #timeframe\n",
    "    if timeframe == 'Day':\n",
    "        timeframe_ago = dt.datetime(today.year, today.month, day=today.day)\n",
    "    elif timeframe == 'Week':\n",
    "        idx = (today.weekday() + 1) % 7 # MON = 0, SUN = 6 -> SUN = 0 .. SAT = 6\n",
    "        last_sun = today - dt.timedelta(7+idx-6)\n",
    "        timeframe_ago = dt.datetime(last_sun.year, last_sun.month, day=last_sun.day)\n",
    "    elif timeframe == 'Month':\n",
    "        timeframe_ago = dt.datetime(today.year, today.month, day=1)\n",
    "    elif timeframe == 'Year':\n",
    "        timeframe_ago = dt.datetime(today.year, 1, day=1)\n",
    "    else:\n",
    "        timeframe_ago = dt.datetime(1970, 1, 1)\n",
    "    df_processed_timeframed = df_processed.drop(df_processed[df_processed.date < timeframe_ago.date()].index)\n",
    "    df_timeframed = df.drop(df[pd.to_datetime(df.timestamp) < timeframe_ago].index)\n",
    "    df_timeframed['week_number'] = [dt.datetime.strptime(str(d), '%Y-%m-%d %H:%M:%S').isocalendar()[1] for d in df_timeframed['timestamp']]\n",
    "    \n",
    "    #user\n",
    "    df_processed_user_timeframed = df_processed_timeframed\n",
    "    df_user_timeframed = df_timeframed\n",
    "    \n",
    "    if user != 'All':\n",
    "        dftemp = df_processed_timeframed\n",
    "        df_processed_user_timeframed = dftemp.drop(dftemp[dftemp.userId != str(user)].index)\n",
    "        df_user_timeframed = df_timeframed.drop(df_timeframed[df_timeframed.userId != str(user)].index)\n",
    "    \n",
    "    with output_heatmap_widget:\n",
    "        df_processed_user_timeframed['seconds'] = [d.total_seconds() for d in df_processed_user_timeframed['duration']]\n",
    "        df_processed_groupedbyID = pd.DataFrame({'seconds' : df_processed_user_timeframed.groupby(['week_number', 'weekday'])['seconds'].sum()}).reset_index()\n",
    "        df_heatmap = df_processed_groupedbyID.pivot(index='weekday', columns='week_number', values='seconds')\n",
    "        df_heatmap.index = pd.CategoricalIndex(df_heatmap.index, categories= ['Saturday', 'Monday', 'Tuesday', 'Wednesday', 'Thursday', 'Friday', 'Sunday'])\n",
    "        df_heatmap.sort_index(level=0, inplace=True)\n",
    "\n",
    "        mask = df_heatmap.isnull()\n",
    "        sns.heatmap(df_heatmap, annot=False, fmt=\"g\", cmap='crest', mask=mask)\n",
    "        plt.show()\n",
    "\n",
    "dropdown_timeframe_hm.observe(dropdown_timeframe_eventhandler_hm, names='value')\n",
    "dropdown_user_hm.observe(dropdown_user_eventhandler_hm, names='value')\n",
    "display(dropdown_timeframe_hm)\n",
    "display(dropdown_user_hm)"
   ]
  },
  {
   "cell_type": "code",
   "execution_count": null,
   "id": "255a4a8c",
   "metadata": {},
   "outputs": [],
   "source": [
    "display(output_heatmap_widget)"
   ]
  },
  {
   "cell_type": "code",
   "execution_count": null,
   "id": "6eb484c9",
   "metadata": {},
   "outputs": [],
   "source": []
  },
  {
   "cell_type": "markdown",
   "id": "3b41a943",
   "metadata": {},
   "source": [
    "# Pie chart of time spent in different scenes"
   ]
  },
  {
   "cell_type": "code",
   "execution_count": null,
   "id": "3199d0f7",
   "metadata": {
    "scrolled": false
   },
   "outputs": [],
   "source": [
    "dropdown_timeframe_timespent = widgets.Dropdown(\n",
    "       options=['Day', 'Week', 'Month', 'Year', 'All Time'],\n",
    "       description='Timeframe:')\n",
    "\n",
    "a = df['userId'].unique()\n",
    "a = np.append(['All'], a)\n",
    "\n",
    "dropdown_user_timespent = widgets.Dropdown(\n",
    "       options=a,\n",
    "       value='All',\n",
    "       description='User ID(s):')\n",
    "       \n",
    "output_widget_timespent = widgets.Output()\n",
    "\n",
    "today = dt.datetime(2021, 12, 30) # dt.datetime.now()\n",
    "timeframe_ago = dt.datetime(1970, 1, 1)\n",
    "\n",
    "\n",
    "def dropdown_timeframe_eventhandler_timespent(change):\n",
    "    common_filtering_timespent(change.new, dropdown_user_timespent.value)\n",
    "\n",
    "def dropdown_user_eventhandler_timespent(change):\n",
    "    common_filtering_timespent(dropdown_timeframe_timespent.value, change.new)\n",
    "    \n",
    "def common_filtering_timespent(timeframe, user):\n",
    "    output_widget_timespent.clear_output()\n",
    "    \n",
    "    #timeframe\n",
    "    if timeframe == 'Day':\n",
    "        timeframe_ago = dt.datetime(today.year, today.month, day=today.day)\n",
    "    elif timeframe == 'Week':\n",
    "        idx = (today.weekday()) % 7 # MON = 0, SUN = 6\n",
    "        last_sun = today - dt.timedelta(7+idx-6)\n",
    "        timeframe_ago = dt.datetime(last_sun.year, last_sun.month, day=last_sun.day)\n",
    "    elif timeframe == 'Month':\n",
    "        timeframe_ago = dt.datetime(today.year, today.month, day=1)\n",
    "    elif timeframe == 'Year':\n",
    "        timeframe_ago = dt.datetime(today.year, 1, day=1)\n",
    "    else:\n",
    "        timeframe_ago = dt.datetime(1970, 1, 1)\n",
    "    df_processed_timeframed = df_processed.drop(df_processed[df_processed.date < timeframe_ago.date()].index)\n",
    "    df_timeframed = df.drop(df[pd.to_datetime(df.timestamp) < timeframe_ago].index)\n",
    "    df_timeframed['week_number'] = [dt.datetime.strptime(str(d), '%Y-%m-%d %H:%M:%S').isocalendar()[1] for d in df_timeframed['timestamp']]\n",
    "    \n",
    "    #user\n",
    "    df_processed_user_timeframed = df_processed_timeframed\n",
    "    df_user_timeframed = df_timeframed\n",
    "    \n",
    "    if user != 'All':\n",
    "        dftemp = df_processed_timeframed\n",
    "        df_processed_user_timeframed = dftemp.drop(dftemp[dftemp.userId != str(user)].index)\n",
    "        df_user_timeframed = df_timeframed.drop(df_timeframed[df_timeframed.userId != str(user)].index)\n",
    "    \n",
    "    with output_widget_timespent:\n",
    "        df_sessions = pd.DataFrame({'duration' : df_processed_user_timeframed.groupby( [ \"sceneId\"] )['duration'].sum()}).reset_index()\n",
    "        df_sessions['duration_sec'] = [d.total_seconds() for d in df_sessions['duration']]\n",
    "        df_sessions = df_sessions.sort_values(['duration_sec'])\n",
    "        plot = df_sessions.plot.pie(y='duration_sec', x='sceneId', figsize=(5, 5))\n",
    "        display(df_sessions)\n",
    "\n",
    "dropdown_timeframe_timespent.observe(dropdown_timeframe_eventhandler_timespent, names='value')\n",
    "dropdown_user_timespent.observe(dropdown_user_eventhandler_timespent, names='value')\n",
    "display(dropdown_timeframe_timespent)\n",
    "display(dropdown_user_timespent)"
   ]
  },
  {
   "cell_type": "code",
   "execution_count": null,
   "id": "2b9bbf24",
   "metadata": {},
   "outputs": [],
   "source": [
    "display(output_widget_timespent)"
   ]
  },
  {
   "cell_type": "markdown",
   "id": "d570abfd",
   "metadata": {},
   "source": [
    "### Bar Chart showing how long users spent in sessions"
   ]
  },
  {
   "cell_type": "code",
   "execution_count": 134,
   "id": "9a32dac2",
   "metadata": {},
   "outputs": [
    {
     "data": {
      "application/vnd.jupyter.widget-view+json": {
       "model_id": "404af79b87124d1eb76ab78dbee57197",
       "version_major": 2,
       "version_minor": 0
      },
      "text/plain": [
       "Dropdown(description='Timeframe:', options=('Day', 'Week', 'Month', 'Year', 'All Time'), value='Day')"
      ]
     },
     "metadata": {},
     "output_type": "display_data"
    },
    {
     "data": {
      "application/vnd.jupyter.widget-view+json": {
       "model_id": "ae8d79e6d42e4f4f9f0558afb2d3ef68",
       "version_major": 2,
       "version_minor": 0
      },
      "text/plain": [
       "Dropdown(description='User ID(s):', options=('All', '2fba20f5-6353-4a69-9bb7-63335250f7f0', '7af8284d-5ebf-4e9…"
      ]
     },
     "metadata": {},
     "output_type": "display_data"
    }
   ],
   "source": [
    "dropdown_timeframe_timespentsess = widgets.Dropdown(\n",
    "       options=['Day', 'Week', 'Month', 'Year', 'All Time'],\n",
    "       description='Timeframe:')\n",
    "\n",
    "a = df['userId'].unique()\n",
    "a = np.append(['All'], a)\n",
    "\n",
    "dropdown_user_timespentsess = widgets.Dropdown(\n",
    "       options=a,\n",
    "       value='All',\n",
    "       description='User ID(s):')\n",
    "       \n",
    "output_widget_timespentsess = widgets.Output()\n",
    "\n",
    "today = dt.datetime(2021, 12, 30) # dt.datetime.now()\n",
    "timeframe_ago = dt.datetime(1970, 1, 1)\n",
    "\n",
    "\n",
    "def dropdown_timeframe_eventhandler_timespentsess(change):\n",
    "    common_filtering_timespentsess(change.new, dropdown_user_timespentsess.value)\n",
    "\n",
    "def dropdown_user_eventhandler_timespentsess(change):\n",
    "    common_filtering_timespentsess(dropdown_timeframe_timespentsess.value, change.new)\n",
    "    \n",
    "def common_filtering_timespentsess(timeframe, user):\n",
    "    output_widget_timespentsess.clear_output()\n",
    "    \n",
    "    #timeframe\n",
    "    if timeframe == 'Day':\n",
    "        timeframe_ago = dt.datetime(today.year, today.month, day=today.day)\n",
    "    elif timeframe == 'Week':\n",
    "        idx = (today.weekday() + 1) % 7 # MON = 0, SUN = 6 -> SUN = 0 .. SAT = 6\n",
    "        last_sun = today - dt.timedelta(7+idx-6)\n",
    "        timeframe_ago = dt.datetime(last_sun.year, last_sun.month, day=last_sun.day)\n",
    "    elif timeframe == 'Month':\n",
    "        timeframe_ago = dt.datetime(today.year, today.month, day=1)\n",
    "    elif timeframe == 'Year':\n",
    "        timeframe_ago = dt.datetime(today.year, 1, day=1)\n",
    "    else:\n",
    "        timeframe_ago = dt.datetime(1970, 1, 1)\n",
    "    df_processed_timeframed = df_processed.drop(df_processed[df_processed.date < timeframe_ago.date()].index)\n",
    "    df_timeframed = df.drop(df[pd.to_datetime(df.timestamp) < timeframe_ago].index)\n",
    "    df_timeframed['week_number'] = [dt.datetime.strptime(str(d), '%Y-%m-%d %H:%M:%S').isocalendar()[1] for d in df_timeframed['timestamp']]\n",
    "    \n",
    "    #user\n",
    "    df_processed_user_timeframed = df_processed_timeframed\n",
    "    df_user_timeframed = df_timeframed\n",
    "    \n",
    "    df_processed_timeframed['duration_sec'] = [d.total_seconds() for d in df_processed_timeframed['duration']]\n",
    "    \n",
    "    # for checking unit tests on frontend UI\n",
    "    # df_processed_timeframed = df_processed_timeframed.groupby(['userId']).sum()\n",
    "    # df_processed_timeframed = df_processed_timeframed.sort_values(['duration_sec'])\n",
    "    # print(df_processed_timeframed)\n",
    "    \n",
    "    if user != 'All':\n",
    "        dftemp = df_processed_timeframed\n",
    "        df_processed_user_timeframed = dftemp.drop(dftemp[dftemp.userId != str(user)].index)\n",
    "        df_user_timeframed = df_timeframed.drop(df_timeframed[df_timeframed.userId != str(user)].index)\n",
    "    \n",
    "    with output_widget_timespentsess:\n",
    "        fig = plt.figure()\n",
    "        ax = fig.add_axes([0,0,1,1])\n",
    "        ax.set_ylabel('Time spent in sessions')\n",
    "        ax.set_xlabel('User ID')\n",
    "        ax.bar(df_processed_timeframed['userId'], df_processed_timeframed['duration'])\n",
    "        display(df_processed_timeframed)\n",
    "\n",
    "dropdown_timeframe_timespentsess.observe(dropdown_timeframe_eventhandler_timespentsess, names='value')\n",
    "dropdown_user_timespentsess.observe(dropdown_user_eventhandler_timespentsess, names='value')\n",
    "display(dropdown_timeframe_timespentsess)\n",
    "display(dropdown_user_timespentsess)"
   ]
  },
  {
   "cell_type": "code",
   "execution_count": 135,
   "id": "f203e66c",
   "metadata": {
    "scrolled": false
   },
   "outputs": [
    {
     "data": {
      "application/vnd.jupyter.widget-view+json": {
       "model_id": "f571252da8034086b05f3924c52dd989",
       "version_major": 2,
       "version_minor": 0
      },
      "text/plain": [
       "Output()"
      ]
     },
     "metadata": {},
     "output_type": "display_data"
    }
   ],
   "source": [
    "display(output_widget_timespentsess)"
   ]
  },
  {
   "cell_type": "markdown",
   "id": "93a25026",
   "metadata": {},
   "source": [
    "## Cells to verify unit tests for frontend ui skeleton"
   ]
  },
  {
   "cell_type": "code",
   "execution_count": 136,
   "id": "5c7e00aa",
   "metadata": {
    "scrolled": false
   },
   "outputs": [
    {
     "data": {
      "text/plain": [
       "Series([], Name: duration, dtype: timedelta64[ns])"
      ]
     },
     "execution_count": 136,
     "metadata": {},
     "output_type": "execute_result"
    }
   ],
   "source": [
    "df_processed.loc[df_processed['sceneId'] == '0c6ed35f-e825-47ac-aa10-c8e3f82ce55c']['duration']"
   ]
  },
  {
   "cell_type": "code",
   "execution_count": 137,
   "id": "007838fa",
   "metadata": {},
   "outputs": [
    {
     "data": {
      "text/plain": [
       "Timedelta('0 days 00:00:00')"
      ]
     },
     "execution_count": 137,
     "metadata": {},
     "output_type": "execute_result"
    }
   ],
   "source": [
    "total_duration = df_processed.loc[df_processed['date'] == dt.datetime.now()]['duration'].sum()\n",
    "total_duration"
   ]
  },
  {
   "cell_type": "code",
   "execution_count": 138,
   "id": "c009601b",
   "metadata": {},
   "outputs": [
    {
     "data": {
      "text/plain": [
       "0.0"
      ]
     },
     "execution_count": 138,
     "metadata": {},
     "output_type": "execute_result"
    }
   ],
   "source": [
    "total_hours = total_duration.days * 24 + total_duration.seconds / 3600\n",
    "total_hours"
   ]
  },
  {
   "cell_type": "code",
   "execution_count": 139,
   "id": "c7567966",
   "metadata": {
    "scrolled": false
   },
   "outputs": [
    {
     "ename": "SyntaxError",
     "evalue": "invalid syntax (1553243085.py, line 7)",
     "output_type": "error",
     "traceback": [
      "\u001b[0;36m  File \u001b[0;32m\"/var/folders/v9/xyzllgj16mg_0cqxtj83czr40000gp/T/ipykernel_56041/1553243085.py\"\u001b[0;36m, line \u001b[0;32m7\u001b[0m\n\u001b[0;31m    df_asd\u001b[0m\n\u001b[0m         ^\u001b[0m\n\u001b[0;31mSyntaxError\u001b[0m\u001b[0;31m:\u001b[0m invalid syntax\n"
     ]
    }
   ],
   "source": [
    "# get hours spent per timeframe\n",
    "df_asd = df_processed[['duration', 'date']].copy()\n",
    "df_asd['week'] = pd.DatetimeIndex(df_asd['date']).week\n",
    "df_asd = df_asd.groupby(\"week\").sum()\n",
    "df_asd['duration_secs'] = [(d.days * 24 * 3600 + d.seconds) for d in df_asd['duration']]\n",
    "df_asd['duration_hours'] = [(d / 3600) for d in df_asd['duration_secs']]\\\n",
    "df_asd"
   ]
  },
  {
   "cell_type": "code",
   "execution_count": 140,
   "id": "677fae06",
   "metadata": {},
   "outputs": [
    {
     "data": {
      "text/plain": [
       "10"
      ]
     },
     "execution_count": 140,
     "metadata": {},
     "output_type": "execute_result"
    }
   ],
   "source": [
    "# getting unique usersIDs or sceneIDs\n",
    "df_asd = df_processed[['userId', 'date']].copy()\n",
    "df_asd['week'] = pd.DatetimeIndex(df_asd['date']).week\n",
    "df_asd = df_asd.sort_values('week', ascending=False)\n",
    "df_week = df_asd[df_asd['week'] == 52]\n",
    "len(df_week['userId'].unique())"
   ]
  },
  {
   "cell_type": "code",
   "execution_count": 141,
   "id": "56980170",
   "metadata": {},
   "outputs": [
    {
     "data": {
      "text/html": [
       "<div>\n",
       "<style scoped>\n",
       "    .dataframe tbody tr th:only-of-type {\n",
       "        vertical-align: middle;\n",
       "    }\n",
       "\n",
       "    .dataframe tbody tr th {\n",
       "        vertical-align: top;\n",
       "    }\n",
       "\n",
       "    .dataframe thead th {\n",
       "        text-align: right;\n",
       "    }\n",
       "</style>\n",
       "<table border=\"1\" class=\"dataframe\">\n",
       "  <thead>\n",
       "    <tr style=\"text-align: right;\">\n",
       "      <th></th>\n",
       "      <th>duration</th>\n",
       "      <th>duration_hrs</th>\n",
       "    </tr>\n",
       "    <tr>\n",
       "      <th>userId</th>\n",
       "      <th></th>\n",
       "      <th></th>\n",
       "    </tr>\n",
       "  </thead>\n",
       "  <tbody>\n",
       "    <tr>\n",
       "      <th>73f840f4-6fbd-48b3-80e6-81cb1120ec1e</th>\n",
       "      <td>7 days 14:01:32</td>\n",
       "      <td>182.025556</td>\n",
       "    </tr>\n",
       "    <tr>\n",
       "      <th>60e93cfc-5f74-4d26-8769-42b3858143f8</th>\n",
       "      <td>7 days 10:06:13</td>\n",
       "      <td>178.103611</td>\n",
       "    </tr>\n",
       "    <tr>\n",
       "      <th>6fe32b84-dd79-4fff-981d-5e3afe8c214b</th>\n",
       "      <td>7 days 10:05:43</td>\n",
       "      <td>178.095278</td>\n",
       "    </tr>\n",
       "    <tr>\n",
       "      <th>e39e4015-17ed-4a22-9c3a-751fd3c4f808</th>\n",
       "      <td>7 days 06:49:43</td>\n",
       "      <td>174.828611</td>\n",
       "    </tr>\n",
       "    <tr>\n",
       "      <th>7af8284d-5ebf-4e94-b561-4b92264f78b1</th>\n",
       "      <td>7 days 06:31:06</td>\n",
       "      <td>174.518333</td>\n",
       "    </tr>\n",
       "  </tbody>\n",
       "</table>\n",
       "</div>"
      ],
      "text/plain": [
       "                                            duration  duration_hrs\n",
       "userId                                                            \n",
       "73f840f4-6fbd-48b3-80e6-81cb1120ec1e 7 days 14:01:32    182.025556\n",
       "60e93cfc-5f74-4d26-8769-42b3858143f8 7 days 10:06:13    178.103611\n",
       "6fe32b84-dd79-4fff-981d-5e3afe8c214b 7 days 10:05:43    178.095278\n",
       "e39e4015-17ed-4a22-9c3a-751fd3c4f808 7 days 06:49:43    174.828611\n",
       "7af8284d-5ebf-4e94-b561-4b92264f78b1 7 days 06:31:06    174.518333"
      ]
     },
     "execution_count": 141,
     "metadata": {},
     "output_type": "execute_result"
    }
   ],
   "source": [
    "df_asd = df_processed[['userId', 'duration']].copy()\n",
    "df_asd = df_asd.groupby(\"userId\").sum()\n",
    "df_asd['duration_hrs'] = [((d.days * 24 * 3600 + d.seconds) / 3600) for d in df_asd['duration']]\n",
    "df_asd = df_asd.sort_values('duration_hrs', ascending=False)\n",
    "df_asd.head()"
   ]
  },
  {
   "cell_type": "code",
   "execution_count": 142,
   "id": "86573e8a",
   "metadata": {
    "scrolled": true
   },
   "outputs": [
    {
     "data": {
      "text/html": [
       "<div>\n",
       "<style scoped>\n",
       "    .dataframe tbody tr th:only-of-type {\n",
       "        vertical-align: middle;\n",
       "    }\n",
       "\n",
       "    .dataframe tbody tr th {\n",
       "        vertical-align: top;\n",
       "    }\n",
       "\n",
       "    .dataframe thead th {\n",
       "        text-align: right;\n",
       "    }\n",
       "</style>\n",
       "<table border=\"1\" class=\"dataframe\">\n",
       "  <thead>\n",
       "    <tr style=\"text-align: right;\">\n",
       "      <th></th>\n",
       "      <th>sceneId</th>\n",
       "      <th>type</th>\n",
       "      <th>date</th>\n",
       "    </tr>\n",
       "    <tr>\n",
       "      <th>month</th>\n",
       "      <th></th>\n",
       "      <th></th>\n",
       "      <th></th>\n",
       "    </tr>\n",
       "  </thead>\n",
       "  <tbody>\n",
       "    <tr>\n",
       "      <th>10</th>\n",
       "      <td>20</td>\n",
       "      <td>1</td>\n",
       "      <td>20</td>\n",
       "    </tr>\n",
       "    <tr>\n",
       "      <th>11</th>\n",
       "      <td>22</td>\n",
       "      <td>1</td>\n",
       "      <td>22</td>\n",
       "    </tr>\n",
       "    <tr>\n",
       "      <th>12</th>\n",
       "      <td>23</td>\n",
       "      <td>1</td>\n",
       "      <td>23</td>\n",
       "    </tr>\n",
       "  </tbody>\n",
       "</table>\n",
       "</div>"
      ],
      "text/plain": [
       "       sceneId  type  date\n",
       "month                     \n",
       "10          20     1    20\n",
       "11          22     1    22\n",
       "12          23     1    23"
      ]
     },
     "execution_count": 142,
     "metadata": {},
     "output_type": "execute_result"
    }
   ],
   "source": [
    "df_scenes_grouped = df_processed[['sceneId', 'type', 'date']].copy()\n",
    "\n",
    "df_scenes_grouped['month'] = [d.month for d in df_scenes_grouped['date']]\n",
    "\n",
    "df_scenes_grouped = df_scenes_grouped.groupby('month').nunique()\n",
    "df_scenes_grouped"
   ]
  },
  {
   "cell_type": "code",
   "execution_count": 143,
   "id": "3523a55b",
   "metadata": {},
   "outputs": [
    {
     "data": {
      "text/html": [
       "<div>\n",
       "<style scoped>\n",
       "    .dataframe tbody tr th:only-of-type {\n",
       "        vertical-align: middle;\n",
       "    }\n",
       "\n",
       "    .dataframe tbody tr th {\n",
       "        vertical-align: top;\n",
       "    }\n",
       "\n",
       "    .dataframe thead th {\n",
       "        text-align: right;\n",
       "    }\n",
       "</style>\n",
       "<table border=\"1\" class=\"dataframe\">\n",
       "  <thead>\n",
       "    <tr style=\"text-align: right;\">\n",
       "      <th></th>\n",
       "      <th>userId</th>\n",
       "      <th>date</th>\n",
       "    </tr>\n",
       "    <tr>\n",
       "      <th>month</th>\n",
       "      <th></th>\n",
       "      <th></th>\n",
       "    </tr>\n",
       "  </thead>\n",
       "  <tbody>\n",
       "    <tr>\n",
       "      <th>10</th>\n",
       "      <td>10</td>\n",
       "      <td>20</td>\n",
       "    </tr>\n",
       "    <tr>\n",
       "      <th>11</th>\n",
       "      <td>10</td>\n",
       "      <td>22</td>\n",
       "    </tr>\n",
       "    <tr>\n",
       "      <th>12</th>\n",
       "      <td>10</td>\n",
       "      <td>23</td>\n",
       "    </tr>\n",
       "  </tbody>\n",
       "</table>\n",
       "</div>"
      ],
      "text/plain": [
       "       userId  date\n",
       "month              \n",
       "10         10    20\n",
       "11         10    22\n",
       "12         10    23"
      ]
     },
     "execution_count": 143,
     "metadata": {},
     "output_type": "execute_result"
    }
   ],
   "source": [
    "df_scenes_grouped = df_processed[['userId', 'date']].copy()\n",
    "\n",
    "df_scenes_grouped['month'] = [d.month for d in df_scenes_grouped['date']]\n",
    "\n",
    "df_scenes_grouped = df_scenes_grouped.groupby('month').nunique()\n",
    "df_scenes_grouped"
   ]
  },
  {
   "cell_type": "code",
   "execution_count": 144,
   "id": "53f788b1",
   "metadata": {},
   "outputs": [
    {
     "data": {
      "text/html": [
       "<div>\n",
       "<style scoped>\n",
       "    .dataframe tbody tr th:only-of-type {\n",
       "        vertical-align: middle;\n",
       "    }\n",
       "\n",
       "    .dataframe tbody tr th {\n",
       "        vertical-align: top;\n",
       "    }\n",
       "\n",
       "    .dataframe thead th {\n",
       "        text-align: right;\n",
       "    }\n",
       "</style>\n",
       "<table border=\"1\" class=\"dataframe\">\n",
       "  <thead>\n",
       "    <tr style=\"text-align: right;\">\n",
       "      <th></th>\n",
       "      <th>duration_hrs</th>\n",
       "    </tr>\n",
       "    <tr>\n",
       "      <th>month</th>\n",
       "      <th></th>\n",
       "    </tr>\n",
       "  </thead>\n",
       "  <tbody>\n",
       "    <tr>\n",
       "      <th>10</th>\n",
       "      <td>517.041389</td>\n",
       "    </tr>\n",
       "    <tr>\n",
       "      <th>11</th>\n",
       "      <td>586.851667</td>\n",
       "    </tr>\n",
       "    <tr>\n",
       "      <th>12</th>\n",
       "      <td>599.359167</td>\n",
       "    </tr>\n",
       "  </tbody>\n",
       "</table>\n",
       "</div>"
      ],
      "text/plain": [
       "       duration_hrs\n",
       "month              \n",
       "10       517.041389\n",
       "11       586.851667\n",
       "12       599.359167"
      ]
     },
     "execution_count": 144,
     "metadata": {},
     "output_type": "execute_result"
    }
   ],
   "source": [
    "df_scenes_grouped = df_processed[['duration', 'date']].copy()\n",
    "\n",
    "df_scenes_grouped['month'] = [d.month for d in df_scenes_grouped['date']]\n",
    "df_scenes_grouped['duration_hrs'] = [((d.days * 24 * 3600 + d.seconds) / 3600) for d in df_scenes_grouped['duration']]\n",
    "\n",
    "df_scenes_grouped = df_scenes_grouped.groupby('month').sum()\n",
    "df_scenes_grouped"
   ]
  },
  {
   "cell_type": "markdown",
   "id": "75a21771",
   "metadata": {},
   "source": [
    "## Show ratings of users\n"
   ]
  },
  {
   "cell_type": "code",
   "execution_count": 145,
   "id": "2508693f",
   "metadata": {},
   "outputs": [
    {
     "data": {
      "application/vnd.jupyter.widget-view+json": {
       "model_id": "f2b5c20ae3854727833176b2bf88c6ba",
       "version_major": 2,
       "version_minor": 0
      },
      "text/plain": [
       "Dropdown(description='Timeframe:', options=('Day', 'Week', 'Month', 'Year', 'All Time'), value='Day')"
      ]
     },
     "metadata": {},
     "output_type": "display_data"
    },
    {
     "data": {
      "application/vnd.jupyter.widget-view+json": {
       "model_id": "eabfabc66901474aae23754dedcffd77",
       "version_major": 2,
       "version_minor": 0
      },
      "text/plain": [
       "Dropdown(description='User ID(s):', options=('All', '2fba20f5-6353-4a69-9bb7-63335250f7f0', '7af8284d-5ebf-4e9…"
      ]
     },
     "metadata": {},
     "output_type": "display_data"
    }
   ],
   "source": [
    "dropdown_timeframe_ratings = widgets.Dropdown(\n",
    "       options=['Day', 'Week', 'Month', 'Year', 'All Time'],\n",
    "       description='Timeframe:')\n",
    "\n",
    "a = df['userId'].unique()\n",
    "a = np.append(['All'], a)\n",
    "\n",
    "dropdown_user_ratings = widgets.Dropdown(\n",
    "       options=a,\n",
    "       value='All',\n",
    "       description='User ID(s):')\n",
    "       \n",
    "output_widget_ratings = widgets.Output()\n",
    "\n",
    "today = dt.datetime.now()\n",
    "timeframe_ago = dt.datetime(1970, 1, 1)\n",
    "\n",
    "\n",
    "def dropdown_timeframe_eventhandler_ratings(change):\n",
    "    common_filtering_ratings(change.new, dropdown_user_ratings.value)\n",
    "\n",
    "def dropdown_user_eventhandler_ratings(change):\n",
    "    common_filtering_ratings(dropdown_timeframe_ratings.value, change.new)\n",
    "    \n",
    "def common_filtering_ratings(timeframe, user):\n",
    "    output_widget_ratings.clear_output()\n",
    "    \n",
    "    #timeframe\n",
    "    if timeframe == 'Day':\n",
    "        timeframe_ago = dt.datetime(today.year, today.month, day=today.day)\n",
    "    elif timeframe == 'Week':\n",
    "        idx = (today.weekday() + 1) % 7 # MON = 0, SUN = 6 -> SUN = 0 .. SAT = 6\n",
    "        last_sun = today - dt.timedelta(7+idx-6)\n",
    "        timeframe_ago = dt.datetime(last_sun.year, last_sun.month, day=last_sun.day)\n",
    "    elif timeframe == 'Month':\n",
    "        timeframe_ago = dt.datetime(today.year, today.month, day=1)\n",
    "    elif timeframe == 'Year':\n",
    "        timeframe_ago = dt.datetime(today.year, 1, day=1)\n",
    "    else:\n",
    "        timeframe_ago = dt.datetime(1970, 1, 1)\n",
    "    df_processed_timeframed = df_processed.drop(df_processed[df_processed.date < timeframe_ago.date()].index)\n",
    "    df_timeframed = df.drop(df[pd.to_datetime(df.timestamp) < timeframe_ago].index)\n",
    "    df_timeframed['week_number'] = [dt.datetime.strptime(str(d), '%Y-%m-%d %H:%M:%S').isocalendar()[1] for d in df_timeframed['timestamp']]\n",
    "    \n",
    "    #user\n",
    "    df_processed_user_timeframed = df_processed_timeframed\n",
    "    df_user_timeframed = df_timeframed\n",
    "    \n",
    "    if user != 'All':\n",
    "        dftemp = df_processed_timeframed\n",
    "        df_processed_user_timeframed = dftemp.drop(dftemp[dftemp.userId != str(user)].index)\n",
    "        df_user_timeframed = df_timeframed.drop(df_timeframed[df_timeframed.userId != str(user)].index)\n",
    "    \n",
    "    with output_widget_ratings:\n",
    "        df_rating = df_user_timeframed.drop(df_user_timeframed[df_user_timeframed['type'] != \"CORE_SCENE_RATE\"].index)\n",
    "        df_rating['data_str'] = [ast.literal_eval(str(d)) for d in df_rating['data']]\n",
    "        df_rating['ratingValue'] = [d['ratingValue'] for d in df_rating['data_str']]\n",
    "        df_rating['ratingCategory'] = [d['ratingCategory'] for d in df_rating['data_str']]\n",
    "        df_rating = df_rating.drop('data', axis=1)\n",
    "        df_rating = df_rating.drop('data_str', axis=1)\n",
    "        df_rating_grouped = pd.DataFrame({'temp' : df_rating.groupby([\"ratingValue\"])['type']}).reset_index()\n",
    "        df_rating_grouped['count'] = [len(d[1]) for d in df_rating_grouped['temp']]\n",
    "        df_rating_grouped = df_rating_grouped.drop('temp', axis=1)\n",
    "        df_rating_grouped.columns = ['ratingValue', 'count']\n",
    "        plot = df_rating_grouped.plot.pie(y='count', figsize=(5, 5))\n",
    "        display(plot)\n",
    "\n",
    "dropdown_timeframe_ratings.observe(dropdown_timeframe_eventhandler_ratings, names='value')\n",
    "dropdown_user_ratings.observe(dropdown_user_eventhandler_ratings, names='value')\n",
    "display(dropdown_timeframe_ratings)\n",
    "display(dropdown_user_ratings)"
   ]
  },
  {
   "cell_type": "markdown",
   "id": "5369dd76",
   "metadata": {},
   "source": [
    "# Histograms"
   ]
  },
  {
   "cell_type": "markdown",
   "id": "f9010352",
   "metadata": {},
   "source": [
    "## Histogram showing concurrent users throughout an average day"
   ]
  },
  {
   "cell_type": "code",
   "execution_count": 146,
   "id": "7e2a1818",
   "metadata": {},
   "outputs": [
    {
     "data": {
      "application/vnd.jupyter.widget-view+json": {
       "model_id": "46974c65441c4c93a111c0be59ff1161",
       "version_major": 2,
       "version_minor": 0
      },
      "text/plain": [
       "Dropdown(description='Timeframe:', options=('Day', 'Week', 'Month', 'Year', 'All Time'), value='Day')"
      ]
     },
     "metadata": {},
     "output_type": "display_data"
    },
    {
     "data": {
      "application/vnd.jupyter.widget-view+json": {
       "model_id": "9210ead499a74d84b0f0d4d7d11b72ac",
       "version_major": 2,
       "version_minor": 0
      },
      "text/plain": [
       "Dropdown(description='User ID(s):', options=('All', '2fba20f5-6353-4a69-9bb7-63335250f7f0', '7af8284d-5ebf-4e9…"
      ]
     },
     "metadata": {},
     "output_type": "display_data"
    }
   ],
   "source": [
    "dropdown_timeframe_hist = widgets.Dropdown(\n",
    "       options=['Day', 'Week', 'Month', 'Year', 'All Time'],\n",
    "       description='Timeframe:')\n",
    "\n",
    "a = df['userId'].unique()\n",
    "a = np.append(['All'], a)\n",
    "\n",
    "dropdown_user_hist = widgets.Dropdown(\n",
    "       options=a,\n",
    "       value='All',\n",
    "       description='User ID(s):')\n",
    "       \n",
    "output_widget_hist = widgets.Output()\n",
    "\n",
    "today = dt.datetime.now()\n",
    "timeframe_ago = dt.datetime(1970, 1, 1)\n",
    "\n",
    "\n",
    "def dropdown_timeframe_eventhandler_hist(change):\n",
    "    common_filtering_hist(change.new, dropdown_user_hist.value)\n",
    "\n",
    "def dropdown_user_eventhandler_hist(change):\n",
    "    common_filtering_hist(dropdown_timeframe_hist.value, change.new)\n",
    "    \n",
    "def get_times_active(row):\n",
    "    end = row['time'].hour\n",
    "    start = row['time'].hour - row['duration'].seconds//3600\n",
    "    return_set = set()\n",
    "    for i in range(end - start + 1):\n",
    "        return_set.add(str(start + i))\n",
    "    return return_set\n",
    "\n",
    "def common_filtering_hist(timeframe, user):\n",
    "    output_widget_hist.clear_output()\n",
    "    \n",
    "    #timeframe\n",
    "    if timeframe == 'Day':\n",
    "        timeframe_ago = dt.datetime(today.year, today.month, day=today.day)\n",
    "    elif timeframe == 'Week':\n",
    "        idx = (today.weekday() + 1) % 7 # MON = 0, SUN = 6 -> SUN = 0 .. SAT = 6\n",
    "        last_sun = today - dt.timedelta(7+idx-6)\n",
    "        timeframe_ago = dt.datetime(last_sun.year, last_sun.month, day=last_sun.day)\n",
    "    elif timeframe == 'Month':\n",
    "        timeframe_ago = dt.datetime(today.year, today.month, day=1)\n",
    "    elif timeframe == 'Year':\n",
    "        timeframe_ago = dt.datetime(today.year, 1, day=1)\n",
    "    else:\n",
    "        timeframe_ago = dt.datetime(1970, 1, 1)\n",
    "    df_processed_timeframed = df_processed.drop(df_processed[df_processed.date < timeframe_ago.date()].index)\n",
    "    df_timeframed = df.drop(df[pd.to_datetime(df.timestamp) < timeframe_ago].index)\n",
    "    df_timeframed['week_number'] = [dt.datetime.strptime(str(d), '%Y-%m-%d %H:%M:%S').isocalendar()[1] for d in df_timeframed['timestamp']]\n",
    "    \n",
    "    #user\n",
    "    df_processed_user_timeframed = df_processed_timeframed\n",
    "    df_user_timeframed = df_timeframed\n",
    "    \n",
    "    if user != 'All':\n",
    "        dftemp = df_processed_timeframed\n",
    "        df_processed_user_timeframed = dftemp.drop(dftemp[dftemp.userId != str(user)].index)\n",
    "        df_user_timeframed = df_timeframed.drop(df_timeframed[df_timeframed.userId != str(user)].index)\n",
    "    \n",
    "    with output_widget_hist:\n",
    "        df_processed_user_timeframed['hours_active'] = df_processed_user_timeframed.apply(get_times_active, axis=1) \n",
    "        df_pre_fri_hist = df_processed_user_timeframed.loc[df_processed_user_timeframed['weekday'] == 'Monday']\n",
    "        \n",
    "        data_for_hist = {}\n",
    "            \n",
    "        count = 0\n",
    "        for times in df_pre_fri_hist['hours_active']:\n",
    "            for time in times:\n",
    "                data_for_hist[count] = float(time)\n",
    "                count += 1\n",
    "\n",
    "        df_fri_hist = pd.DataFrame(data_for_hist, index = [0])\n",
    "        df_fri_hist = df_fri_hist.reindex(sorted(df_fri_hist.columns), axis=1)\n",
    "        \n",
    "        axarr = df_fri_hist.transpose().hist(bins=6)\n",
    "\n",
    "        for ax in axarr.flatten():\n",
    "            ax.set_xlabel(\"Time of day (24hr clock)\")\n",
    "            ax.set_ylabel(\"Concurrent Users\")\n",
    "        \n",
    "        display(axarr)\n",
    "\n",
    "\n",
    "dropdown_timeframe_hist.observe(dropdown_timeframe_eventhandler_hist, names='value')\n",
    "dropdown_user_hist.observe(dropdown_user_eventhandler_hist, names='value')\n",
    "display(dropdown_timeframe_hist)\n",
    "display(dropdown_user_hist)"
   ]
  },
  {
   "cell_type": "code",
   "execution_count": 147,
   "id": "84dec565",
   "metadata": {
    "scrolled": true
   },
   "outputs": [
    {
     "data": {
      "application/vnd.jupyter.widget-view+json": {
       "model_id": "04f8e22ff8c44bed8ce79d5aa91ccc4b",
       "version_major": 2,
       "version_minor": 0
      },
      "text/plain": [
       "Output()"
      ]
     },
     "metadata": {},
     "output_type": "display_data"
    }
   ],
   "source": [
    "display(output_widget_hist)"
   ]
  },
  {
   "cell_type": "markdown",
   "id": "2d78fd1e",
   "metadata": {},
   "source": [
    "## Histogram showing length of sessions"
   ]
  },
  {
   "cell_type": "code",
   "execution_count": 148,
   "id": "5e8b220a",
   "metadata": {},
   "outputs": [
    {
     "data": {
      "application/vnd.jupyter.widget-view+json": {
       "model_id": "6fdb95b4313b4146ad9f7005c950565d",
       "version_major": 2,
       "version_minor": 0
      },
      "text/plain": [
       "Dropdown(description='Timeframe:', options=('Day', 'Week', 'Month', 'Year', 'All Time'), value='Day')"
      ]
     },
     "metadata": {},
     "output_type": "display_data"
    },
    {
     "data": {
      "application/vnd.jupyter.widget-view+json": {
       "model_id": "2f96c33c74ce443ebaecb5699a4bc394",
       "version_major": 2,
       "version_minor": 0
      },
      "text/plain": [
       "Dropdown(description='User ID(s):', options=('All', '2fba20f5-6353-4a69-9bb7-63335250f7f0', '7af8284d-5ebf-4e9…"
      ]
     },
     "metadata": {},
     "output_type": "display_data"
    }
   ],
   "source": [
    "dropdown_timeframe_histsess = widgets.Dropdown(\n",
    "       options=['Day', 'Week', 'Month', 'Year', 'All Time'],\n",
    "       description='Timeframe:')\n",
    "\n",
    "a = df['userId'].unique()\n",
    "a = np.append(['All'], a)\n",
    "\n",
    "dropdown_user_histsess = widgets.Dropdown(\n",
    "       options=a,\n",
    "       value='All',\n",
    "       description='User ID(s):')\n",
    "       \n",
    "output_widget_histsess = widgets.Output()\n",
    "\n",
    "today = dt.datetime.now()\n",
    "timeframe_ago = dt.datetime(1970, 1, 1)\n",
    "\n",
    "\n",
    "def dropdown_timeframe_eventhandler_histsess(change):\n",
    "    common_filtering_histsess(change.new, dropdown_user_histsess.value)\n",
    "\n",
    "def dropdown_user_eventhandler_histsess(change):\n",
    "    common_filtering_histsess(dropdown_timeframe_histsess.value, change.new)\n",
    "    \n",
    "def common_filtering_histsess(timeframe, user):\n",
    "    output_widget_histsess.clear_output()\n",
    "    \n",
    "    #timeframe\n",
    "    if timeframe == 'Day':\n",
    "        timeframe_ago = dt.datetime(today.year, today.month, day=today.day)\n",
    "    elif timeframe == 'Week':\n",
    "        idx = (today.weekday() + 1) % 7 # MON = 0, SUN = 6 -> SUN = 0 .. SAT = 6\n",
    "        last_sun = today - dt.timedelta(7+idx-6)\n",
    "        timeframe_ago = dt.datetime(last_sun.year, last_sun.month, day=last_sun.day)\n",
    "    elif timeframe == 'Month':\n",
    "        timeframe_ago = dt.datetime(today.year, today.month, day=1)\n",
    "    elif timeframe == 'Year':\n",
    "        timeframe_ago = dt.datetime(today.year, 1, day=1)\n",
    "    else:\n",
    "        timeframe_ago = dt.datetime(1970, 1, 1)\n",
    "    df_processed_timeframed = df_processed.drop(df_processed[df_processed.date < timeframe_ago.date()].index)\n",
    "    df_timeframed = df.drop(df[pd.to_datetime(df.timestamp) < timeframe_ago].index)\n",
    "    df_timeframed['week_number'] = [dt.datetime.strptime(str(d), '%Y-%m-%d %H:%M:%S').isocalendar()[1] for d in df_timeframed['timestamp']]\n",
    "    \n",
    "    #user\n",
    "    df_processed_user_timeframed = df_processed_timeframed\n",
    "    df_user_timeframed = df_timeframed\n",
    "    \n",
    "    if user != 'All':\n",
    "        dftemp = df_processed_timeframed\n",
    "        df_processed_user_timeframed = dftemp.drop(dftemp[dftemp.userId != str(user)].index)\n",
    "        df_user_timeframed = df_timeframed.drop(df_timeframed[df_timeframed.userId != str(user)].index)\n",
    "    \n",
    "    with output_widget_histsess:\n",
    "        df_sesh_len_hist = df_processed_user_timeframed[['duration']].copy()\n",
    "        df_sesh_len_hist['minutes'] = [d.total_seconds()/60 for d in df_processed_user_timeframed['duration']]\n",
    "        df_min_hist = df_sesh_len_hist[['minutes']].copy()\n",
    "        axarr = df_min_hist.hist(bins=6)\n",
    "\n",
    "        for ax in axarr.flatten():\n",
    "            ax.set_xlabel(\"Length of session (minutes)\")\n",
    "            ax.set_ylabel(\"Number of sessions\")\n",
    "        \n",
    "        display(axarr)\n",
    "\n",
    "dropdown_timeframe_histsess.observe(dropdown_timeframe_eventhandler_histsess, names='value')\n",
    "dropdown_user_histsess.observe(dropdown_user_eventhandler_histsess, names='value')\n",
    "display(dropdown_timeframe_histsess)\n",
    "display(dropdown_user_histsess)"
   ]
  },
  {
   "cell_type": "markdown",
   "id": "4fcca8da",
   "metadata": {},
   "source": [
    "## Radar graph showing average ratings for each category"
   ]
  },
  {
   "cell_type": "code",
   "execution_count": 158,
   "id": "bd4cf070",
   "metadata": {
    "scrolled": false
   },
   "outputs": [
    {
     "data": {
      "application/vnd.jupyter.widget-view+json": {
       "model_id": "4a4241df75f1407d864aae892c904fab",
       "version_major": 2,
       "version_minor": 0
      },
      "text/plain": [
       "Dropdown(description='Timeframe:', options=('Day', 'Week', 'Month', 'Year', 'All Time'), value='Day')"
      ]
     },
     "metadata": {},
     "output_type": "display_data"
    },
    {
     "data": {
      "application/vnd.jupyter.widget-view+json": {
       "model_id": "23dd1d64e5cf42a59de315991aada250",
       "version_major": 2,
       "version_minor": 0
      },
      "text/plain": [
       "Dropdown(description='User ID(s):', options=('All', '2fba20f5-6353-4a69-9bb7-63335250f7f0', '7af8284d-5ebf-4e9…"
      ]
     },
     "metadata": {},
     "output_type": "display_data"
    },
    {
     "name": "stdout",
     "output_type": "stream",
     "text": [
      "                                                  type  \\\n",
      "id                                                       \n",
      "d748824d-6c47-4764-830a-c978b9645f56   CORE_SCENE_JOIN   \n",
      "f3a14f16-687f-4963-b6e5-aecabc7979c5  CORE_SCENE_LEAVE   \n",
      "eb66e428-f890-43ce-ba4b-d2bb672f2634   CORE_SCENE_JOIN   \n",
      "7e8a603c-97e8-4fd1-baa8-b69b7a0fd3a7  CORE_SCENE_LEAVE   \n",
      "693871dd-70f8-4ab4-a305-9e0adf5f7e79   CORE_SCENE_RATE   \n",
      "...                                                ...   \n",
      "ab9f4f05-3af7-4f3d-886b-ad3b2bf4b4b5   CORE_SCENE_JOIN   \n",
      "cb241852-7337-413e-8fef-5958cad8ddc1  CORE_SCENE_LEAVE   \n",
      "f7fab08e-22c7-4b27-bb3b-c46e1987847d   CORE_SCENE_JOIN   \n",
      "a501b3ba-3b8b-4f94-8b41-0ba1c7b8457f  CORE_SCENE_LEAVE   \n",
      "4173505a-d781-4b6c-a829-5e25219fb245   CORE_SCENE_RATE   \n",
      "\n",
      "                                                                    userId  \\\n",
      "id                                                                           \n",
      "d748824d-6c47-4764-830a-c978b9645f56  2fba20f5-6353-4a69-9bb7-63335250f7f0   \n",
      "f3a14f16-687f-4963-b6e5-aecabc7979c5  2fba20f5-6353-4a69-9bb7-63335250f7f0   \n",
      "eb66e428-f890-43ce-ba4b-d2bb672f2634  7af8284d-5ebf-4e94-b561-4b92264f78b1   \n",
      "7e8a603c-97e8-4fd1-baa8-b69b7a0fd3a7  7af8284d-5ebf-4e94-b561-4b92264f78b1   \n",
      "693871dd-70f8-4ab4-a305-9e0adf5f7e79  7af8284d-5ebf-4e94-b561-4b92264f78b1   \n",
      "...                                                                    ...   \n",
      "ab9f4f05-3af7-4f3d-886b-ad3b2bf4b4b5  60e93cfc-5f74-4d26-8769-42b3858143f8   \n",
      "cb241852-7337-413e-8fef-5958cad8ddc1  60e93cfc-5f74-4d26-8769-42b3858143f8   \n",
      "f7fab08e-22c7-4b27-bb3b-c46e1987847d  e39e4015-17ed-4a22-9c3a-751fd3c4f808   \n",
      "a501b3ba-3b8b-4f94-8b41-0ba1c7b8457f  e39e4015-17ed-4a22-9c3a-751fd3c4f808   \n",
      "4173505a-d781-4b6c-a829-5e25219fb245  e39e4015-17ed-4a22-9c3a-751fd3c4f808   \n",
      "\n",
      "                                                                   sceneId  \\\n",
      "id                                                                           \n",
      "d748824d-6c47-4764-830a-c978b9645f56  7e7f60ce-4c8e-4d9e-b1a0-500f68b9c999   \n",
      "f3a14f16-687f-4963-b6e5-aecabc7979c5  7e7f60ce-4c8e-4d9e-b1a0-500f68b9c999   \n",
      "eb66e428-f890-43ce-ba4b-d2bb672f2634  7e7f60ce-4c8e-4d9e-b1a0-500f68b9c999   \n",
      "7e8a603c-97e8-4fd1-baa8-b69b7a0fd3a7  7e7f60ce-4c8e-4d9e-b1a0-500f68b9c999   \n",
      "693871dd-70f8-4ab4-a305-9e0adf5f7e79  7e7f60ce-4c8e-4d9e-b1a0-500f68b9c999   \n",
      "...                                                                    ...   \n",
      "ab9f4f05-3af7-4f3d-886b-ad3b2bf4b4b5  40100e02-dea1-4910-b6fe-19c8f79f7c1a   \n",
      "cb241852-7337-413e-8fef-5958cad8ddc1  40100e02-dea1-4910-b6fe-19c8f79f7c1a   \n",
      "f7fab08e-22c7-4b27-bb3b-c46e1987847d  40100e02-dea1-4910-b6fe-19c8f79f7c1a   \n",
      "a501b3ba-3b8b-4f94-8b41-0ba1c7b8457f  40100e02-dea1-4910-b6fe-19c8f79f7c1a   \n",
      "4173505a-d781-4b6c-a829-5e25219fb245  40100e02-dea1-4910-b6fe-19c8f79f7c1a   \n",
      "\n",
      "                                                timestamp  \\\n",
      "id                                                          \n",
      "d748824d-6c47-4764-830a-c978b9645f56  2021-12-01 10:41:08   \n",
      "f3a14f16-687f-4963-b6e5-aecabc7979c5  2021-12-01 13:18:04   \n",
      "eb66e428-f890-43ce-ba4b-d2bb672f2634  2021-12-01 11:36:25   \n",
      "7e8a603c-97e8-4fd1-baa8-b69b7a0fd3a7  2021-12-01 13:42:53   \n",
      "693871dd-70f8-4ab4-a305-9e0adf5f7e79  2021-12-01 13:43:58   \n",
      "...                                                   ...   \n",
      "ab9f4f05-3af7-4f3d-886b-ad3b2bf4b4b5  2021-12-31 12:13:31   \n",
      "cb241852-7337-413e-8fef-5958cad8ddc1  2021-12-31 13:42:12   \n",
      "f7fab08e-22c7-4b27-bb3b-c46e1987847d  2021-12-31 10:51:55   \n",
      "a501b3ba-3b8b-4f94-8b41-0ba1c7b8457f  2021-12-31 13:00:59   \n",
      "4173505a-d781-4b6c-a829-5e25219fb245  2021-12-31 13:02:56   \n",
      "\n",
      "                                                                               data  \\\n",
      "id                                                                                    \n",
      "d748824d-6c47-4764-830a-c978b9645f56  {'ratingValue': None, 'ratingCategory': None}   \n",
      "f3a14f16-687f-4963-b6e5-aecabc7979c5  {'ratingValue': None, 'ratingCategory': None}   \n",
      "eb66e428-f890-43ce-ba4b-d2bb672f2634  {'ratingValue': None, 'ratingCategory': None}   \n",
      "7e8a603c-97e8-4fd1-baa8-b69b7a0fd3a7  {'ratingValue': None, 'ratingCategory': None}   \n",
      "693871dd-70f8-4ab4-a305-9e0adf5f7e79   {'ratingValue': 3, 'ratingCategory': 'Cat5'}   \n",
      "...                                                                             ...   \n",
      "ab9f4f05-3af7-4f3d-886b-ad3b2bf4b4b5  {'ratingValue': None, 'ratingCategory': None}   \n",
      "cb241852-7337-413e-8fef-5958cad8ddc1  {'ratingValue': None, 'ratingCategory': None}   \n",
      "f7fab08e-22c7-4b27-bb3b-c46e1987847d  {'ratingValue': None, 'ratingCategory': None}   \n",
      "a501b3ba-3b8b-4f94-8b41-0ba1c7b8457f  {'ratingValue': None, 'ratingCategory': None}   \n",
      "4173505a-d781-4b6c-a829-5e25219fb245   {'ratingValue': 0, 'ratingCategory': 'Chat'}   \n",
      "\n",
      "                                      week_number  \n",
      "id                                                 \n",
      "d748824d-6c47-4764-830a-c978b9645f56           48  \n",
      "f3a14f16-687f-4963-b6e5-aecabc7979c5           48  \n",
      "eb66e428-f890-43ce-ba4b-d2bb672f2634           48  \n",
      "7e8a603c-97e8-4fd1-baa8-b69b7a0fd3a7           48  \n",
      "693871dd-70f8-4ab4-a305-9e0adf5f7e79           48  \n",
      "...                                           ...  \n",
      "ab9f4f05-3af7-4f3d-886b-ad3b2bf4b4b5           52  \n",
      "cb241852-7337-413e-8fef-5958cad8ddc1           52  \n",
      "f7fab08e-22c7-4b27-bb3b-c46e1987847d           52  \n",
      "a501b3ba-3b8b-4f94-8b41-0ba1c7b8457f           52  \n",
      "4173505a-d781-4b6c-a829-5e25219fb245           52  \n",
      "\n",
      "[569 rows x 6 columns]\n"
     ]
    }
   ],
   "source": [
    "import ast\n",
    "\n",
    "df_rating_cat_grouped = None\n",
    "\n",
    "dropdown_timeframe_radarrating = widgets.Dropdown(\n",
    "       options=['Day', 'Week', 'Month', 'Year', 'All Time'],\n",
    "       description='Timeframe:')\n",
    "\n",
    "a = df['userId'].unique()\n",
    "a = np.append(['All'], a)\n",
    "\n",
    "dropdown_user_radarrating = widgets.Dropdown(\n",
    "       options=a,\n",
    "       value='All',\n",
    "       description='User ID(s):')\n",
    "       \n",
    "output_widget_radarrating = widgets.Output()\n",
    "\n",
    "today = dt.datetime(2021, 12, 30) # dt.datetime.now()\n",
    "timeframe_ago = dt.datetime(1970, 1, 1)\n",
    "\n",
    "\n",
    "def dropdown_timeframe_eventhandler_radarrating(change):\n",
    "    common_filtering_radarrating(change.new, dropdown_user_radarrating.value)\n",
    "\n",
    "def dropdown_user_eventhandler_radarrating(change):\n",
    "    common_filtering_radarrating(dropdown_timeframe_radarrating.value, change.new)\n",
    "    \n",
    "def common_filtering_radarrating(timeframe, user):\n",
    "    output_widget_radarrating.clear_output()\n",
    "    \n",
    "    #timeframe\n",
    "    if timeframe == 'Day':\n",
    "        timeframe_ago = dt.datetime(today.year, today.month, day=today.day)\n",
    "    elif timeframe == 'Week':\n",
    "        idx = (today.weekday()) % 7 # MON = 0, SUN = 6 -> SUN = 0 .. SAT = 6\n",
    "        last_sun = today - dt.timedelta(7+idx-6)\n",
    "        timeframe_ago = dt.datetime(last_sun.year, last_sun.month, day=last_sun.day)\n",
    "    elif timeframe == 'Month':\n",
    "        timeframe_ago = dt.datetime(today.year, today.month, day=1)\n",
    "    elif timeframe == 'Year':\n",
    "        timeframe_ago = dt.datetime(today.year, 1, day=1)\n",
    "    else:\n",
    "        timeframe_ago = dt.datetime(1970, 1, 1)\n",
    "    df_processed_timeframed = df_processed.drop(df_processed[df_processed.date < timeframe_ago.date()].index)\n",
    "    df_timeframed = df.drop(df[pd.to_datetime(df.timestamp) < timeframe_ago].index)\n",
    "    df_timeframed['week_number'] = [dt.datetime.strptime(str(d), '%Y-%m-%d %H:%M:%S').isocalendar()[1] for d in df_timeframed['timestamp']]\n",
    "    \n",
    "    #user\n",
    "    df_processed_user_timeframed = df_processed_timeframed\n",
    "    df_user_timeframed = df_timeframed\n",
    "    \n",
    "    if user != 'All':\n",
    "        dftemp = df_processed_timeframed\n",
    "        df_processed_user_timeframed = dftemp.drop(dftemp[dftemp.userId != str(user)].index)\n",
    "        df_user_timeframed = df_timeframed.drop(df_timeframed[df_timeframed.userId != str(user)].index)\n",
    "    \n",
    "    with output_widget_radarrating:\n",
    "        df_rating = df_user_timeframed.drop(df_user_timeframed[df_user_timeframed['type'] != \"CORE_SCENE_RATE\"].index)\n",
    "        df_rating['data_str'] = [ast.literal_eval(str(d)) for d in df_rating['data']]\n",
    "        df_rating['ratingValue'] = [d['ratingValue'] for d in df_rating['data_str']]\n",
    "        df_rating['ratingCategory'] = [d['ratingCategory'] for d in df_rating['data_str']]\n",
    "        df_rating = df_rating.drop('data', axis=1)\n",
    "        df_rating = df_rating.drop('data_str', axis=1)\n",
    "        df_rating_cat_grouped = pd.DataFrame({'mean' : df_rating.groupby([\"ratingCategory\"])['ratingValue'].mean()}).reset_index()\n",
    "        fig = plt.figure()\n",
    "        ax = fig.add_subplot(111, projection=\"polar\")\n",
    "\n",
    "        # theta has 5 different angles, and the first one repeated\n",
    "        theta = np.arange(len(df_rating_cat_grouped) + 1) / float(len(df_rating_cat_grouped)) * 2 * np.pi\n",
    "        # values has the 5 values from 'mean', with the first element repeated\n",
    "        values = df_rating_cat_grouped['mean'].values\n",
    "        values = np.append(values, values[0])\n",
    "\n",
    "        # draw the polygon and the mark the points for each angle/value combination\n",
    "        l1, = ax.plot(theta, values, color=\"C2\", marker=\"o\", label=\"Mean rating\")\n",
    "        plt.xticks(theta[:-1], df_rating_cat_grouped['ratingCategory'], color='grey', size=12)\n",
    "        ax.tick_params(pad=10) # to increase the distance of the labels to the plot\n",
    "        # fill the area of the polygon with green and some transparency\n",
    "        ax.fill(theta, values, 'green', alpha=0.1)\n",
    "\n",
    "        # plt.legend() # shows the legend, using the label of the line plot (useful when there is more than 1 polygon)\n",
    "        plt.title(\"Average Ratings for Different Categories\")\n",
    "        \n",
    "        display(plt.show())\n",
    "        display(df_rating_cat_grouped)\n",
    "\n",
    "dropdown_timeframe_radarrating.observe(dropdown_timeframe_eventhandler_radarrating, names='value')\n",
    "dropdown_user_radarrating.observe(dropdown_user_eventhandler_radarrating, names='value')\n",
    "display(dropdown_timeframe_radarrating)\n",
    "display(dropdown_user_radarrating)"
   ]
  },
  {
   "cell_type": "code",
   "execution_count": 159,
   "id": "8bd4be18",
   "metadata": {},
   "outputs": [
    {
     "data": {
      "application/vnd.jupyter.widget-view+json": {
       "model_id": "a4640713cb974d98bb228bcee76f55ea",
       "version_major": 2,
       "version_minor": 0
      },
      "text/plain": [
       "Output()"
      ]
     },
     "metadata": {},
     "output_type": "display_data"
    }
   ],
   "source": [
    "display(output_widget_radarrating)"
   ]
  },
  {
   "cell_type": "code",
   "execution_count": 151,
   "id": "d438528b",
   "metadata": {},
   "outputs": [],
   "source": [
    "df_rating_cat_grouped"
   ]
  },
  {
   "cell_type": "code",
   "execution_count": null,
   "id": "65a39690",
   "metadata": {},
   "outputs": [],
   "source": []
  },
  {
   "cell_type": "code",
   "execution_count": null,
   "id": "439829fc",
   "metadata": {},
   "outputs": [],
   "source": []
  },
  {
   "cell_type": "code",
   "execution_count": null,
   "id": "5b9b8a56",
   "metadata": {},
   "outputs": [],
   "source": []
  },
  {
   "cell_type": "code",
   "execution_count": null,
   "id": "8d12a7f0",
   "metadata": {},
   "outputs": [],
   "source": []
  },
  {
   "cell_type": "code",
   "execution_count": null,
   "id": "4f74b3cb",
   "metadata": {},
   "outputs": [],
   "source": []
  },
  {
   "cell_type": "code",
   "execution_count": null,
   "id": "651c6feb",
   "metadata": {},
   "outputs": [],
   "source": []
  },
  {
   "cell_type": "code",
   "execution_count": null,
   "id": "96710c3b",
   "metadata": {},
   "outputs": [],
   "source": []
  },
  {
   "cell_type": "code",
   "execution_count": null,
   "id": "8bc5abe0",
   "metadata": {},
   "outputs": [],
   "source": []
  },
  {
   "cell_type": "code",
   "execution_count": null,
   "id": "caf93bd3",
   "metadata": {},
   "outputs": [],
   "source": []
  },
  {
   "cell_type": "code",
   "execution_count": null,
   "id": "9db7c4aa",
   "metadata": {},
   "outputs": [],
   "source": []
  }
 ],
 "metadata": {
  "kernelspec": {
   "display_name": "Python 3 (ipykernel)",
   "language": "python",
   "name": "python3"
  },
  "language_info": {
   "codemirror_mode": {
    "name": "ipython",
    "version": 3
   },
   "file_extension": ".py",
   "mimetype": "text/x-python",
   "name": "python",
   "nbconvert_exporter": "python",
   "pygments_lexer": "ipython3",
   "version": "3.7.11"
  }
 },
 "nbformat": 4,
 "nbformat_minor": 5
}
