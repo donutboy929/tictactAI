{
 "cells": [
  {
   "cell_type": "markdown",
   "id": "3bfa9238",
   "metadata": {},
   "source": [
    "# Visualiser for area28 metric data"
   ]
  },
  {
   "cell_type": "code",
   "execution_count": 1,
   "id": "ceb16383",
   "metadata": {},
   "outputs": [
    {
     "data": {
      "text/html": [
       "<script>\n",
       "code_show=true; \n",
       "function code_toggle() {\n",
       " if (code_show){\n",
       " $('div.input').hide();\n",
       " } else {\n",
       " $('div.input').show();\n",
       " }\n",
       " code_show = !code_show\n",
       "} \n",
       "$( document ).ready(code_toggle);\n",
       "</script>\n",
       "<form action=\"javascript:code_toggle()\"><input type=\"submit\" value=\"Click here to toggle on/off the raw code.\"></form>"
      ],
      "text/plain": [
       "<IPython.core.display.HTML object>"
      ]
     },
     "execution_count": 1,
     "metadata": {},
     "output_type": "execute_result"
    }
   ],
   "source": [
    "from IPython.display import HTML\n",
    "\n",
    "HTML('''<script>\n",
    "code_show=true; \n",
    "function code_toggle() {\n",
    " if (code_show){\n",
    " $('div.input').hide();\n",
    " } else {\n",
    " $('div.input').show();\n",
    " }\n",
    " code_show = !code_show\n",
    "} \n",
    "$( document ).ready(code_toggle);\n",
    "</script>\n",
    "<form action=\"javascript:code_toggle()\"><input type=\"submit\" value=\"Click here to toggle on/off the raw code.\"></form>''')"
   ]
  },
  {
   "cell_type": "code",
   "execution_count": 2,
   "id": "ca85c3ac",
   "metadata": {},
   "outputs": [],
   "source": [
    "import warnings\n",
    "warnings.simplefilter(action='ignore', category=FutureWarning)"
   ]
  },
  {
   "cell_type": "markdown",
   "id": "4cb3569d",
   "metadata": {},
   "source": [
    "## Import data as CSV / json file"
   ]
  },
  {
   "cell_type": "code",
   "execution_count": 3,
   "id": "745d79d6",
   "metadata": {
    "scrolled": true
   },
   "outputs": [
    {
     "data": {
      "text/html": [
       "<div>\n",
       "<style scoped>\n",
       "    .dataframe tbody tr th:only-of-type {\n",
       "        vertical-align: middle;\n",
       "    }\n",
       "\n",
       "    .dataframe tbody tr th {\n",
       "        vertical-align: top;\n",
       "    }\n",
       "\n",
       "    .dataframe thead th {\n",
       "        text-align: right;\n",
       "    }\n",
       "</style>\n",
       "<table border=\"1\" class=\"dataframe\">\n",
       "  <thead>\n",
       "    <tr style=\"text-align: right;\">\n",
       "      <th></th>\n",
       "      <th>type</th>\n",
       "      <th>userId</th>\n",
       "      <th>sessionId</th>\n",
       "      <th>sceneId</th>\n",
       "      <th>timestamp</th>\n",
       "      <th>data</th>\n",
       "    </tr>\n",
       "    <tr>\n",
       "      <th>id</th>\n",
       "      <th></th>\n",
       "      <th></th>\n",
       "      <th></th>\n",
       "      <th></th>\n",
       "      <th></th>\n",
       "      <th></th>\n",
       "    </tr>\n",
       "  </thead>\n",
       "  <tbody>\n",
       "    <tr>\n",
       "      <th>1327</th>\n",
       "      <td>CORE_SCENE_LEAVE</td>\n",
       "      <td>8</td>\n",
       "      <td>74</td>\n",
       "      <td>1</td>\n",
       "      <td>2021-11-16 15:57:39</td>\n",
       "      <td>{'rating': None, 'rating_cat': None}</td>\n",
       "    </tr>\n",
       "    <tr>\n",
       "      <th>1328</th>\n",
       "      <td>CORE_SCENE_RATE</td>\n",
       "      <td>8</td>\n",
       "      <td>74</td>\n",
       "      <td>1</td>\n",
       "      <td>2021-11-16 15:59:14</td>\n",
       "      <td>{'rating': 0, 'rating_cat': 'Chat'}</td>\n",
       "    </tr>\n",
       "    <tr>\n",
       "      <th>1329</th>\n",
       "      <td>CORE_SCENE_JOIN</td>\n",
       "      <td>9</td>\n",
       "      <td>74</td>\n",
       "      <td>1</td>\n",
       "      <td>2021-11-16 11:21:51</td>\n",
       "      <td>{'rating': None, 'rating_cat': None}</td>\n",
       "    </tr>\n",
       "    <tr>\n",
       "      <th>1330</th>\n",
       "      <td>CORE_SCENE_LEAVE</td>\n",
       "      <td>9</td>\n",
       "      <td>74</td>\n",
       "      <td>1</td>\n",
       "      <td>2021-11-16 13:30:13</td>\n",
       "      <td>{'rating': None, 'rating_cat': None}</td>\n",
       "    </tr>\n",
       "    <tr>\n",
       "      <th>1331</th>\n",
       "      <td>CORE_SCENE_RATE</td>\n",
       "      <td>9</td>\n",
       "      <td>74</td>\n",
       "      <td>1</td>\n",
       "      <td>2021-11-16 13:31:08</td>\n",
       "      <td>{'rating': 3, 'rating_cat': 'Cat5'}</td>\n",
       "    </tr>\n",
       "  </tbody>\n",
       "</table>\n",
       "</div>"
      ],
      "text/plain": [
       "                  type  userId  sessionId  sceneId            timestamp  \\\n",
       "id                                                                        \n",
       "1327  CORE_SCENE_LEAVE       8         74        1  2021-11-16 15:57:39   \n",
       "1328   CORE_SCENE_RATE       8         74        1  2021-11-16 15:59:14   \n",
       "1329   CORE_SCENE_JOIN       9         74        1  2021-11-16 11:21:51   \n",
       "1330  CORE_SCENE_LEAVE       9         74        1  2021-11-16 13:30:13   \n",
       "1331   CORE_SCENE_RATE       9         74        1  2021-11-16 13:31:08   \n",
       "\n",
       "                                      data  \n",
       "id                                          \n",
       "1327  {'rating': None, 'rating_cat': None}  \n",
       "1328   {'rating': 0, 'rating_cat': 'Chat'}  \n",
       "1329  {'rating': None, 'rating_cat': None}  \n",
       "1330  {'rating': None, 'rating_cat': None}  \n",
       "1331   {'rating': 3, 'rating_cat': 'Cat5'}  "
      ]
     },
     "execution_count": 3,
     "metadata": {},
     "output_type": "execute_result"
    }
   ],
   "source": [
    "import pandas as pd\n",
    "import numpy as np\n",
    "import matplotlib.pyplot as plt\n",
    "import datetime as dt\n",
    "\n",
    "# df = pd.read_json(\"data.json\")\n",
    "df = pd.read_csv(\"dummy.csv\")\n",
    "df = df.set_index('id')\n",
    "df.tail()"
   ]
  },
  {
   "cell_type": "markdown",
   "id": "22cf51f7",
   "metadata": {},
   "source": [
    "## Pre-process data to be visualised"
   ]
  },
  {
   "cell_type": "code",
   "execution_count": 4,
   "id": "b7fe9d2f",
   "metadata": {},
   "outputs": [
    {
     "data": {
      "text/html": [
       "<div>\n",
       "<style scoped>\n",
       "    .dataframe tbody tr th:only-of-type {\n",
       "        vertical-align: middle;\n",
       "    }\n",
       "\n",
       "    .dataframe tbody tr th {\n",
       "        vertical-align: top;\n",
       "    }\n",
       "\n",
       "    .dataframe thead th {\n",
       "        text-align: right;\n",
       "    }\n",
       "</style>\n",
       "<table border=\"1\" class=\"dataframe\">\n",
       "  <thead>\n",
       "    <tr style=\"text-align: right;\">\n",
       "      <th></th>\n",
       "      <th>userId</th>\n",
       "      <th>sessionId</th>\n",
       "      <th>date</th>\n",
       "      <th>duration</th>\n",
       "      <th>time</th>\n",
       "      <th>weekday</th>\n",
       "      <th>week_number</th>\n",
       "      <th>sceneId</th>\n",
       "    </tr>\n",
       "    <tr>\n",
       "      <th>id</th>\n",
       "      <th></th>\n",
       "      <th></th>\n",
       "      <th></th>\n",
       "      <th></th>\n",
       "      <th></th>\n",
       "      <th></th>\n",
       "      <th></th>\n",
       "      <th></th>\n",
       "    </tr>\n",
       "  </thead>\n",
       "  <tbody>\n",
       "    <tr>\n",
       "      <th>1320</th>\n",
       "      <td>5</td>\n",
       "      <td>74</td>\n",
       "      <td>2021-11-16</td>\n",
       "      <td>0 days 04:00:36</td>\n",
       "      <td>14:08:25</td>\n",
       "      <td>Tuesday</td>\n",
       "      <td>46</td>\n",
       "      <td>1</td>\n",
       "    </tr>\n",
       "    <tr>\n",
       "      <th>1322</th>\n",
       "      <td>6</td>\n",
       "      <td>74</td>\n",
       "      <td>2021-11-16</td>\n",
       "      <td>0 days 03:17:34</td>\n",
       "      <td>13:08:24</td>\n",
       "      <td>Tuesday</td>\n",
       "      <td>46</td>\n",
       "      <td>1</td>\n",
       "    </tr>\n",
       "    <tr>\n",
       "      <th>1325</th>\n",
       "      <td>7</td>\n",
       "      <td>74</td>\n",
       "      <td>2021-11-16</td>\n",
       "      <td>0 days 00:35:26</td>\n",
       "      <td>11:17:55</td>\n",
       "      <td>Tuesday</td>\n",
       "      <td>46</td>\n",
       "      <td>1</td>\n",
       "    </tr>\n",
       "    <tr>\n",
       "      <th>1327</th>\n",
       "      <td>8</td>\n",
       "      <td>74</td>\n",
       "      <td>2021-11-16</td>\n",
       "      <td>0 days 01:58:47</td>\n",
       "      <td>15:57:39</td>\n",
       "      <td>Tuesday</td>\n",
       "      <td>46</td>\n",
       "      <td>1</td>\n",
       "    </tr>\n",
       "    <tr>\n",
       "      <th>1330</th>\n",
       "      <td>9</td>\n",
       "      <td>74</td>\n",
       "      <td>2021-11-16</td>\n",
       "      <td>0 days 02:08:22</td>\n",
       "      <td>13:30:13</td>\n",
       "      <td>Tuesday</td>\n",
       "      <td>46</td>\n",
       "      <td>1</td>\n",
       "    </tr>\n",
       "  </tbody>\n",
       "</table>\n",
       "</div>"
      ],
      "text/plain": [
       "      userId  sessionId        date        duration      time  weekday  \\\n",
       "id                                                                       \n",
       "1320       5         74  2021-11-16 0 days 04:00:36  14:08:25  Tuesday   \n",
       "1322       6         74  2021-11-16 0 days 03:17:34  13:08:24  Tuesday   \n",
       "1325       7         74  2021-11-16 0 days 00:35:26  11:17:55  Tuesday   \n",
       "1327       8         74  2021-11-16 0 days 01:58:47  15:57:39  Tuesday   \n",
       "1330       9         74  2021-11-16 0 days 02:08:22  13:30:13  Tuesday   \n",
       "\n",
       "      week_number  sceneId  \n",
       "id                          \n",
       "1320           46        1  \n",
       "1322           46        1  \n",
       "1325           46        1  \n",
       "1327           46        1  \n",
       "1330           46        1  "
      ]
     },
     "execution_count": 4,
     "metadata": {},
     "output_type": "execute_result"
    }
   ],
   "source": [
    "import calendar\n",
    "\n",
    "df_no_rating = df.drop(df[df['type'] == \"CORE_SCENE_RATE\"].index)\n",
    "\n",
    "df_no_rating['datetime'] = [dt.datetime.strptime(str(d), '%Y-%m-%d %H:%M:%S') for d in df_no_rating['timestamp']]\n",
    "durations = df_no_rating.groupby(['userId', 'sessionId'])['datetime'].diff()\n",
    "df_no_rating['date'] = [dt.datetime.date(d) for d in df_no_rating['datetime']] \n",
    "df_no_rating['time'] = [dt.datetime.time(d) for d in df_no_rating['datetime']]\n",
    "df_no_rating['weekday'] = [calendar.day_name[d.weekday()] for d in df_no_rating['datetime']]\n",
    "df_no_rating['week_number'] = [d.isocalendar()[1] for d in df_no_rating['datetime']]\n",
    "\n",
    "df_no_rating['duration'] = durations\n",
    "df_processed = df_no_rating[['userId', 'sessionId', 'date', 'duration', 'time', 'weekday', 'week_number', 'sceneId']].copy()\n",
    "df_processed = df_processed.dropna()\n",
    "df_processed.tail()"
   ]
  },
  {
   "cell_type": "code",
   "execution_count": 5,
   "id": "ee53d158",
   "metadata": {},
   "outputs": [],
   "source": [
    "# Install a pip package in the current Jupyter kernel\n",
    "import sys\n",
    "!{sys.executable} -m pip install ipywidgets -q\n",
    "\n",
    "import ipywidgets as widgets\n",
    "from IPython.display import display"
   ]
  },
  {
   "cell_type": "code",
   "execution_count": 6,
   "id": "d15b87a8",
   "metadata": {},
   "outputs": [
    {
     "data": {
      "application/vnd.jupyter.widget-view+json": {
       "model_id": "8a7497fb6c034f93b9384d4702b9df35",
       "version_major": 2,
       "version_minor": 0
      },
      "text/plain": [
       "Dropdown(description='Timeframe:', options=('Day', 'Week', 'Month', 'Year', 'All Time'), value='Day')"
      ]
     },
     "metadata": {},
     "output_type": "display_data"
    },
    {
     "data": {
      "application/vnd.jupyter.widget-view+json": {
       "model_id": "fc26bb5a920e451393c7b2c7592ba776",
       "version_major": 2,
       "version_minor": 0
      },
      "text/plain": [
       "Dropdown(description='User ID(s):', options=('All', '0', '1', '2', '3', '4', '5', '6', '7', '8', '9'), value='…"
      ]
     },
     "metadata": {},
     "output_type": "display_data"
    }
   ],
   "source": [
    "dropdown_timeframe = widgets.Dropdown(\n",
    "       options=['Day', 'Week', 'Month', 'Year', 'All Time'],\n",
    "       description='Timeframe:')\n",
    "\n",
    "a = df['userId'].unique()\n",
    "a = np.append(['All'], a)\n",
    "\n",
    "dropdown_user = widgets.Dropdown(\n",
    "       options=a,\n",
    "       value='All',\n",
    "       description='User ID(s):')\n",
    "       \n",
    "output_widget = widgets.Output()\n",
    "\n",
    "today = dt.datetime.now()\n",
    "timeframe_ago = dt.datetime(1970, 1, 1)\n",
    "\n",
    "\n",
    "def dropdown_timeframe_eventhandler(change):\n",
    "    common_filtering(change.new, dropdown_user.value)\n",
    "\n",
    "def dropdown_user_eventhandler(change):\n",
    "    common_filtering(dropdown_timeframe.value, change.new)\n",
    "    \n",
    "def common_filtering(timeframe, user):\n",
    "    output_widget.clear_output()\n",
    "    \n",
    "    #timeframe\n",
    "    if timeframe == 'Day':\n",
    "        timeframe_ago = dt.datetime(today.year, today.month, day=today.day)\n",
    "    elif timeframe == 'Week':\n",
    "        idx = (today.weekday() + 1) % 7 # MON = 0, SUN = 6 -> SUN = 0 .. SAT = 6\n",
    "        last_sun = today - dt.timedelta(7+idx-6)\n",
    "        timeframe_ago = dt.datetime(last_sun.year, last_sun.month, day=last_sun.day)\n",
    "    elif timeframe == 'Month':\n",
    "        timeframe_ago = dt.datetime(today.year, today.month, day=1)\n",
    "    elif timeframe == 'Year':\n",
    "        timeframe_ago = dt.datetime(today.year, 1, day=1)\n",
    "    else:\n",
    "        timeframe_ago = dt.datetime(1970, 1, 1)\n",
    "    df_processed_timeframed = df_processed.drop(df_processed[df_processed.date < timeframe_ago.date()].index)\n",
    "    df_timeframed = df.drop(df[pd.to_datetime(df.timestamp) < timeframe_ago].index)\n",
    "    df_timeframed['week_number'] = [dt.datetime.strptime(str(d), '%Y-%m-%d %H:%M:%S').isocalendar()[1] for d in df_timeframed['timestamp']]\n",
    "    \n",
    "    #user\n",
    "    df_processed_user_timeframed = df_processed_timeframed\n",
    "    df_user_timeframed = df_timeframed\n",
    "    \n",
    "    if user != 'All':\n",
    "        dftemp = df_processed_timeframed\n",
    "        df_processed_user_timeframed = dftemp.drop(dftemp[dftemp.userId != int(user)].index)\n",
    "        df_user_timeframed = df_timeframed.drop(df_timeframed[df_timeframed.userId != int(user)].index)\n",
    "    \n",
    "    with output_widget:\n",
    "        display(df_processed_user_timeframed)\n",
    "\n",
    "dropdown_timeframe.observe(dropdown_timeframe_eventhandler, names='value')\n",
    "dropdown_user.observe(dropdown_user_eventhandler, names='value')\n",
    "display(dropdown_timeframe)\n",
    "display(dropdown_user)"
   ]
  },
  {
   "cell_type": "code",
   "execution_count": 7,
   "id": "fc9b60bb",
   "metadata": {},
   "outputs": [
    {
     "data": {
      "application/vnd.jupyter.widget-view+json": {
       "model_id": "1e3658d355c9450b90be3254344aa74f",
       "version_major": 2,
       "version_minor": 0
      },
      "text/plain": [
       "Output()"
      ]
     },
     "metadata": {},
     "output_type": "display_data"
    }
   ],
   "source": [
    "display(output_widget)"
   ]
  },
  {
   "cell_type": "code",
   "execution_count": null,
   "id": "01609ed5",
   "metadata": {},
   "outputs": [],
   "source": []
  },
  {
   "cell_type": "markdown",
   "id": "d7f257b1",
   "metadata": {},
   "source": [
    "## Activity heatmap"
   ]
  },
  {
   "cell_type": "code",
   "execution_count": 8,
   "id": "0af9a9f9",
   "metadata": {},
   "outputs": [],
   "source": [
    "from pandas import DataFrame\n",
    "import seaborn as sns\n",
    "import time"
   ]
  },
  {
   "cell_type": "code",
   "execution_count": 9,
   "id": "f764814d",
   "metadata": {},
   "outputs": [
    {
     "data": {
      "application/vnd.jupyter.widget-view+json": {
       "model_id": "53b8b4dde46044898a6d09cd7ae1abda",
       "version_major": 2,
       "version_minor": 0
      },
      "text/plain": [
       "Dropdown(description='Timeframe:', options=('Day', 'Week', 'Month', 'Year', 'All Time'), value='Day')"
      ]
     },
     "metadata": {},
     "output_type": "display_data"
    },
    {
     "data": {
      "application/vnd.jupyter.widget-view+json": {
       "model_id": "a29f86e2fb1a4cbcb58b95eabfa5acdc",
       "version_major": 2,
       "version_minor": 0
      },
      "text/plain": [
       "Dropdown(description='User ID(s):', options=('All', '0', '1', '2', '3', '4', '5', '6', '7', '8', '9'), value='…"
      ]
     },
     "metadata": {},
     "output_type": "display_data"
    }
   ],
   "source": [
    "dropdown_timeframe_hm = widgets.Dropdown(\n",
    "       options=['Day', 'Week', 'Month', 'Year', 'All Time'],\n",
    "       description='Timeframe:')\n",
    "\n",
    "a = df['userId'].unique()\n",
    "a = np.append(['All'], a)\n",
    "\n",
    "dropdown_user_hm = widgets.Dropdown(\n",
    "       options=a,\n",
    "       value='All',\n",
    "       description='User ID(s):')\n",
    "       \n",
    "output_heatmap_widget = widgets.Output()\n",
    "\n",
    "today = dt.datetime.now()\n",
    "timeframe_ago = dt.datetime(1970, 1, 1)\n",
    "\n",
    "\n",
    "def dropdown_timeframe_eventhandler_hm(change):\n",
    "    common_filtering_hm(change.new, dropdown_user_hm.value)\n",
    "\n",
    "def dropdown_user_eventhandler_hm(change):\n",
    "    common_filtering_hm(dropdown_timeframe_hm.value, change.new)\n",
    "    \n",
    "def common_filtering_hm(timeframe, user):\n",
    "    output_heatmap_widget.clear_output()\n",
    "    \n",
    "    #timeframe\n",
    "    if timeframe == 'Day':\n",
    "        timeframe_ago = dt.datetime(today.year, today.month, day=today.day)\n",
    "    elif timeframe == 'Week':\n",
    "        idx = (today.weekday() + 1) % 7 # MON = 0, SUN = 6 -> SUN = 0 .. SAT = 6\n",
    "        last_sun = today - dt.timedelta(7+idx-6)\n",
    "        timeframe_ago = dt.datetime(last_sun.year, last_sun.month, day=last_sun.day)\n",
    "    elif timeframe == 'Month':\n",
    "        timeframe_ago = dt.datetime(today.year, today.month, day=1)\n",
    "    elif timeframe == 'Year':\n",
    "        timeframe_ago = dt.datetime(today.year, 1, day=1)\n",
    "    else:\n",
    "        timeframe_ago = dt.datetime(1970, 1, 1)\n",
    "    df_processed_timeframed = df_processed.drop(df_processed[df_processed.date < timeframe_ago.date()].index)\n",
    "    df_timeframed = df.drop(df[pd.to_datetime(df.timestamp) < timeframe_ago].index)\n",
    "    df_timeframed['week_number'] = [dt.datetime.strptime(str(d), '%Y-%m-%d %H:%M:%S').isocalendar()[1] for d in df_timeframed['timestamp']]\n",
    "    \n",
    "    #user\n",
    "    df_processed_user_timeframed = df_processed_timeframed\n",
    "    df_user_timeframed = df_timeframed\n",
    "    \n",
    "    if user != 'All':\n",
    "        dftemp = df_processed_timeframed\n",
    "        df_processed_user_timeframed = dftemp.drop(dftemp[dftemp.userId != int(user)].index)\n",
    "        df_user_timeframed = df_timeframed.drop(df_timeframed[df_timeframed.userId != int(user)].index)\n",
    "    \n",
    "    with output_heatmap_widget:\n",
    "        df_processed_user_timeframed['seconds'] = [d.total_seconds() for d in df_processed_user_timeframed['duration']]\n",
    "        df_processed_groupedbyID = pd.DataFrame({'seconds' : df_processed_user_timeframed.groupby(['week_number', 'weekday'])['seconds'].sum()}).reset_index()\n",
    "        df_heatmap = df_processed_groupedbyID.pivot(index='weekday', columns='week_number', values='seconds')\n",
    "        df_heatmap.index = pd.CategoricalIndex(df_heatmap.index, categories= ['Saturday', 'Monday', 'Tuesday', 'Wednesday', 'Thursday', 'Friday', 'Sunday'])\n",
    "        df_heatmap.sort_index(level=0, inplace=True)\n",
    "\n",
    "        mask = df_heatmap.isnull()\n",
    "        sns.heatmap(df_heatmap, annot=False, fmt=\"g\", cmap='crest', mask=mask)\n",
    "        plt.show()\n",
    "\n",
    "dropdown_timeframe_hm.observe(dropdown_timeframe_eventhandler_hm, names='value')\n",
    "dropdown_user_hm.observe(dropdown_user_eventhandler_hm, names='value')\n",
    "display(dropdown_timeframe_hm)\n",
    "display(dropdown_user_hm)"
   ]
  },
  {
   "cell_type": "code",
   "execution_count": 10,
   "id": "255a4a8c",
   "metadata": {},
   "outputs": [
    {
     "data": {
      "application/vnd.jupyter.widget-view+json": {
       "model_id": "e46819bfa3d14442947a0170d425192e",
       "version_major": 2,
       "version_minor": 0
      },
      "text/plain": [
       "Output()"
      ]
     },
     "metadata": {},
     "output_type": "display_data"
    }
   ],
   "source": [
    "display(output_heatmap_widget)"
   ]
  },
  {
   "cell_type": "code",
   "execution_count": null,
   "id": "6eb484c9",
   "metadata": {},
   "outputs": [],
   "source": []
  },
  {
   "cell_type": "markdown",
   "id": "3b41a943",
   "metadata": {},
   "source": [
    "# Pie chart of time spent in different scenes"
   ]
  },
  {
   "cell_type": "code",
   "execution_count": 11,
   "id": "3199d0f7",
   "metadata": {
    "scrolled": false
   },
   "outputs": [
    {
     "data": {
      "application/vnd.jupyter.widget-view+json": {
       "model_id": "659d7be9d91341e6b3a7cf36ca588c87",
       "version_major": 2,
       "version_minor": 0
      },
      "text/plain": [
       "Dropdown(description='Timeframe:', options=('Day', 'Week', 'Month', 'Year', 'All Time'), value='Day')"
      ]
     },
     "metadata": {},
     "output_type": "display_data"
    },
    {
     "data": {
      "application/vnd.jupyter.widget-view+json": {
       "model_id": "12536244234a4ee59c12c4e5d2c2b8e5",
       "version_major": 2,
       "version_minor": 0
      },
      "text/plain": [
       "Dropdown(description='User ID(s):', options=('All', '0', '1', '2', '3', '4', '5', '6', '7', '8', '9'), value='…"
      ]
     },
     "metadata": {},
     "output_type": "display_data"
    },
    {
     "data": {
      "image/png": "[encoded data removed]",
      "text/plain": [
       "<Figure size 360x360 with 1 Axes>"
      ]
     },
     "metadata": {},
     "output_type": "display_data"
    }
   ],
   "source": [
    "dropdown_timeframe_timespent = widgets.Dropdown(\n",
    "       options=['Day', 'Week', 'Month', 'Year', 'All Time'],\n",
    "       description='Timeframe:')\n",
    "\n",
    "a = df['userId'].unique()\n",
    "a = np.append(['All'], a)\n",
    "\n",
    "dropdown_user_timespent = widgets.Dropdown(\n",
    "       options=a,\n",
    "       value='All',\n",
    "       description='User ID(s):')\n",
    "       \n",
    "output_widget_timespent = widgets.Output()\n",
    "\n",
    "today = dt.datetime.now()\n",
    "timeframe_ago = dt.datetime(1970, 1, 1)\n",
    "\n",
    "\n",
    "def dropdown_timeframe_eventhandler_timespent(change):\n",
    "    common_filtering_timespent(change.new, dropdown_user_timespent.value)\n",
    "\n",
    "def dropdown_user_eventhandler_timespent(change):\n",
    "    common_filtering_timespent(dropdown_timeframe_timespent.value, change.new)\n",
    "    \n",
    "def common_filtering_timespent(timeframe, user):\n",
    "    output_widget_timespent.clear_output()\n",
    "    \n",
    "    #timeframe\n",
    "    if timeframe == 'Day':\n",
    "        timeframe_ago = dt.datetime(today.year, today.month, day=today.day)\n",
    "    elif timeframe == 'Week':\n",
    "        idx = (today.weekday() + 1) % 7 # MON = 0, SUN = 6 -> SUN = 0 .. SAT = 6\n",
    "        last_sun = today - dt.timedelta(7+idx-6)\n",
    "        timeframe_ago = dt.datetime(last_sun.year, last_sun.month, day=last_sun.day)\n",
    "    elif timeframe == 'Month':\n",
    "        timeframe_ago = dt.datetime(today.year, today.month, day=1)\n",
    "    elif timeframe == 'Year':\n",
    "        timeframe_ago = dt.datetime(today.year, 1, day=1)\n",
    "    else:\n",
    "        timeframe_ago = dt.datetime(1970, 1, 1)\n",
    "    df_processed_timeframed = df_processed.drop(df_processed[df_processed.date < timeframe_ago.date()].index)\n",
    "    df_timeframed = df.drop(df[pd.to_datetime(df.timestamp) < timeframe_ago].index)\n",
    "    df_timeframed['week_number'] = [dt.datetime.strptime(str(d), '%Y-%m-%d %H:%M:%S').isocalendar()[1] for d in df_timeframed['timestamp']]\n",
    "    \n",
    "    #user\n",
    "    df_processed_user_timeframed = df_processed_timeframed\n",
    "    df_user_timeframed = df_timeframed\n",
    "    \n",
    "    if user != 'All':\n",
    "        dftemp = df_processed_timeframed\n",
    "        df_processed_user_timeframed = dftemp.drop(dftemp[dftemp.userId != int(user)].index)\n",
    "        df_user_timeframed = df_timeframed.drop(df_timeframed[df_timeframed.userId != int(user)].index)\n",
    "    \n",
    "    with output_widget_timespent:\n",
    "        df_sessions = pd.DataFrame({'duration' : df_processed_user_timeframed.groupby( [ \"sceneId\"] )['duration'].sum()}).reset_index()\n",
    "        df_sessions['duration_sec'] = [d.total_seconds() for d in df_sessions['duration']]\n",
    "        plot = df_sessions.plot.pie(y='duration_sec', figsize=(5, 5))\n",
    "\n",
    "dropdown_timeframe_timespent.observe(dropdown_timeframe_eventhandler_timespent, names='value')\n",
    "dropdown_user_timespent.observe(dropdown_user_eventhandler_timespent, names='value')\n",
    "display(dropdown_timeframe_timespent)\n",
    "display(dropdown_user_timespent)"
   ]
  },
  {
   "cell_type": "code",
   "execution_count": 12,
   "id": "2b9bbf24",
   "metadata": {},
   "outputs": [
    {
     "data": {
      "application/vnd.jupyter.widget-view+json": {
       "model_id": "16596842f1134e3fb4ebbf9cef935b53",
       "version_major": 2,
       "version_minor": 0
      },
      "text/plain": [
       "Output()"
      ]
     },
     "metadata": {},
     "output_type": "display_data"
    }
   ],
   "source": [
    "display(output_widget_timespent)"
   ]
  },
  {
   "cell_type": "markdown",
   "id": "d570abfd",
   "metadata": {},
   "source": [
    "### Bar Chart showing how long users spent in sessions"
   ]
  },
  {
   "cell_type": "code",
   "execution_count": 13,
   "id": "9a32dac2",
   "metadata": {},
   "outputs": [
    {
     "data": {
      "application/vnd.jupyter.widget-view+json": {
       "model_id": "62f399f88e454dff9090bf5a7d36d922",
       "version_major": 2,
       "version_minor": 0
      },
      "text/plain": [
       "Dropdown(description='Timeframe:', options=('Day', 'Week', 'Month', 'Year', 'All Time'), value='Day')"
      ]
     },
     "metadata": {},
     "output_type": "display_data"
    },
    {
     "data": {
      "application/vnd.jupyter.widget-view+json": {
       "model_id": "78292ae063c14c8c9790bc3feab8998d",
       "version_major": 2,
       "version_minor": 0
      },
      "text/plain": [
       "Dropdown(description='User ID(s):', options=('All', '0', '1', '2', '3', '4', '5', '6', '7', '8', '9'), value='…"
      ]
     },
     "metadata": {},
     "output_type": "display_data"
    },
    {
     "data": {
      "image/png": "[encoded data removed]",
      "text/plain": [
       "<Figure size 432x288 with 1 Axes>"
      ]
     },
     "metadata": {
      "needs_background": "light"
     },
     "output_type": "display_data"
    }
   ],
   "source": [
    "dropdown_timeframe_timespentsess = widgets.Dropdown(\n",
    "       options=['Day', 'Week', 'Month', 'Year', 'All Time'],\n",
    "       description='Timeframe:')\n",
    "\n",
    "a = df['userId'].unique()\n",
    "a = np.append(['All'], a)\n",
    "\n",
    "dropdown_user_timespentsess = widgets.Dropdown(\n",
    "       options=a,\n",
    "       value='All',\n",
    "       description='User ID(s):')\n",
    "       \n",
    "output_widget_timespentsess = widgets.Output()\n",
    "\n",
    "today = dt.datetime.now()\n",
    "timeframe_ago = dt.datetime(1970, 1, 1)\n",
    "\n",
    "\n",
    "def dropdown_timeframe_eventhandler_timespentsess(change):\n",
    "    common_filtering_timespentsess(change.new, dropdown_user_timespentsess.value)\n",
    "\n",
    "def dropdown_user_eventhandler_timespentsess(change):\n",
    "    common_filtering_timespentsess(dropdown_timeframe_timespentsess.value, change.new)\n",
    "    \n",
    "def common_filtering_timespentsess(timeframe, user):\n",
    "    output_widget_timespentsess.clear_output()\n",
    "    \n",
    "    #timeframe\n",
    "    if timeframe == 'Day':\n",
    "        timeframe_ago = dt.datetime(today.year, today.month, day=today.day)\n",
    "    elif timeframe == 'Week':\n",
    "        idx = (today.weekday() + 1) % 7 # MON = 0, SUN = 6 -> SUN = 0 .. SAT = 6\n",
    "        last_sun = today - dt.timedelta(7+idx-6)\n",
    "        timeframe_ago = dt.datetime(last_sun.year, last_sun.month, day=last_sun.day)\n",
    "    elif timeframe == 'Month':\n",
    "        timeframe_ago = dt.datetime(today.year, today.month, day=1)\n",
    "    elif timeframe == 'Year':\n",
    "        timeframe_ago = dt.datetime(today.year, 1, day=1)\n",
    "    else:\n",
    "        timeframe_ago = dt.datetime(1970, 1, 1)\n",
    "    df_processed_timeframed = df_processed.drop(df_processed[df_processed.date < timeframe_ago.date()].index)\n",
    "    df_timeframed = df.drop(df[pd.to_datetime(df.timestamp) < timeframe_ago].index)\n",
    "    df_timeframed['week_number'] = [dt.datetime.strptime(str(d), '%Y-%m-%d %H:%M:%S').isocalendar()[1] for d in df_timeframed['timestamp']]\n",
    "    \n",
    "    #user\n",
    "    df_processed_user_timeframed = df_processed_timeframed\n",
    "    df_user_timeframed = df_timeframed\n",
    "    \n",
    "    if user != 'All':\n",
    "        dftemp = df_processed_timeframed\n",
    "        df_processed_user_timeframed = dftemp.drop(dftemp[dftemp.userId != int(user)].index)\n",
    "        df_user_timeframed = df_timeframed.drop(df_timeframed[df_timeframed.userId != int(user)].index)\n",
    "    \n",
    "    with output_widget_timespentsess:\n",
    "        fig = plt.figure()\n",
    "        ax = fig.add_axes([0,0,1,1])\n",
    "        ax.set_ylabel('Time spent in sessions')\n",
    "        ax.set_xlabel('User ID')\n",
    "        # ax.bar(df_processed_timeframed['userId'], df_processed_timeframed['duration'])\n",
    "        display(ax.bar(df_processed_user_timeframed['userId'], df_processed_user_timeframed['duration']))\n",
    "\n",
    "dropdown_timeframe_timespentsess.observe(dropdown_timeframe_eventhandler_timespentsess, names='value')\n",
    "dropdown_user_timespentsess.observe(dropdown_user_eventhandler_timespentsess, names='value')\n",
    "display(dropdown_timeframe_timespentsess)\n",
    "display(dropdown_user_timespentsess)"
   ]
  },
  {
   "cell_type": "code",
   "execution_count": 14,
   "id": "f203e66c",
   "metadata": {},
   "outputs": [
    {
     "data": {
      "application/vnd.jupyter.widget-view+json": {
       "model_id": "7259e837483547f2aa153044cbe622d5",
       "version_major": 2,
       "version_minor": 0
      },
      "text/plain": [
       "Output()"
      ]
     },
     "metadata": {},
     "output_type": "display_data"
    }
   ],
   "source": [
    "display(output_widget_timespentsess)"
   ]
  },
  {
   "cell_type": "markdown",
   "id": "75a21771",
   "metadata": {},
   "source": [
    "## Show ratings of users\n"
   ]
  },
  {
   "cell_type": "code",
   "execution_count": 15,
   "id": "2508693f",
   "metadata": {},
   "outputs": [
    {
     "data": {
      "application/vnd.jupyter.widget-view+json": {
       "model_id": "74f14b277d7d45fc971ba5c9545e48d7",
       "version_major": 2,
       "version_minor": 0
      },
      "text/plain": [
       "Dropdown(description='Timeframe:', options=('Day', 'Week', 'Month', 'Year', 'All Time'), value='Day')"
      ]
     },
     "metadata": {},
     "output_type": "display_data"
    },
    {
     "data": {
      "application/vnd.jupyter.widget-view+json": {
       "model_id": "ad6886791b7f4604bbe4a41500142cf7",
       "version_major": 2,
       "version_minor": 0
      },
      "text/plain": [
       "Dropdown(description='User ID(s):', options=('All', '0', '1', '2', '3', '4', '5', '6', '7', '8', '9'), value='…"
      ]
     },
     "metadata": {},
     "output_type": "display_data"
    },
    {
     "data": {
      "image/png": "[encoded data removed]",
      "text/plain": [
       "<Figure size 360x360 with 1 Axes>"
      ]
     },
     "metadata": {},
     "output_type": "display_data"
    }
   ],
   "source": [
    "dropdown_timeframe_ratings = widgets.Dropdown(\n",
    "       options=['Day', 'Week', 'Month', 'Year', 'All Time'],\n",
    "       description='Timeframe:')\n",
    "\n",
    "a = df['userId'].unique()\n",
    "a = np.append(['All'], a)\n",
    "\n",
    "dropdown_user_ratings = widgets.Dropdown(\n",
    "       options=a,\n",
    "       value='All',\n",
    "       description='User ID(s):')\n",
    "       \n",
    "output_widget_ratings = widgets.Output()\n",
    "\n",
    "today = dt.datetime.now()\n",
    "timeframe_ago = dt.datetime(1970, 1, 1)\n",
    "\n",
    "\n",
    "def dropdown_timeframe_eventhandler_ratings(change):\n",
    "    common_filtering_ratings(change.new, dropdown_user_ratings.value)\n",
    "\n",
    "def dropdown_user_eventhandler_ratings(change):\n",
    "    common_filtering_ratings(dropdown_timeframe_ratings.value, change.new)\n",
    "    \n",
    "def common_filtering_ratings(timeframe, user):\n",
    "    output_widget_ratings.clear_output()\n",
    "    \n",
    "    #timeframe\n",
    "    if timeframe == 'Day':\n",
    "        timeframe_ago = dt.datetime(today.year, today.month, day=today.day)\n",
    "    elif timeframe == 'Week':\n",
    "        idx = (today.weekday() + 1) % 7 # MON = 0, SUN = 6 -> SUN = 0 .. SAT = 6\n",
    "        last_sun = today - dt.timedelta(7+idx-6)\n",
    "        timeframe_ago = dt.datetime(last_sun.year, last_sun.month, day=last_sun.day)\n",
    "    elif timeframe == 'Month':\n",
    "        timeframe_ago = dt.datetime(today.year, today.month, day=1)\n",
    "    elif timeframe == 'Year':\n",
    "        timeframe_ago = dt.datetime(today.year, 1, day=1)\n",
    "    else:\n",
    "        timeframe_ago = dt.datetime(1970, 1, 1)\n",
    "    df_processed_timeframed = df_processed.drop(df_processed[df_processed.date < timeframe_ago.date()].index)\n",
    "    df_timeframed = df.drop(df[pd.to_datetime(df.timestamp) < timeframe_ago].index)\n",
    "    df_timeframed['week_number'] = [dt.datetime.strptime(str(d), '%Y-%m-%d %H:%M:%S').isocalendar()[1] for d in df_timeframed['timestamp']]\n",
    "    \n",
    "    #user\n",
    "    df_processed_user_timeframed = df_processed_timeframed\n",
    "    df_user_timeframed = df_timeframed\n",
    "    \n",
    "    if user != 'All':\n",
    "        dftemp = df_processed_timeframed\n",
    "        df_processed_user_timeframed = dftemp.drop(dftemp[dftemp.userId != int(user)].index)\n",
    "        df_user_timeframed = df_timeframed.drop(df_timeframed[df_timeframed.userId != int(user)].index)\n",
    "    \n",
    "    with output_widget_ratings:\n",
    "        df_rating = df_user_timeframed.drop(df_user_timeframed[df_user_timeframed['type'] != \"CORE_SCENE_RATE\"].index)\n",
    "        df_rating['data_str'] = [ast.literal_eval(str(d)) for d in df_rating['data']]\n",
    "        df_rating['rating'] = [d['rating'] for d in df_rating['data_str']]\n",
    "        df_rating['rating_cat'] = [d['rating_cat'] for d in df_rating['data_str']]\n",
    "        df_rating = df_rating.drop('data', axis=1)\n",
    "        df_rating = df_rating.drop('data_str', axis=1)\n",
    "        df_rating_grouped = pd.DataFrame({'temp' : df_rating.groupby([\"rating\"])['type']}).reset_index()\n",
    "        df_rating_grouped['count'] = [len(d[1]) for d in df_rating_grouped['temp']]\n",
    "        df_rating_grouped = df_rating_grouped.drop('temp', axis=1)\n",
    "        df_rating_grouped.columns = ['rating', 'count']\n",
    "        plot = df_rating_grouped.plot.pie(y='count', figsize=(5, 5))\n",
    "        display(plot)\n",
    "\n",
    "dropdown_timeframe_ratings.observe(dropdown_timeframe_eventhandler_ratings, names='value')\n",
    "dropdown_user_ratings.observe(dropdown_user_eventhandler_ratings, names='value')\n",
    "display(dropdown_timeframe_ratings)\n",
    "display(dropdown_user_ratings)"
   ]
  },
  {
   "cell_type": "markdown",
   "id": "5369dd76",
   "metadata": {},
   "source": [
    "# Histograms"
   ]
  },
  {
   "cell_type": "markdown",
   "id": "f9010352",
   "metadata": {},
   "source": [
    "## Histogram showing concurrent users throughout an average day"
   ]
  },
  {
   "cell_type": "code",
   "execution_count": 16,
   "id": "7e2a1818",
   "metadata": {},
   "outputs": [
    {
     "data": {
      "application/vnd.jupyter.widget-view+json": {
       "model_id": "95324eed779d40b3b355d2d6152841b5",
       "version_major": 2,
       "version_minor": 0
      },
      "text/plain": [
       "Dropdown(description='Timeframe:', options=('Day', 'Week', 'Month', 'Year', 'All Time'), value='Day')"
      ]
     },
     "metadata": {},
     "output_type": "display_data"
    },
    {
     "data": {
      "application/vnd.jupyter.widget-view+json": {
       "model_id": "c5a3a6e38e71479eb04a05980b43a5c6",
       "version_major": 2,
       "version_minor": 0
      },
      "text/plain": [
       "Dropdown(description='User ID(s):', options=('All', '0', '1', '2', '3', '4', '5', '6', '7', '8', '9'), value='…"
      ]
     },
     "metadata": {},
     "output_type": "display_data"
    },
    {
     "data": {
      "image/png": "[encoded data removed]",
      "text/plain": [
       "<Figure size 432x288 with 1 Axes>"
      ]
     },
     "metadata": {
      "needs_background": "light"
     },
     "output_type": "display_data"
    }
   ],
   "source": [
    "dropdown_timeframe_hist = widgets.Dropdown(\n",
    "       options=['Day', 'Week', 'Month', 'Year', 'All Time'],\n",
    "       description='Timeframe:')\n",
    "\n",
    "a = df['userId'].unique()\n",
    "a = np.append(['All'], a)\n",
    "\n",
    "dropdown_user_hist = widgets.Dropdown(\n",
    "       options=a,\n",
    "       value='All',\n",
    "       description='User ID(s):')\n",
    "       \n",
    "output_widget_hist = widgets.Output()\n",
    "\n",
    "today = dt.datetime.now()\n",
    "timeframe_ago = dt.datetime(1970, 1, 1)\n",
    "\n",
    "\n",
    "def dropdown_timeframe_eventhandler_hist(change):\n",
    "    common_filtering_hist(change.new, dropdown_user_hist.value)\n",
    "\n",
    "def dropdown_user_eventhandler_hist(change):\n",
    "    common_filtering_hist(dropdown_timeframe_hist.value, change.new)\n",
    "    \n",
    "def get_times_active(row):\n",
    "    end = row['time'].hour\n",
    "    start = row['time'].hour - row['duration'].seconds//3600\n",
    "    return_set = set()\n",
    "    for i in range(end - start + 1):\n",
    "        return_set.add(str(start + i))\n",
    "    return return_set\n",
    "\n",
    "def common_filtering_hist(timeframe, user):\n",
    "    output_widget_hist.clear_output()\n",
    "    \n",
    "    #timeframe\n",
    "    if timeframe == 'Day':\n",
    "        timeframe_ago = dt.datetime(today.year, today.month, day=today.day)\n",
    "    elif timeframe == 'Week':\n",
    "        idx = (today.weekday() + 1) % 7 # MON = 0, SUN = 6 -> SUN = 0 .. SAT = 6\n",
    "        last_sun = today - dt.timedelta(7+idx-6)\n",
    "        timeframe_ago = dt.datetime(last_sun.year, last_sun.month, day=last_sun.day)\n",
    "    elif timeframe == 'Month':\n",
    "        timeframe_ago = dt.datetime(today.year, today.month, day=1)\n",
    "    elif timeframe == 'Year':\n",
    "        timeframe_ago = dt.datetime(today.year, 1, day=1)\n",
    "    else:\n",
    "        timeframe_ago = dt.datetime(1970, 1, 1)\n",
    "    df_processed_timeframed = df_processed.drop(df_processed[df_processed.date < timeframe_ago.date()].index)\n",
    "    df_timeframed = df.drop(df[pd.to_datetime(df.timestamp) < timeframe_ago].index)\n",
    "    df_timeframed['week_number'] = [dt.datetime.strptime(str(d), '%Y-%m-%d %H:%M:%S').isocalendar()[1] for d in df_timeframed['timestamp']]\n",
    "    \n",
    "    #user\n",
    "    df_processed_user_timeframed = df_processed_timeframed\n",
    "    df_user_timeframed = df_timeframed\n",
    "    \n",
    "    if user != 'All':\n",
    "        dftemp = df_processed_timeframed\n",
    "        df_processed_user_timeframed = dftemp.drop(dftemp[dftemp.userId != int(user)].index)\n",
    "        df_user_timeframed = df_timeframed.drop(df_timeframed[df_timeframed.userId != int(user)].index)\n",
    "    \n",
    "    with output_widget_hist:\n",
    "        df_processed_user_timeframed['hours_active'] = df_processed_user_timeframed.apply(get_times_active, axis=1) \n",
    "        df_pre_fri_hist = df_processed_user_timeframed.loc[df_processed_user_timeframed['weekday'] == 'Monday']\n",
    "        \n",
    "        data_for_hist = {}\n",
    "            \n",
    "        count = 0\n",
    "        for times in df_pre_fri_hist['hours_active']:\n",
    "            for time in times:\n",
    "                data_for_hist[count] = float(time)\n",
    "                count += 1\n",
    "\n",
    "        df_fri_hist = pd.DataFrame(data_for_hist, index = [0])\n",
    "        df_fri_hist = df_fri_hist.reindex(sorted(df_fri_hist.columns), axis=1)\n",
    "        \n",
    "        axarr = df_fri_hist.transpose().hist(bins=6)\n",
    "\n",
    "        for ax in axarr.flatten():\n",
    "            ax.set_xlabel(\"Time of day (24hr clock)\")\n",
    "            ax.set_ylabel(\"Concurrent Users\")\n",
    "        \n",
    "        display(axarr)\n",
    "\n",
    "\n",
    "dropdown_timeframe_hist.observe(dropdown_timeframe_eventhandler_hist, names='value')\n",
    "dropdown_user_hist.observe(dropdown_user_eventhandler_hist, names='value')\n",
    "display(dropdown_timeframe_hist)\n",
    "display(dropdown_user_hist)"
   ]
  },
  {
   "cell_type": "code",
   "execution_count": 17,
   "id": "84dec565",
   "metadata": {
    "scrolled": true
   },
   "outputs": [
    {
     "data": {
      "application/vnd.jupyter.widget-view+json": {
       "model_id": "1dbd0258719949138db973b3dc795465",
       "version_major": 2,
       "version_minor": 0
      },
      "text/plain": [
       "Output()"
      ]
     },
     "metadata": {},
     "output_type": "display_data"
    }
   ],
   "source": [
    "display(output_widget_hist)"
   ]
  },
  {
   "cell_type": "markdown",
   "id": "2d78fd1e",
   "metadata": {},
   "source": [
    "## Histogram showing length of sessions"
   ]
  },
  {
   "cell_type": "code",
   "execution_count": 18,
   "id": "5e8b220a",
   "metadata": {},
   "outputs": [
    {
     "data": {
      "application/vnd.jupyter.widget-view+json": {
       "model_id": "d0abc2e835c14333aa6cae1c571c4d97",
       "version_major": 2,
       "version_minor": 0
      },
      "text/plain": [
       "Dropdown(description='Timeframe:', options=('Day', 'Week', 'Month', 'Year', 'All Time'), value='Day')"
      ]
     },
     "metadata": {},
     "output_type": "display_data"
    },
    {
     "data": {
      "application/vnd.jupyter.widget-view+json": {
       "model_id": "1fb840fca4a74f4082cfe2d8ae1c8fc6",
       "version_major": 2,
       "version_minor": 0
      },
      "text/plain": [
       "Dropdown(description='User ID(s):', options=('All', '0', '1', '2', '3', '4', '5', '6', '7', '8', '9'), value='…"
      ]
     },
     "metadata": {},
     "output_type": "display_data"
    },
    {
     "data": {
      "image/png": "[encoded data removed]",
      "text/plain": [
       "<Figure size 432x288 with 1 Axes>"
      ]
     },
     "metadata": {
      "needs_background": "light"
     },
     "output_type": "display_data"
    }
   ],
   "source": [
    "dropdown_timeframe_histsess = widgets.Dropdown(\n",
    "       options=['Day', 'Week', 'Month', 'Year', 'All Time'],\n",
    "       description='Timeframe:')\n",
    "\n",
    "a = df['userId'].unique()\n",
    "a = np.append(['All'], a)\n",
    "\n",
    "dropdown_user_histsess = widgets.Dropdown(\n",
    "       options=a,\n",
    "       value='All',\n",
    "       description='User ID(s):')\n",
    "       \n",
    "output_widget_histsess = widgets.Output()\n",
    "\n",
    "today = dt.datetime.now()\n",
    "timeframe_ago = dt.datetime(1970, 1, 1)\n",
    "\n",
    "\n",
    "def dropdown_timeframe_eventhandler_histsess(change):\n",
    "    common_filtering_histsess(change.new, dropdown_user_histsess.value)\n",
    "\n",
    "def dropdown_user_eventhandler_histsess(change):\n",
    "    common_filtering_histsess(dropdown_timeframe_histsess.value, change.new)\n",
    "    \n",
    "def common_filtering_histsess(timeframe, user):\n",
    "    output_widget_histsess.clear_output()\n",
    "    \n",
    "    #timeframe\n",
    "    if timeframe == 'Day':\n",
    "        timeframe_ago = dt.datetime(today.year, today.month, day=today.day)\n",
    "    elif timeframe == 'Week':\n",
    "        idx = (today.weekday() + 1) % 7 # MON = 0, SUN = 6 -> SUN = 0 .. SAT = 6\n",
    "        last_sun = today - dt.timedelta(7+idx-6)\n",
    "        timeframe_ago = dt.datetime(last_sun.year, last_sun.month, day=last_sun.day)\n",
    "    elif timeframe == 'Month':\n",
    "        timeframe_ago = dt.datetime(today.year, today.month, day=1)\n",
    "    elif timeframe == 'Year':\n",
    "        timeframe_ago = dt.datetime(today.year, 1, day=1)\n",
    "    else:\n",
    "        timeframe_ago = dt.datetime(1970, 1, 1)\n",
    "    df_processed_timeframed = df_processed.drop(df_processed[df_processed.date < timeframe_ago.date()].index)\n",
    "    df_timeframed = df.drop(df[pd.to_datetime(df.timestamp) < timeframe_ago].index)\n",
    "    df_timeframed['week_number'] = [dt.datetime.strptime(str(d), '%Y-%m-%d %H:%M:%S').isocalendar()[1] for d in df_timeframed['timestamp']]\n",
    "    \n",
    "    #user\n",
    "    df_processed_user_timeframed = df_processed_timeframed\n",
    "    df_user_timeframed = df_timeframed\n",
    "    \n",
    "    if user != 'All':\n",
    "        dftemp = df_processed_timeframed\n",
    "        df_processed_user_timeframed = dftemp.drop(dftemp[dftemp.userId != int(user)].index)\n",
    "        df_user_timeframed = df_timeframed.drop(df_timeframed[df_timeframed.userId != int(user)].index)\n",
    "    \n",
    "    with output_widget_histsess:\n",
    "        df_sesh_len_hist = df_processed_user_timeframed[['duration']].copy()\n",
    "        df_sesh_len_hist['minutes'] = [d.total_seconds()/60 for d in df_processed_user_timeframed['duration']]\n",
    "        df_min_hist = df_sesh_len_hist[['minutes']].copy()\n",
    "        axarr = df_min_hist.hist(bins=6)\n",
    "\n",
    "        for ax in axarr.flatten():\n",
    "            ax.set_xlabel(\"Length of session (minutes)\")\n",
    "            ax.set_ylabel(\"Number of sessions\")\n",
    "        \n",
    "        display(axarr)\n",
    "\n",
    "dropdown_timeframe_histsess.observe(dropdown_timeframe_eventhandler_histsess, names='value')\n",
    "dropdown_user_histsess.observe(dropdown_user_eventhandler_histsess, names='value')\n",
    "display(dropdown_timeframe_histsess)\n",
    "display(dropdown_user_histsess)"
   ]
  },
  {
   "cell_type": "markdown",
   "id": "4fcca8da",
   "metadata": {},
   "source": [
    "## Radar graph showing average ratings for each category"
   ]
  },
  {
   "cell_type": "code",
   "execution_count": 19,
   "id": "bd4cf070",
   "metadata": {
    "scrolled": false
   },
   "outputs": [
    {
     "data": {
      "application/vnd.jupyter.widget-view+json": {
       "model_id": "cdba63eff08b4dff8cde0d2452632105",
       "version_major": 2,
       "version_minor": 0
      },
      "text/plain": [
       "Dropdown(description='Timeframe:', options=('Day', 'Week', 'Month', 'Year', 'All Time'), value='Day')"
      ]
     },
     "metadata": {},
     "output_type": "display_data"
    },
    {
     "data": {
      "application/vnd.jupyter.widget-view+json": {
       "model_id": "15277f337f9a44fab73d194332ca49e1",
       "version_major": 2,
       "version_minor": 0
      },
      "text/plain": [
       "Dropdown(description='User ID(s):', options=('All', '0', '1', '2', '3', '4', '5', '6', '7', '8', '9'), value='…"
      ]
     },
     "metadata": {},
     "output_type": "display_data"
    }
   ],
   "source": [
    "import ast\n",
    "\n",
    "dropdown_timeframe_radarrating = widgets.Dropdown(\n",
    "       options=['Day', 'Week', 'Month', 'Year', 'All Time'],\n",
    "       description='Timeframe:')\n",
    "\n",
    "a = df['userId'].unique()\n",
    "a = np.append(['All'], a)\n",
    "\n",
    "dropdown_user_radarrating = widgets.Dropdown(\n",
    "       options=a,\n",
    "       value='All',\n",
    "       description='User ID(s):')\n",
    "       \n",
    "output_widget_radarrating = widgets.Output()\n",
    "\n",
    "today = dt.datetime.now()\n",
    "timeframe_ago = dt.datetime(1970, 1, 1)\n",
    "\n",
    "\n",
    "def dropdown_timeframe_eventhandler_radarrating(change):\n",
    "    common_filtering_radarrating(change.new, dropdown_user_radarrating.value)\n",
    "\n",
    "def dropdown_user_eventhandler_radarrating(change):\n",
    "    common_filtering_radarrating(dropdown_timeframe_radarrating.value, change.new)\n",
    "    \n",
    "def common_filtering_radarrating(timeframe, user):\n",
    "    output_widget_radarrating.clear_output()\n",
    "    \n",
    "    #timeframe\n",
    "    if timeframe == 'Day':\n",
    "        timeframe_ago = dt.datetime(today.year, today.month, day=today.day)\n",
    "    elif timeframe == 'Week':\n",
    "        idx = (today.weekday() + 1) % 7 # MON = 0, SUN = 6 -> SUN = 0 .. SAT = 6\n",
    "        last_sun = today - dt.timedelta(7+idx-6)\n",
    "        timeframe_ago = dt.datetime(last_sun.year, last_sun.month, day=last_sun.day)\n",
    "    elif timeframe == 'Month':\n",
    "        timeframe_ago = dt.datetime(today.year, today.month, day=1)\n",
    "    elif timeframe == 'Year':\n",
    "        timeframe_ago = dt.datetime(today.year, 1, day=1)\n",
    "    else:\n",
    "        timeframe_ago = dt.datetime(1970, 1, 1)\n",
    "    df_processed_timeframed = df_processed.drop(df_processed[df_processed.date < timeframe_ago.date()].index)\n",
    "    df_timeframed = df.drop(df[pd.to_datetime(df.timestamp) < timeframe_ago].index)\n",
    "    df_timeframed['week_number'] = [dt.datetime.strptime(str(d), '%Y-%m-%d %H:%M:%S').isocalendar()[1] for d in df_timeframed['timestamp']]\n",
    "    \n",
    "    #user\n",
    "    df_processed_user_timeframed = df_processed_timeframed\n",
    "    df_user_timeframed = df_timeframed\n",
    "    \n",
    "    if user != 'All':\n",
    "        dftemp = df_processed_timeframed\n",
    "        df_processed_user_timeframed = dftemp.drop(dftemp[dftemp.userId != int(user)].index)\n",
    "        df_user_timeframed = df_timeframed.drop(df_timeframed[df_timeframed.userId != int(user)].index)\n",
    "    \n",
    "    with output_widget_radarrating:\n",
    "        df_rating = df_user_timeframed.drop(df_user_timeframed[df_user_timeframed['type'] != \"CORE_SCENE_RATE\"].index)\n",
    "        df_rating['data_str'] = [ast.literal_eval(str(d)) for d in df_rating['data']]\n",
    "        df_rating['rating'] = [d['rating'] for d in df_rating['data_str']]\n",
    "        df_rating['rating_cat'] = [d['rating_cat'] for d in df_rating['data_str']]\n",
    "        df_rating = df_rating.drop('data', axis=1)\n",
    "        df_rating = df_rating.drop('data_str', axis=1)\n",
    "        df_rating_cat_grouped = pd.DataFrame({'mean' : df_rating.groupby([\"rating_cat\"])['rating'].mean()}).reset_index()\n",
    "        fig = plt.figure()\n",
    "        ax = fig.add_subplot(111, projection=\"polar\")\n",
    "\n",
    "        # theta has 5 different angles, and the first one repeated\n",
    "        theta = np.arange(len(df_rating_cat_grouped) + 1) / float(len(df_rating_cat_grouped)) * 2 * np.pi\n",
    "        # values has the 5 values from 'mean', with the first element repeated\n",
    "        values = df_rating_cat_grouped['mean'].values\n",
    "        values = np.append(values, values[0])\n",
    "\n",
    "        # draw the polygon and the mark the points for each angle/value combination\n",
    "        l1, = ax.plot(theta, values, color=\"C2\", marker=\"o\", label=\"Mean rating\")\n",
    "        plt.xticks(theta[:-1], df_rating_cat_grouped['rating_cat'], color='grey', size=12)\n",
    "        ax.tick_params(pad=10) # to increase the distance of the labels to the plot\n",
    "        # fill the area of the polygon with green and some transparency\n",
    "        ax.fill(theta, values, 'green', alpha=0.1)\n",
    "\n",
    "        # plt.legend() # shows the legend, using the label of the line plot (useful when there is more than 1 polygon)\n",
    "        plt.title(\"Average Ratings for Different Categories\")\n",
    "        \n",
    "        display(plt.show())\n",
    "\n",
    "dropdown_timeframe_radarrating.observe(dropdown_timeframe_eventhandler_radarrating, names='value')\n",
    "dropdown_user_radarrating.observe(dropdown_user_eventhandler_radarrating, names='value')\n",
    "display(dropdown_timeframe_radarrating)\n",
    "display(dropdown_user_radarrating)"
   ]
  },
  {
   "cell_type": "code",
   "execution_count": 20,
   "id": "8bd4be18",
   "metadata": {},
   "outputs": [
    {
     "data": {
      "application/vnd.jupyter.widget-view+json": {
       "model_id": "7e785c6f639a48cfb9c5ab34d03d8127",
       "version_major": 2,
       "version_minor": 0
      },
      "text/plain": [
       "Output()"
      ]
     },
     "metadata": {},
     "output_type": "display_data"
    }
   ],
   "source": [
    "display(output_widget_radarrating)"
   ]
  },
  {
   "cell_type": "code",
   "execution_count": null,
   "id": "d438528b",
   "metadata": {},
   "outputs": [],
   "source": []
  },
  {
   "cell_type": "code",
   "execution_count": null,
   "id": "65a39690",
   "metadata": {},
   "outputs": [],
   "source": []
  }
 ],
 "metadata": {
  "kernelspec": {
   "display_name": "Python 3",
   "language": "python",
   "name": "python3"
  },
  "language_info": {
   "codemirror_mode": {
    "name": "ipython",
    "version": 3
   },
   "file_extension": ".py",
   "mimetype": "text/x-python",
   "name": "python",
   "nbconvert_exporter": "python",
   "pygments_lexer": "ipython3",
   "version": "3.7.11"
  }
 },
 "nbformat": 4,
 "nbformat_minor": 5
}
