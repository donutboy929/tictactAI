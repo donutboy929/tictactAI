{
 "cells": [
  {
   "cell_type": "markdown",
   "id": "3956003e",
   "metadata": {},
   "source": [
    "# Visualiser for dummy area28 metric data"
   ]
  },
  {
   "cell_type": "code",
   "execution_count": 180,
   "id": "84b0d4a9",
   "metadata": {},
   "outputs": [],
   "source": [
    "import pandas as pd\n",
    "import numpy as np\n",
    "import matplotlib.pyplot as plt\n",
    "import datetime as dt"
   ]
  },
  {
   "cell_type": "code",
   "execution_count": 185,
   "id": "ae8a8cb2",
   "metadata": {},
   "outputs": [
    {
     "data": {
      "text/html": [
       "<div>\n",
       "<style scoped>\n",
       "    .dataframe tbody tr th:only-of-type {\n",
       "        vertical-align: middle;\n",
       "    }\n",
       "\n",
       "    .dataframe tbody tr th {\n",
       "        vertical-align: top;\n",
       "    }\n",
       "\n",
       "    .dataframe thead th {\n",
       "        text-align: right;\n",
       "    }\n",
       "</style>\n",
       "<table border=\"1\" class=\"dataframe\">\n",
       "  <thead>\n",
       "    <tr style=\"text-align: right;\">\n",
       "      <th></th>\n",
       "      <th>id</th>\n",
       "      <th>type</th>\n",
       "      <th>userId</th>\n",
       "      <th>sessionId</th>\n",
       "      <th>timestamp</th>\n",
       "      <th>data</th>\n",
       "    </tr>\n",
       "  </thead>\n",
       "  <tbody>\n",
       "    <tr>\n",
       "      <th>0</th>\n",
       "      <td>1</td>\n",
       "      <td>CORE_SCENE_JOIN</td>\n",
       "      <td>1</td>\n",
       "      <td>1</td>\n",
       "      <td>2021-11-01 05:45:44</td>\n",
       "      <td>{}</td>\n",
       "    </tr>\n",
       "    <tr>\n",
       "      <th>1</th>\n",
       "      <td>2</td>\n",
       "      <td>CORE_SCENE_LEAVE</td>\n",
       "      <td>1</td>\n",
       "      <td>1</td>\n",
       "      <td>2021-11-01 05:46:39</td>\n",
       "      <td>{}</td>\n",
       "    </tr>\n",
       "    <tr>\n",
       "      <th>2</th>\n",
       "      <td>3</td>\n",
       "      <td>CORE_SCENE_JOIN</td>\n",
       "      <td>2</td>\n",
       "      <td>2</td>\n",
       "      <td>2021-11-01 05:45:41</td>\n",
       "      <td>{}</td>\n",
       "    </tr>\n",
       "    <tr>\n",
       "      <th>3</th>\n",
       "      <td>4</td>\n",
       "      <td>CORE_SCENE_LEAVE</td>\n",
       "      <td>2</td>\n",
       "      <td>2</td>\n",
       "      <td>2021-11-01 05:49:04</td>\n",
       "      <td>{}</td>\n",
       "    </tr>\n",
       "    <tr>\n",
       "      <th>4</th>\n",
       "      <td>5</td>\n",
       "      <td>CORE_SCENE_JOIN</td>\n",
       "      <td>3</td>\n",
       "      <td>3</td>\n",
       "      <td>2021-11-01 04:15:41</td>\n",
       "      <td>{}</td>\n",
       "    </tr>\n",
       "    <tr>\n",
       "      <th>5</th>\n",
       "      <td>6</td>\n",
       "      <td>CORE_SCENE_LEAVE</td>\n",
       "      <td>3</td>\n",
       "      <td>3</td>\n",
       "      <td>2021-11-01 04:17:45</td>\n",
       "      <td>{}</td>\n",
       "    </tr>\n",
       "    <tr>\n",
       "      <th>6</th>\n",
       "      <td>7</td>\n",
       "      <td>CORE_SCENE_JOIN</td>\n",
       "      <td>4</td>\n",
       "      <td>4</td>\n",
       "      <td>2021-11-01 04:35:41</td>\n",
       "      <td>{}</td>\n",
       "    </tr>\n",
       "    <tr>\n",
       "      <th>7</th>\n",
       "      <td>8</td>\n",
       "      <td>CORE_SCENE_LEAVE</td>\n",
       "      <td>4</td>\n",
       "      <td>4</td>\n",
       "      <td>2021-11-01 04:39:02</td>\n",
       "      <td>{}</td>\n",
       "    </tr>\n",
       "    <tr>\n",
       "      <th>8</th>\n",
       "      <td>9</td>\n",
       "      <td>CORE_SCENE_JOIN</td>\n",
       "      <td>1</td>\n",
       "      <td>5</td>\n",
       "      <td>2021-11-02 05:46:35</td>\n",
       "      <td>{}</td>\n",
       "    </tr>\n",
       "    <tr>\n",
       "      <th>9</th>\n",
       "      <td>10</td>\n",
       "      <td>CORE_SCENE_LEAVE</td>\n",
       "      <td>1</td>\n",
       "      <td>5</td>\n",
       "      <td>2021-11-02 05:49:55</td>\n",
       "      <td>{}</td>\n",
       "    </tr>\n",
       "    <tr>\n",
       "      <th>10</th>\n",
       "      <td>11</td>\n",
       "      <td>CORE_SCENE_JOIN</td>\n",
       "      <td>2</td>\n",
       "      <td>6</td>\n",
       "      <td>2021-11-02 08:16:33</td>\n",
       "      <td>{}</td>\n",
       "    </tr>\n",
       "    <tr>\n",
       "      <th>11</th>\n",
       "      <td>12</td>\n",
       "      <td>CORE_SCENE_LEAVE</td>\n",
       "      <td>2</td>\n",
       "      <td>6</td>\n",
       "      <td>2021-11-02 08:21:42</td>\n",
       "      <td>{}</td>\n",
       "    </tr>\n",
       "    <tr>\n",
       "      <th>12</th>\n",
       "      <td>13</td>\n",
       "      <td>CORE_SCENE_JOIN</td>\n",
       "      <td>3</td>\n",
       "      <td>7</td>\n",
       "      <td>2021-11-02 06:19:55</td>\n",
       "      <td>{}</td>\n",
       "    </tr>\n",
       "    <tr>\n",
       "      <th>13</th>\n",
       "      <td>14</td>\n",
       "      <td>CORE_SCENE_LEAVE</td>\n",
       "      <td>3</td>\n",
       "      <td>7</td>\n",
       "      <td>2021-11-02 06:22:05</td>\n",
       "      <td>{}</td>\n",
       "    </tr>\n",
       "    <tr>\n",
       "      <th>14</th>\n",
       "      <td>15</td>\n",
       "      <td>CORE_SCENE_JOIN</td>\n",
       "      <td>4</td>\n",
       "      <td>8</td>\n",
       "      <td>2021-11-02 05:44:45</td>\n",
       "      <td>{}</td>\n",
       "    </tr>\n",
       "    <tr>\n",
       "      <th>15</th>\n",
       "      <td>16</td>\n",
       "      <td>CORE_SCENE_LEAVE</td>\n",
       "      <td>4</td>\n",
       "      <td>8</td>\n",
       "      <td>2021-11-02 05:46:35</td>\n",
       "      <td>{}</td>\n",
       "    </tr>\n",
       "  </tbody>\n",
       "</table>\n",
       "</div>"
      ],
      "text/plain": [
       "    id              type  userId  sessionId           timestamp data\n",
       "0    1   CORE_SCENE_JOIN       1          1 2021-11-01 05:45:44   {}\n",
       "1    2  CORE_SCENE_LEAVE       1          1 2021-11-01 05:46:39   {}\n",
       "2    3   CORE_SCENE_JOIN       2          2 2021-11-01 05:45:41   {}\n",
       "3    4  CORE_SCENE_LEAVE       2          2 2021-11-01 05:49:04   {}\n",
       "4    5   CORE_SCENE_JOIN       3          3 2021-11-01 04:15:41   {}\n",
       "5    6  CORE_SCENE_LEAVE       3          3 2021-11-01 04:17:45   {}\n",
       "6    7   CORE_SCENE_JOIN       4          4 2021-11-01 04:35:41   {}\n",
       "7    8  CORE_SCENE_LEAVE       4          4 2021-11-01 04:39:02   {}\n",
       "8    9   CORE_SCENE_JOIN       1          5 2021-11-02 05:46:35   {}\n",
       "9   10  CORE_SCENE_LEAVE       1          5 2021-11-02 05:49:55   {}\n",
       "10  11   CORE_SCENE_JOIN       2          6 2021-11-02 08:16:33   {}\n",
       "11  12  CORE_SCENE_LEAVE       2          6 2021-11-02 08:21:42   {}\n",
       "12  13   CORE_SCENE_JOIN       3          7 2021-11-02 06:19:55   {}\n",
       "13  14  CORE_SCENE_LEAVE       3          7 2021-11-02 06:22:05   {}\n",
       "14  15   CORE_SCENE_JOIN       4          8 2021-11-02 05:44:45   {}\n",
       "15  16  CORE_SCENE_LEAVE       4          8 2021-11-02 05:46:35   {}"
      ]
     },
     "execution_count": 185,
     "metadata": {},
     "output_type": "execute_result"
    }
   ],
   "source": [
    "df = pd.read_json(\"data.json\")\n",
    "df"
   ]
  },
  {
   "cell_type": "code",
   "execution_count": 186,
   "id": "bf53591e",
   "metadata": {},
   "outputs": [
    {
     "data": {
      "text/html": [
       "<div>\n",
       "<style scoped>\n",
       "    .dataframe tbody tr th:only-of-type {\n",
       "        vertical-align: middle;\n",
       "    }\n",
       "\n",
       "    .dataframe tbody tr th {\n",
       "        vertical-align: top;\n",
       "    }\n",
       "\n",
       "    .dataframe thead th {\n",
       "        text-align: right;\n",
       "    }\n",
       "</style>\n",
       "<table border=\"1\" class=\"dataframe\">\n",
       "  <thead>\n",
       "    <tr style=\"text-align: right;\">\n",
       "      <th></th>\n",
       "      <th>userId</th>\n",
       "      <th>sessionId</th>\n",
       "      <th>duration</th>\n",
       "      <th>date</th>\n",
       "      <th>time</th>\n",
       "      <th>weekday</th>\n",
       "    </tr>\n",
       "  </thead>\n",
       "  <tbody>\n",
       "    <tr>\n",
       "      <th>1</th>\n",
       "      <td>1</td>\n",
       "      <td>1</td>\n",
       "      <td>0 days 00:00:55</td>\n",
       "      <td>2021-11-01</td>\n",
       "      <td>05:46:39</td>\n",
       "      <td>Monday</td>\n",
       "    </tr>\n",
       "    <tr>\n",
       "      <th>3</th>\n",
       "      <td>2</td>\n",
       "      <td>2</td>\n",
       "      <td>0 days 00:03:23</td>\n",
       "      <td>2021-11-01</td>\n",
       "      <td>05:49:04</td>\n",
       "      <td>Monday</td>\n",
       "    </tr>\n",
       "    <tr>\n",
       "      <th>5</th>\n",
       "      <td>3</td>\n",
       "      <td>3</td>\n",
       "      <td>0 days 00:02:04</td>\n",
       "      <td>2021-11-01</td>\n",
       "      <td>04:17:45</td>\n",
       "      <td>Monday</td>\n",
       "    </tr>\n",
       "    <tr>\n",
       "      <th>7</th>\n",
       "      <td>4</td>\n",
       "      <td>4</td>\n",
       "      <td>0 days 00:03:21</td>\n",
       "      <td>2021-11-01</td>\n",
       "      <td>04:39:02</td>\n",
       "      <td>Monday</td>\n",
       "    </tr>\n",
       "    <tr>\n",
       "      <th>9</th>\n",
       "      <td>1</td>\n",
       "      <td>5</td>\n",
       "      <td>0 days 00:03:20</td>\n",
       "      <td>2021-11-02</td>\n",
       "      <td>05:49:55</td>\n",
       "      <td>Tuesday</td>\n",
       "    </tr>\n",
       "    <tr>\n",
       "      <th>11</th>\n",
       "      <td>2</td>\n",
       "      <td>6</td>\n",
       "      <td>0 days 00:05:09</td>\n",
       "      <td>2021-11-02</td>\n",
       "      <td>08:21:42</td>\n",
       "      <td>Tuesday</td>\n",
       "    </tr>\n",
       "    <tr>\n",
       "      <th>13</th>\n",
       "      <td>3</td>\n",
       "      <td>7</td>\n",
       "      <td>0 days 00:02:10</td>\n",
       "      <td>2021-11-02</td>\n",
       "      <td>06:22:05</td>\n",
       "      <td>Tuesday</td>\n",
       "    </tr>\n",
       "    <tr>\n",
       "      <th>15</th>\n",
       "      <td>4</td>\n",
       "      <td>8</td>\n",
       "      <td>0 days 00:01:50</td>\n",
       "      <td>2021-11-02</td>\n",
       "      <td>05:46:35</td>\n",
       "      <td>Tuesday</td>\n",
       "    </tr>\n",
       "  </tbody>\n",
       "</table>\n",
       "</div>"
      ],
      "text/plain": [
       "    userId  sessionId        duration        date      time  weekday\n",
       "1        1          1 0 days 00:00:55  2021-11-01  05:46:39   Monday\n",
       "3        2          2 0 days 00:03:23  2021-11-01  05:49:04   Monday\n",
       "5        3          3 0 days 00:02:04  2021-11-01  04:17:45   Monday\n",
       "7        4          4 0 days 00:03:21  2021-11-01  04:39:02   Monday\n",
       "9        1          5 0 days 00:03:20  2021-11-02  05:49:55  Tuesday\n",
       "11       2          6 0 days 00:05:09  2021-11-02  08:21:42  Tuesday\n",
       "13       3          7 0 days 00:02:10  2021-11-02  06:22:05  Tuesday\n",
       "15       4          8 0 days 00:01:50  2021-11-02  05:46:35  Tuesday"
      ]
     },
     "execution_count": 186,
     "metadata": {},
     "output_type": "execute_result"
    }
   ],
   "source": [
    "import calendar\n",
    "\n",
    "durations = df.groupby(['userId', 'sessionId'])['timestamp'].diff()\n",
    "df['datetime'] = pd.to_datetime(df['timestamp'])\n",
    "df['date'] = [dt.datetime.date(d) for d in df['datetime']] \n",
    "df['time'] = [dt.datetime.time(d) for d in df['datetime']]\n",
    "df['weekday'] = [calendar.day_name[d.weekday()] for d in df['datetime']]\n",
    "\n",
    "df['duration'] = durations\n",
    "df_processed = df[['userId', 'sessionId', 'duration', 'date', 'time', 'weekday']].copy()\n",
    "df_processed = df_processed.dropna()\n",
    "df_processed"
   ]
  },
  {
   "cell_type": "code",
   "execution_count": null,
   "id": "bd6d1787",
   "metadata": {},
   "outputs": [],
   "source": []
  },
  {
   "cell_type": "markdown",
   "id": "f78f8a57",
   "metadata": {},
   "source": [
    "### Bar Chart showing how long users spent per session"
   ]
  },
  {
   "cell_type": "code",
   "execution_count": 187,
   "id": "16dd4220",
   "metadata": {},
   "outputs": [
    {
     "data": {
      "text/plain": [
       "<BarContainer object of 8 artists>"
      ]
     },
     "execution_count": 187,
     "metadata": {},
     "output_type": "execute_result"
    },
    {
     "data": {
      "image/png": "[encoded data removed]",
      "text/plain": [
       "<Figure size 432x288 with 1 Axes>"
      ]
     },
     "metadata": {
      "needs_background": "light"
     },
     "output_type": "display_data"
    }
   ],
   "source": [
    "# df_processed.plot(x=\"userId\", y=[\"times\"])\n",
    "\n",
    "fig = plt.figure()\n",
    "ax = fig.add_axes([0,0,1,1])\n",
    "ax.set_ylabel('Time in session')\n",
    "ax.set_xlabel('ID')\n",
    "ax.bar(df_processed['userId'], df_processed['duration'])"
   ]
  },
  {
   "cell_type": "markdown",
   "id": "6428b25b",
   "metadata": {},
   "source": [
    "# Heatmap showing time spent in session for each user during a week"
   ]
  },
  {
   "cell_type": "code",
   "execution_count": 188,
   "id": "d4ef74ea",
   "metadata": {},
   "outputs": [
    {
     "data": {
      "image/png": "[encoded data removed]",
      "text/plain": [
       "<Figure size 432x288 with 2 Axes>"
      ]
     },
     "metadata": {
      "needs_background": "light"
     },
     "output_type": "display_data"
    }
   ],
   "source": [
    "from pandas import DataFrame\n",
    "import seaborn as sns\n",
    "import time\n",
    "%matplotlib inline\n",
    "\n",
    "df_processed['seconds'] = [d.total_seconds() for d in df_processed['duration']]\n",
    "\n",
    "df_heatmap = df_processed.pivot(index='weekday', columns='userId', values='seconds')\n",
    "\n",
    "sns.heatmap(df_heatmap, annot=True, fmt=\"g\", cmap='viridis')\n",
    "plt.show()"
   ]
  },
  {
   "cell_type": "code",
   "execution_count": 118,
   "id": "0072dcf9",
   "metadata": {},
   "outputs": [
    {
     "data": {
      "text/plain": [
       "1635831995.476573"
      ]
     },
     "execution_count": 118,
     "metadata": {},
     "output_type": "execute_result"
    }
   ],
   "source": [
    "dt.datetime.now().timestamp()\n"
   ]
  },
  {
   "cell_type": "code",
   "execution_count": null,
   "id": "4c8ca876",
   "metadata": {},
   "outputs": [],
   "source": []
  }
 ],
 "metadata": {
  "kernelspec": {
   "display_name": "Python 3",
   "language": "python",
   "name": "python3"
  },
  "language_info": {
   "codemirror_mode": {
    "name": "ipython",
    "version": 3
   },
   "file_extension": ".py",
   "mimetype": "text/x-python",
   "name": "python",
   "nbconvert_exporter": "python",
   "pygments_lexer": "ipython3",
   "version": "3.7.11"
  }
 },
 "nbformat": 4,
 "nbformat_minor": 5
}
