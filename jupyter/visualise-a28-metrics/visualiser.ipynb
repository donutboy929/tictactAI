{
 "cells": [
  {
   "cell_type": "markdown",
   "id": "3bfa9238",
   "metadata": {},
   "source": [
    "# Visualiser for area28 metric data"
   ]
  },
  {
   "cell_type": "code",
   "execution_count": 24,
   "id": "ceb16383",
   "metadata": {},
   "outputs": [
    {
     "data": {
      "text/html": [
       "<script>\n",
       "code_show=true; \n",
       "function code_toggle() {\n",
       " if (code_show){\n",
       " $('div.input').hide();\n",
       " } else {\n",
       " $('div.input').show();\n",
       " }\n",
       " code_show = !code_show\n",
       "} \n",
       "$( document ).ready(code_toggle);\n",
       "</script>\n",
       "<form action=\"javascript:code_toggle()\"><input type=\"submit\" value=\"Click here to toggle on/off the raw code.\"></form>"
      ],
      "text/plain": [
       "<IPython.core.display.HTML object>"
      ]
     },
     "execution_count": 24,
     "metadata": {},
     "output_type": "execute_result"
    }
   ],
   "source": [
    "from IPython.display import HTML\n",
    "\n",
    "HTML('''<script>\n",
    "code_show=true; \n",
    "function code_toggle() {\n",
    " if (code_show){\n",
    " $('div.input').hide();\n",
    " } else {\n",
    " $('div.input').show();\n",
    " }\n",
    " code_show = !code_show\n",
    "} \n",
    "$( document ).ready(code_toggle);\n",
    "</script>\n",
    "<form action=\"javascript:code_toggle()\"><input type=\"submit\" value=\"Click here to toggle on/off the raw code.\"></form>''')"
   ]
  },
  {
   "cell_type": "code",
   "execution_count": 2,
   "id": "ca85c3ac",
   "metadata": {},
   "outputs": [],
   "source": [
    "import warnings\n",
    "warnings.simplefilter(action='ignore', category=FutureWarning)"
   ]
  },
  {
   "cell_type": "markdown",
   "id": "4cb3569d",
   "metadata": {},
   "source": [
    "## Import data as CSV / json file"
   ]
  },
  {
   "cell_type": "code",
   "execution_count": 3,
   "id": "745d79d6",
   "metadata": {
    "scrolled": false
   },
   "outputs": [
    {
     "data": {
      "text/html": [
       "<div>\n",
       "<style scoped>\n",
       "    .dataframe tbody tr th:only-of-type {\n",
       "        vertical-align: middle;\n",
       "    }\n",
       "\n",
       "    .dataframe tbody tr th {\n",
       "        vertical-align: top;\n",
       "    }\n",
       "\n",
       "    .dataframe thead th {\n",
       "        text-align: right;\n",
       "    }\n",
       "</style>\n",
       "<table border=\"1\" class=\"dataframe\">\n",
       "  <thead>\n",
       "    <tr style=\"text-align: right;\">\n",
       "      <th></th>\n",
       "      <th>type</th>\n",
       "      <th>userId</th>\n",
       "      <th>sceneId</th>\n",
       "      <th>timestamp</th>\n",
       "      <th>data</th>\n",
       "    </tr>\n",
       "    <tr>\n",
       "      <th>id</th>\n",
       "      <th></th>\n",
       "      <th></th>\n",
       "      <th></th>\n",
       "      <th></th>\n",
       "      <th></th>\n",
       "    </tr>\n",
       "  </thead>\n",
       "  <tbody>\n",
       "    <tr>\n",
       "      <th>a8f2947a-1cce-411a-add8-8a6f6f8ddaed</th>\n",
       "      <td>CORE_SCENE_JOIN</td>\n",
       "      <td>12367640-999d-4dc8-b121-ecb7f144071a</td>\n",
       "      <td>6447fc39-4d88-428e-94cd-87df85013b03</td>\n",
       "      <td>2021-10-04 10:20:22</td>\n",
       "      <td>{'ratingValue': None, 'ratingCategory': None}</td>\n",
       "    </tr>\n",
       "    <tr>\n",
       "      <th>1f053a3c-57f0-4eee-b4a2-0f0aa049c271</th>\n",
       "      <td>CORE_SCENE_LEAVE</td>\n",
       "      <td>12367640-999d-4dc8-b121-ecb7f144071a</td>\n",
       "      <td>6447fc39-4d88-428e-94cd-87df85013b03</td>\n",
       "      <td>2021-10-04 12:12:15</td>\n",
       "      <td>{'ratingValue': None, 'ratingCategory': None}</td>\n",
       "    </tr>\n",
       "    <tr>\n",
       "      <th>2950a541-c108-4541-8619-abc63dff39fa</th>\n",
       "      <td>CORE_SCENE_JOIN</td>\n",
       "      <td>f1f86bb6-27b3-4c1a-ba2b-d885c9ca2d12</td>\n",
       "      <td>6447fc39-4d88-428e-94cd-87df85013b03</td>\n",
       "      <td>2021-10-04 09:36:27</td>\n",
       "      <td>{'ratingValue': None, 'ratingCategory': None}</td>\n",
       "    </tr>\n",
       "    <tr>\n",
       "      <th>20c03020-92c6-4019-9ed3-aec8775b8a90</th>\n",
       "      <td>CORE_SCENE_LEAVE</td>\n",
       "      <td>f1f86bb6-27b3-4c1a-ba2b-d885c9ca2d12</td>\n",
       "      <td>6447fc39-4d88-428e-94cd-87df85013b03</td>\n",
       "      <td>2021-10-04 11:25:15</td>\n",
       "      <td>{'ratingValue': None, 'ratingCategory': None}</td>\n",
       "    </tr>\n",
       "    <tr>\n",
       "      <th>e4aa434a-4d87-4103-98a5-8cb8274d8b82</th>\n",
       "      <td>CORE_SCENE_RATE</td>\n",
       "      <td>f1f86bb6-27b3-4c1a-ba2b-d885c9ca2d12</td>\n",
       "      <td>6447fc39-4d88-428e-94cd-87df85013b03</td>\n",
       "      <td>2021-10-04 11:25:33</td>\n",
       "      <td>{'ratingValue': 2, 'ratingCategory': 'Cat4'}</td>\n",
       "    </tr>\n",
       "    <tr>\n",
       "      <th>...</th>\n",
       "      <td>...</td>\n",
       "      <td>...</td>\n",
       "      <td>...</td>\n",
       "      <td>...</td>\n",
       "      <td>...</td>\n",
       "    </tr>\n",
       "    <tr>\n",
       "      <th>b8ec4675-8719-46a9-b09f-6ec9313b178a</th>\n",
       "      <td>CORE_SCENE_LEAVE</td>\n",
       "      <td>a36d2bd7-92b8-4e91-8c85-62b1cfee37cc</td>\n",
       "      <td>070f05ee-9385-4d75-8fa1-3e2edd08c4d4</td>\n",
       "      <td>2021-11-22 13:06:39</td>\n",
       "      <td>{'ratingValue': None, 'ratingCategory': None}</td>\n",
       "    </tr>\n",
       "    <tr>\n",
       "      <th>322410b2-96cd-42ab-8057-ac98b1d84849</th>\n",
       "      <td>CORE_SCENE_RATE</td>\n",
       "      <td>a36d2bd7-92b8-4e91-8c85-62b1cfee37cc</td>\n",
       "      <td>070f05ee-9385-4d75-8fa1-3e2edd08c4d4</td>\n",
       "      <td>2021-11-22 13:08:23</td>\n",
       "      <td>{'ratingValue': 4, 'ratingCategory': 'Cat5'}</td>\n",
       "    </tr>\n",
       "    <tr>\n",
       "      <th>152f3ebd-ec11-4e6d-9a28-9ff475c9b658</th>\n",
       "      <td>CORE_SCENE_JOIN</td>\n",
       "      <td>9481fcc9-cc9d-4f6c-a7bb-f4687d70b934</td>\n",
       "      <td>070f05ee-9385-4d75-8fa1-3e2edd08c4d4</td>\n",
       "      <td>2021-11-22 11:55:58</td>\n",
       "      <td>{'ratingValue': None, 'ratingCategory': None}</td>\n",
       "    </tr>\n",
       "    <tr>\n",
       "      <th>fcdc1314-aad5-4f67-b1e3-7c37ca752d15</th>\n",
       "      <td>CORE_SCENE_LEAVE</td>\n",
       "      <td>9481fcc9-cc9d-4f6c-a7bb-f4687d70b934</td>\n",
       "      <td>070f05ee-9385-4d75-8fa1-3e2edd08c4d4</td>\n",
       "      <td>2021-11-22 13:03:44</td>\n",
       "      <td>{'ratingValue': None, 'ratingCategory': None}</td>\n",
       "    </tr>\n",
       "    <tr>\n",
       "      <th>dd9506df-4d4d-46fd-9d25-417c3fb0f5a9</th>\n",
       "      <td>CORE_SCENE_RATE</td>\n",
       "      <td>9481fcc9-cc9d-4f6c-a7bb-f4687d70b934</td>\n",
       "      <td>070f05ee-9385-4d75-8fa1-3e2edd08c4d4</td>\n",
       "      <td>2021-11-22 13:05:30</td>\n",
       "      <td>{'ratingValue': 1, 'ratingCategory': 'Collab T...</td>\n",
       "    </tr>\n",
       "  </tbody>\n",
       "</table>\n",
       "<p>880 rows × 5 columns</p>\n",
       "</div>"
      ],
      "text/plain": [
       "                                                  type  \\\n",
       "id                                                       \n",
       "a8f2947a-1cce-411a-add8-8a6f6f8ddaed   CORE_SCENE_JOIN   \n",
       "1f053a3c-57f0-4eee-b4a2-0f0aa049c271  CORE_SCENE_LEAVE   \n",
       "2950a541-c108-4541-8619-abc63dff39fa   CORE_SCENE_JOIN   \n",
       "20c03020-92c6-4019-9ed3-aec8775b8a90  CORE_SCENE_LEAVE   \n",
       "e4aa434a-4d87-4103-98a5-8cb8274d8b82   CORE_SCENE_RATE   \n",
       "...                                                ...   \n",
       "b8ec4675-8719-46a9-b09f-6ec9313b178a  CORE_SCENE_LEAVE   \n",
       "322410b2-96cd-42ab-8057-ac98b1d84849   CORE_SCENE_RATE   \n",
       "152f3ebd-ec11-4e6d-9a28-9ff475c9b658   CORE_SCENE_JOIN   \n",
       "fcdc1314-aad5-4f67-b1e3-7c37ca752d15  CORE_SCENE_LEAVE   \n",
       "dd9506df-4d4d-46fd-9d25-417c3fb0f5a9   CORE_SCENE_RATE   \n",
       "\n",
       "                                                                    userId  \\\n",
       "id                                                                           \n",
       "a8f2947a-1cce-411a-add8-8a6f6f8ddaed  12367640-999d-4dc8-b121-ecb7f144071a   \n",
       "1f053a3c-57f0-4eee-b4a2-0f0aa049c271  12367640-999d-4dc8-b121-ecb7f144071a   \n",
       "2950a541-c108-4541-8619-abc63dff39fa  f1f86bb6-27b3-4c1a-ba2b-d885c9ca2d12   \n",
       "20c03020-92c6-4019-9ed3-aec8775b8a90  f1f86bb6-27b3-4c1a-ba2b-d885c9ca2d12   \n",
       "e4aa434a-4d87-4103-98a5-8cb8274d8b82  f1f86bb6-27b3-4c1a-ba2b-d885c9ca2d12   \n",
       "...                                                                    ...   \n",
       "b8ec4675-8719-46a9-b09f-6ec9313b178a  a36d2bd7-92b8-4e91-8c85-62b1cfee37cc   \n",
       "322410b2-96cd-42ab-8057-ac98b1d84849  a36d2bd7-92b8-4e91-8c85-62b1cfee37cc   \n",
       "152f3ebd-ec11-4e6d-9a28-9ff475c9b658  9481fcc9-cc9d-4f6c-a7bb-f4687d70b934   \n",
       "fcdc1314-aad5-4f67-b1e3-7c37ca752d15  9481fcc9-cc9d-4f6c-a7bb-f4687d70b934   \n",
       "dd9506df-4d4d-46fd-9d25-417c3fb0f5a9  9481fcc9-cc9d-4f6c-a7bb-f4687d70b934   \n",
       "\n",
       "                                                                   sceneId  \\\n",
       "id                                                                           \n",
       "a8f2947a-1cce-411a-add8-8a6f6f8ddaed  6447fc39-4d88-428e-94cd-87df85013b03   \n",
       "1f053a3c-57f0-4eee-b4a2-0f0aa049c271  6447fc39-4d88-428e-94cd-87df85013b03   \n",
       "2950a541-c108-4541-8619-abc63dff39fa  6447fc39-4d88-428e-94cd-87df85013b03   \n",
       "20c03020-92c6-4019-9ed3-aec8775b8a90  6447fc39-4d88-428e-94cd-87df85013b03   \n",
       "e4aa434a-4d87-4103-98a5-8cb8274d8b82  6447fc39-4d88-428e-94cd-87df85013b03   \n",
       "...                                                                    ...   \n",
       "b8ec4675-8719-46a9-b09f-6ec9313b178a  070f05ee-9385-4d75-8fa1-3e2edd08c4d4   \n",
       "322410b2-96cd-42ab-8057-ac98b1d84849  070f05ee-9385-4d75-8fa1-3e2edd08c4d4   \n",
       "152f3ebd-ec11-4e6d-9a28-9ff475c9b658  070f05ee-9385-4d75-8fa1-3e2edd08c4d4   \n",
       "fcdc1314-aad5-4f67-b1e3-7c37ca752d15  070f05ee-9385-4d75-8fa1-3e2edd08c4d4   \n",
       "dd9506df-4d4d-46fd-9d25-417c3fb0f5a9  070f05ee-9385-4d75-8fa1-3e2edd08c4d4   \n",
       "\n",
       "                                                timestamp  \\\n",
       "id                                                          \n",
       "a8f2947a-1cce-411a-add8-8a6f6f8ddaed  2021-10-04 10:20:22   \n",
       "1f053a3c-57f0-4eee-b4a2-0f0aa049c271  2021-10-04 12:12:15   \n",
       "2950a541-c108-4541-8619-abc63dff39fa  2021-10-04 09:36:27   \n",
       "20c03020-92c6-4019-9ed3-aec8775b8a90  2021-10-04 11:25:15   \n",
       "e4aa434a-4d87-4103-98a5-8cb8274d8b82  2021-10-04 11:25:33   \n",
       "...                                                   ...   \n",
       "b8ec4675-8719-46a9-b09f-6ec9313b178a  2021-11-22 13:06:39   \n",
       "322410b2-96cd-42ab-8057-ac98b1d84849  2021-11-22 13:08:23   \n",
       "152f3ebd-ec11-4e6d-9a28-9ff475c9b658  2021-11-22 11:55:58   \n",
       "fcdc1314-aad5-4f67-b1e3-7c37ca752d15  2021-11-22 13:03:44   \n",
       "dd9506df-4d4d-46fd-9d25-417c3fb0f5a9  2021-11-22 13:05:30   \n",
       "\n",
       "                                                                                   data  \n",
       "id                                                                                       \n",
       "a8f2947a-1cce-411a-add8-8a6f6f8ddaed      {'ratingValue': None, 'ratingCategory': None}  \n",
       "1f053a3c-57f0-4eee-b4a2-0f0aa049c271      {'ratingValue': None, 'ratingCategory': None}  \n",
       "2950a541-c108-4541-8619-abc63dff39fa      {'ratingValue': None, 'ratingCategory': None}  \n",
       "20c03020-92c6-4019-9ed3-aec8775b8a90      {'ratingValue': None, 'ratingCategory': None}  \n",
       "e4aa434a-4d87-4103-98a5-8cb8274d8b82       {'ratingValue': 2, 'ratingCategory': 'Cat4'}  \n",
       "...                                                                                 ...  \n",
       "b8ec4675-8719-46a9-b09f-6ec9313b178a      {'ratingValue': None, 'ratingCategory': None}  \n",
       "322410b2-96cd-42ab-8057-ac98b1d84849       {'ratingValue': 4, 'ratingCategory': 'Cat5'}  \n",
       "152f3ebd-ec11-4e6d-9a28-9ff475c9b658      {'ratingValue': None, 'ratingCategory': None}  \n",
       "fcdc1314-aad5-4f67-b1e3-7c37ca752d15      {'ratingValue': None, 'ratingCategory': None}  \n",
       "dd9506df-4d4d-46fd-9d25-417c3fb0f5a9  {'ratingValue': 1, 'ratingCategory': 'Collab T...  \n",
       "\n",
       "[880 rows x 5 columns]"
      ]
     },
     "execution_count": 3,
     "metadata": {},
     "output_type": "execute_result"
    }
   ],
   "source": [
    "import pandas as pd\n",
    "import numpy as np\n",
    "import matplotlib.pyplot as plt\n",
    "import datetime as dt\n",
    "\n",
    "# df = pd.read_json(\"data.json\")\n",
    "df = pd.read_csv(\"dummy.csv\")\n",
    "df = df.set_index('id')\n",
    "df"
   ]
  },
  {
   "cell_type": "markdown",
   "id": "22cf51f7",
   "metadata": {},
   "source": [
    "## Pre-process data to be visualised"
   ]
  },
  {
   "cell_type": "code",
   "execution_count": 4,
   "id": "b7fe9d2f",
   "metadata": {},
   "outputs": [
    {
     "data": {
      "text/html": [
       "<div>\n",
       "<style scoped>\n",
       "    .dataframe tbody tr th:only-of-type {\n",
       "        vertical-align: middle;\n",
       "    }\n",
       "\n",
       "    .dataframe tbody tr th {\n",
       "        vertical-align: top;\n",
       "    }\n",
       "\n",
       "    .dataframe thead th {\n",
       "        text-align: right;\n",
       "    }\n",
       "</style>\n",
       "<table border=\"1\" class=\"dataframe\">\n",
       "  <thead>\n",
       "    <tr style=\"text-align: right;\">\n",
       "      <th></th>\n",
       "      <th>userId</th>\n",
       "      <th>type</th>\n",
       "      <th>date</th>\n",
       "      <th>duration</th>\n",
       "      <th>time</th>\n",
       "      <th>weekday</th>\n",
       "      <th>week_number</th>\n",
       "      <th>sceneId</th>\n",
       "    </tr>\n",
       "    <tr>\n",
       "      <th>id</th>\n",
       "      <th></th>\n",
       "      <th></th>\n",
       "      <th></th>\n",
       "      <th></th>\n",
       "      <th></th>\n",
       "      <th></th>\n",
       "      <th></th>\n",
       "      <th></th>\n",
       "    </tr>\n",
       "  </thead>\n",
       "  <tbody>\n",
       "    <tr>\n",
       "      <th>1f053a3c-57f0-4eee-b4a2-0f0aa049c271</th>\n",
       "      <td>12367640-999d-4dc8-b121-ecb7f144071a</td>\n",
       "      <td>CORE_SCENE_LEAVE</td>\n",
       "      <td>2021-10-04</td>\n",
       "      <td>0 days 01:51:53</td>\n",
       "      <td>12:12:15</td>\n",
       "      <td>Monday</td>\n",
       "      <td>40</td>\n",
       "      <td>6447fc39-4d88-428e-94cd-87df85013b03</td>\n",
       "    </tr>\n",
       "    <tr>\n",
       "      <th>20c03020-92c6-4019-9ed3-aec8775b8a90</th>\n",
       "      <td>f1f86bb6-27b3-4c1a-ba2b-d885c9ca2d12</td>\n",
       "      <td>CORE_SCENE_LEAVE</td>\n",
       "      <td>2021-10-04</td>\n",
       "      <td>0 days 01:48:48</td>\n",
       "      <td>11:25:15</td>\n",
       "      <td>Monday</td>\n",
       "      <td>40</td>\n",
       "      <td>6447fc39-4d88-428e-94cd-87df85013b03</td>\n",
       "    </tr>\n",
       "    <tr>\n",
       "      <th>055dcba8-f5a8-424d-b9ba-02c0070d2379</th>\n",
       "      <td>c5673ecc-a571-4cc6-8d44-dba17d755377</td>\n",
       "      <td>CORE_SCENE_LEAVE</td>\n",
       "      <td>2021-10-04</td>\n",
       "      <td>0 days 02:47:34</td>\n",
       "      <td>12:06:11</td>\n",
       "      <td>Monday</td>\n",
       "      <td>40</td>\n",
       "      <td>6447fc39-4d88-428e-94cd-87df85013b03</td>\n",
       "    </tr>\n",
       "    <tr>\n",
       "      <th>82cf2981-49b0-4ce2-989a-557057b0bf9d</th>\n",
       "      <td>ef7f50d4-c6b2-4f19-af72-c6e8a6b9f7b2</td>\n",
       "      <td>CORE_SCENE_LEAVE</td>\n",
       "      <td>2021-10-04</td>\n",
       "      <td>0 days 02:56:52</td>\n",
       "      <td>14:54:10</td>\n",
       "      <td>Monday</td>\n",
       "      <td>40</td>\n",
       "      <td>6447fc39-4d88-428e-94cd-87df85013b03</td>\n",
       "    </tr>\n",
       "    <tr>\n",
       "      <th>b9b44281-9963-4734-af0c-e55ce77f4fb2</th>\n",
       "      <td>35992cdf-2202-4735-a71d-bfabbbe12dab</td>\n",
       "      <td>CORE_SCENE_LEAVE</td>\n",
       "      <td>2021-10-04</td>\n",
       "      <td>0 days 02:03:05</td>\n",
       "      <td>14:59:09</td>\n",
       "      <td>Monday</td>\n",
       "      <td>40</td>\n",
       "      <td>6447fc39-4d88-428e-94cd-87df85013b03</td>\n",
       "    </tr>\n",
       "    <tr>\n",
       "      <th>...</th>\n",
       "      <td>...</td>\n",
       "      <td>...</td>\n",
       "      <td>...</td>\n",
       "      <td>...</td>\n",
       "      <td>...</td>\n",
       "      <td>...</td>\n",
       "      <td>...</td>\n",
       "      <td>...</td>\n",
       "    </tr>\n",
       "    <tr>\n",
       "      <th>e517ae92-06ef-40c7-b9cd-fe47a3e0513b</th>\n",
       "      <td>21d90da3-1e56-4c5d-ba80-cb099df1db34</td>\n",
       "      <td>CORE_SCENE_LEAVE</td>\n",
       "      <td>2021-11-22</td>\n",
       "      <td>0 days 02:36:41</td>\n",
       "      <td>13:22:13</td>\n",
       "      <td>Monday</td>\n",
       "      <td>47</td>\n",
       "      <td>070f05ee-9385-4d75-8fa1-3e2edd08c4d4</td>\n",
       "    </tr>\n",
       "    <tr>\n",
       "      <th>2b9e21f2-9670-4ce9-968c-a80f7165b293</th>\n",
       "      <td>d44b7ae3-9158-4ca5-92a4-65e4e90b6c07</td>\n",
       "      <td>CORE_SCENE_LEAVE</td>\n",
       "      <td>2021-11-22</td>\n",
       "      <td>0 days 01:58:05</td>\n",
       "      <td>12:33:53</td>\n",
       "      <td>Monday</td>\n",
       "      <td>47</td>\n",
       "      <td>070f05ee-9385-4d75-8fa1-3e2edd08c4d4</td>\n",
       "    </tr>\n",
       "    <tr>\n",
       "      <th>1093c937-f273-4626-9f64-2119aad92f13</th>\n",
       "      <td>f2508934-ce13-416f-8f5d-d68eaff46217</td>\n",
       "      <td>CORE_SCENE_LEAVE</td>\n",
       "      <td>2021-11-22</td>\n",
       "      <td>0 days 05:54:58</td>\n",
       "      <td>16:26:09</td>\n",
       "      <td>Monday</td>\n",
       "      <td>47</td>\n",
       "      <td>070f05ee-9385-4d75-8fa1-3e2edd08c4d4</td>\n",
       "    </tr>\n",
       "    <tr>\n",
       "      <th>b8ec4675-8719-46a9-b09f-6ec9313b178a</th>\n",
       "      <td>a36d2bd7-92b8-4e91-8c85-62b1cfee37cc</td>\n",
       "      <td>CORE_SCENE_LEAVE</td>\n",
       "      <td>2021-11-22</td>\n",
       "      <td>0 days 02:34:20</td>\n",
       "      <td>13:06:39</td>\n",
       "      <td>Monday</td>\n",
       "      <td>47</td>\n",
       "      <td>070f05ee-9385-4d75-8fa1-3e2edd08c4d4</td>\n",
       "    </tr>\n",
       "    <tr>\n",
       "      <th>fcdc1314-aad5-4f67-b1e3-7c37ca752d15</th>\n",
       "      <td>9481fcc9-cc9d-4f6c-a7bb-f4687d70b934</td>\n",
       "      <td>CORE_SCENE_LEAVE</td>\n",
       "      <td>2021-11-22</td>\n",
       "      <td>0 days 01:07:46</td>\n",
       "      <td>13:03:44</td>\n",
       "      <td>Monday</td>\n",
       "      <td>47</td>\n",
       "      <td>070f05ee-9385-4d75-8fa1-3e2edd08c4d4</td>\n",
       "    </tr>\n",
       "  </tbody>\n",
       "</table>\n",
       "<p>360 rows × 8 columns</p>\n",
       "</div>"
      ],
      "text/plain": [
       "                                                                    userId  \\\n",
       "id                                                                           \n",
       "1f053a3c-57f0-4eee-b4a2-0f0aa049c271  12367640-999d-4dc8-b121-ecb7f144071a   \n",
       "20c03020-92c6-4019-9ed3-aec8775b8a90  f1f86bb6-27b3-4c1a-ba2b-d885c9ca2d12   \n",
       "055dcba8-f5a8-424d-b9ba-02c0070d2379  c5673ecc-a571-4cc6-8d44-dba17d755377   \n",
       "82cf2981-49b0-4ce2-989a-557057b0bf9d  ef7f50d4-c6b2-4f19-af72-c6e8a6b9f7b2   \n",
       "b9b44281-9963-4734-af0c-e55ce77f4fb2  35992cdf-2202-4735-a71d-bfabbbe12dab   \n",
       "...                                                                    ...   \n",
       "e517ae92-06ef-40c7-b9cd-fe47a3e0513b  21d90da3-1e56-4c5d-ba80-cb099df1db34   \n",
       "2b9e21f2-9670-4ce9-968c-a80f7165b293  d44b7ae3-9158-4ca5-92a4-65e4e90b6c07   \n",
       "1093c937-f273-4626-9f64-2119aad92f13  f2508934-ce13-416f-8f5d-d68eaff46217   \n",
       "b8ec4675-8719-46a9-b09f-6ec9313b178a  a36d2bd7-92b8-4e91-8c85-62b1cfee37cc   \n",
       "fcdc1314-aad5-4f67-b1e3-7c37ca752d15  9481fcc9-cc9d-4f6c-a7bb-f4687d70b934   \n",
       "\n",
       "                                                  type        date  \\\n",
       "id                                                                   \n",
       "1f053a3c-57f0-4eee-b4a2-0f0aa049c271  CORE_SCENE_LEAVE  2021-10-04   \n",
       "20c03020-92c6-4019-9ed3-aec8775b8a90  CORE_SCENE_LEAVE  2021-10-04   \n",
       "055dcba8-f5a8-424d-b9ba-02c0070d2379  CORE_SCENE_LEAVE  2021-10-04   \n",
       "82cf2981-49b0-4ce2-989a-557057b0bf9d  CORE_SCENE_LEAVE  2021-10-04   \n",
       "b9b44281-9963-4734-af0c-e55ce77f4fb2  CORE_SCENE_LEAVE  2021-10-04   \n",
       "...                                                ...         ...   \n",
       "e517ae92-06ef-40c7-b9cd-fe47a3e0513b  CORE_SCENE_LEAVE  2021-11-22   \n",
       "2b9e21f2-9670-4ce9-968c-a80f7165b293  CORE_SCENE_LEAVE  2021-11-22   \n",
       "1093c937-f273-4626-9f64-2119aad92f13  CORE_SCENE_LEAVE  2021-11-22   \n",
       "b8ec4675-8719-46a9-b09f-6ec9313b178a  CORE_SCENE_LEAVE  2021-11-22   \n",
       "fcdc1314-aad5-4f67-b1e3-7c37ca752d15  CORE_SCENE_LEAVE  2021-11-22   \n",
       "\n",
       "                                            duration      time weekday  \\\n",
       "id                                                                       \n",
       "1f053a3c-57f0-4eee-b4a2-0f0aa049c271 0 days 01:51:53  12:12:15  Monday   \n",
       "20c03020-92c6-4019-9ed3-aec8775b8a90 0 days 01:48:48  11:25:15  Monday   \n",
       "055dcba8-f5a8-424d-b9ba-02c0070d2379 0 days 02:47:34  12:06:11  Monday   \n",
       "82cf2981-49b0-4ce2-989a-557057b0bf9d 0 days 02:56:52  14:54:10  Monday   \n",
       "b9b44281-9963-4734-af0c-e55ce77f4fb2 0 days 02:03:05  14:59:09  Monday   \n",
       "...                                              ...       ...     ...   \n",
       "e517ae92-06ef-40c7-b9cd-fe47a3e0513b 0 days 02:36:41  13:22:13  Monday   \n",
       "2b9e21f2-9670-4ce9-968c-a80f7165b293 0 days 01:58:05  12:33:53  Monday   \n",
       "1093c937-f273-4626-9f64-2119aad92f13 0 days 05:54:58  16:26:09  Monday   \n",
       "b8ec4675-8719-46a9-b09f-6ec9313b178a 0 days 02:34:20  13:06:39  Monday   \n",
       "fcdc1314-aad5-4f67-b1e3-7c37ca752d15 0 days 01:07:46  13:03:44  Monday   \n",
       "\n",
       "                                      week_number  \\\n",
       "id                                                  \n",
       "1f053a3c-57f0-4eee-b4a2-0f0aa049c271           40   \n",
       "20c03020-92c6-4019-9ed3-aec8775b8a90           40   \n",
       "055dcba8-f5a8-424d-b9ba-02c0070d2379           40   \n",
       "82cf2981-49b0-4ce2-989a-557057b0bf9d           40   \n",
       "b9b44281-9963-4734-af0c-e55ce77f4fb2           40   \n",
       "...                                           ...   \n",
       "e517ae92-06ef-40c7-b9cd-fe47a3e0513b           47   \n",
       "2b9e21f2-9670-4ce9-968c-a80f7165b293           47   \n",
       "1093c937-f273-4626-9f64-2119aad92f13           47   \n",
       "b8ec4675-8719-46a9-b09f-6ec9313b178a           47   \n",
       "fcdc1314-aad5-4f67-b1e3-7c37ca752d15           47   \n",
       "\n",
       "                                                                   sceneId  \n",
       "id                                                                          \n",
       "1f053a3c-57f0-4eee-b4a2-0f0aa049c271  6447fc39-4d88-428e-94cd-87df85013b03  \n",
       "20c03020-92c6-4019-9ed3-aec8775b8a90  6447fc39-4d88-428e-94cd-87df85013b03  \n",
       "055dcba8-f5a8-424d-b9ba-02c0070d2379  6447fc39-4d88-428e-94cd-87df85013b03  \n",
       "82cf2981-49b0-4ce2-989a-557057b0bf9d  6447fc39-4d88-428e-94cd-87df85013b03  \n",
       "b9b44281-9963-4734-af0c-e55ce77f4fb2  6447fc39-4d88-428e-94cd-87df85013b03  \n",
       "...                                                                    ...  \n",
       "e517ae92-06ef-40c7-b9cd-fe47a3e0513b  070f05ee-9385-4d75-8fa1-3e2edd08c4d4  \n",
       "2b9e21f2-9670-4ce9-968c-a80f7165b293  070f05ee-9385-4d75-8fa1-3e2edd08c4d4  \n",
       "1093c937-f273-4626-9f64-2119aad92f13  070f05ee-9385-4d75-8fa1-3e2edd08c4d4  \n",
       "b8ec4675-8719-46a9-b09f-6ec9313b178a  070f05ee-9385-4d75-8fa1-3e2edd08c4d4  \n",
       "fcdc1314-aad5-4f67-b1e3-7c37ca752d15  070f05ee-9385-4d75-8fa1-3e2edd08c4d4  \n",
       "\n",
       "[360 rows x 8 columns]"
      ]
     },
     "execution_count": 4,
     "metadata": {},
     "output_type": "execute_result"
    }
   ],
   "source": [
    "import calendar\n",
    "\n",
    "df_no_rating = df.drop(df[df['type'] == \"CORE_SCENE_RATE\"].index)\n",
    "\n",
    "df_no_rating['datetime'] = [dt.datetime.strptime(str(d), '%Y-%m-%d %H:%M:%S') for d in df_no_rating['timestamp']]\n",
    "durations = df_no_rating.groupby(['userId'])['datetime'].diff()\n",
    "df_no_rating['date'] = [dt.datetime.date(d) for d in df_no_rating['datetime']] \n",
    "df_no_rating['time'] = [dt.datetime.time(d) for d in df_no_rating['datetime']]\n",
    "df_no_rating['weekday'] = [calendar.day_name[d.weekday()] for d in df_no_rating['datetime']]\n",
    "df_no_rating['week_number'] = [d.isocalendar()[1] for d in df_no_rating['datetime']]\n",
    "\n",
    "df_no_rating['duration'] = durations\n",
    "df_processed = df_no_rating[['userId', 'type', 'date', 'duration', 'time', 'weekday', 'week_number', 'sceneId']].copy()\n",
    "df_processed = df_processed.dropna()\n",
    "df_processed = df_processed.drop(df_processed[df_processed['type'] == 'CORE_SCENE_JOIN'].index)\n",
    "df_processed"
   ]
  },
  {
   "cell_type": "code",
   "execution_count": 5,
   "id": "93bb94ee",
   "metadata": {},
   "outputs": [
    {
     "data": {
      "text/plain": [
       "906"
      ]
     },
     "execution_count": 5,
     "metadata": {},
     "output_type": "execute_result"
    }
   ],
   "source": [
    "total_hours = df_processed['duration'].sum().days * 24 + df_processed['duration'].sum().seconds//3600\n",
    "total_hours"
   ]
  },
  {
   "cell_type": "code",
   "execution_count": 6,
   "id": "7ef6f637",
   "metadata": {},
   "outputs": [
    {
     "data": {
      "text/plain": [
       "36"
      ]
     },
     "execution_count": 6,
     "metadata": {},
     "output_type": "execute_result"
    }
   ],
   "source": [
    "len(df['sceneId'].unique())"
   ]
  },
  {
   "cell_type": "code",
   "execution_count": 7,
   "id": "ee53d158",
   "metadata": {},
   "outputs": [],
   "source": [
    "# Install a pip package in the current Jupyter kernel\n",
    "import sys\n",
    "!{sys.executable} -m pip install ipywidgets -q\n",
    "\n",
    "import ipywidgets as widgets\n",
    "from IPython.display import display"
   ]
  },
  {
   "cell_type": "code",
   "execution_count": 8,
   "id": "d15b87a8",
   "metadata": {},
   "outputs": [
    {
     "data": {
      "application/vnd.jupyter.widget-view+json": {
       "model_id": "dddc17c968d449ceaa30e78a3d8c4ffd",
       "version_major": 2,
       "version_minor": 0
      },
      "text/plain": [
       "Dropdown(description='Timeframe:', options=('Day', 'Week', 'Month', 'Year', 'All Time'), value='Day')"
      ]
     },
     "metadata": {},
     "output_type": "display_data"
    },
    {
     "data": {
      "application/vnd.jupyter.widget-view+json": {
       "model_id": "0b81dcc4260e442ab1a4e82e19660c18",
       "version_major": 2,
       "version_minor": 0
      },
      "text/plain": [
       "Dropdown(description='User ID(s):', options=('All', '12367640-999d-4dc8-b121-ecb7f144071a', 'f1f86bb6-27b3-4c1…"
      ]
     },
     "metadata": {},
     "output_type": "display_data"
    }
   ],
   "source": [
    "dropdown_timeframe = widgets.Dropdown(\n",
    "       options=['Day', 'Week', 'Month', 'Year', 'All Time'],\n",
    "       description='Timeframe:')\n",
    "\n",
    "a = df['userId'].unique()\n",
    "a = np.append(['All'], a)\n",
    "\n",
    "dropdown_user = widgets.Dropdown(\n",
    "       options=a,\n",
    "       value='All',\n",
    "       description='User ID(s):')\n",
    "       \n",
    "output_widget = widgets.Output()\n",
    "\n",
    "today = dt.datetime.now()\n",
    "timeframe_ago = dt.datetime(1970, 1, 1)\n",
    "\n",
    "\n",
    "def dropdown_timeframe_eventhandler(change):\n",
    "    common_filtering(change.new, dropdown_user.value)\n",
    "\n",
    "def dropdown_user_eventhandler(change):\n",
    "    common_filtering(dropdown_timeframe.value, change.new)\n",
    "    \n",
    "def common_filtering(timeframe, user):\n",
    "    output_widget.clear_output()\n",
    "    \n",
    "    #timeframe\n",
    "    if timeframe == 'Day':\n",
    "        timeframe_ago = dt.datetime(today.year, today.month, day=today.day)\n",
    "    elif timeframe == 'Week':\n",
    "        idx = (today.weekday() + 1) % 7 # MON = 0, SUN = 6 -> SUN = 0 .. SAT = 6\n",
    "        last_sun = today - dt.timedelta(7+idx-6)\n",
    "        timeframe_ago = dt.datetime(last_sun.year, last_sun.month, day=last_sun.day)\n",
    "    elif timeframe == 'Month':\n",
    "        timeframe_ago = dt.datetime(today.year, today.month, day=1)\n",
    "    elif timeframe == 'Year':\n",
    "        timeframe_ago = dt.datetime(today.year, 1, day=1)\n",
    "    else:\n",
    "        timeframe_ago = dt.datetime(1970, 1, 1)\n",
    "    df_processed_timeframed = df_processed.drop(df_processed[df_processed.date < timeframe_ago.date()].index)\n",
    "    df_timeframed = df.drop(df[pd.to_datetime(df.timestamp) < timeframe_ago].index)\n",
    "    df_timeframed['week_number'] = [dt.datetime.strptime(str(d), '%Y-%m-%d %H:%M:%S').isocalendar()[1] for d in df_timeframed['timestamp']]\n",
    "    \n",
    "    #user\n",
    "    df_processed_user_timeframed = df_processed_timeframed\n",
    "    df_user_timeframed = df_timeframed\n",
    "    \n",
    "    if user != 'All':\n",
    "        dftemp = df_processed_timeframed\n",
    "        df_processed_user_timeframed = dftemp.drop(dftemp[dftemp.userId != str(user)].index)\n",
    "        df_user_timeframed = df_timeframed.drop(df_timeframed[df_timeframed.userId != str(user)].index)\n",
    "    \n",
    "    with output_widget:\n",
    "        display(df_processed_user_timeframed)\n",
    "\n",
    "dropdown_timeframe.observe(dropdown_timeframe_eventhandler, names='value')\n",
    "dropdown_user.observe(dropdown_user_eventhandler, names='value')\n",
    "display(dropdown_timeframe)\n",
    "display(dropdown_user)"
   ]
  },
  {
   "cell_type": "code",
   "execution_count": 9,
   "id": "fc9b60bb",
   "metadata": {},
   "outputs": [
    {
     "data": {
      "application/vnd.jupyter.widget-view+json": {
       "model_id": "74cd331f37ad4fd7b48233fc19d5eb98",
       "version_major": 2,
       "version_minor": 0
      },
      "text/plain": [
       "Output()"
      ]
     },
     "metadata": {},
     "output_type": "display_data"
    }
   ],
   "source": [
    "display(output_widget)"
   ]
  },
  {
   "cell_type": "code",
   "execution_count": null,
   "id": "01609ed5",
   "metadata": {},
   "outputs": [],
   "source": []
  },
  {
   "cell_type": "markdown",
   "id": "d7f257b1",
   "metadata": {},
   "source": [
    "## Activity heatmap"
   ]
  },
  {
   "cell_type": "code",
   "execution_count": 32,
   "id": "0af9a9f9",
   "metadata": {},
   "outputs": [],
   "source": [
    "from pandas import DataFrame\n",
    "import seaborn as sns\n",
    "import time"
   ]
  },
  {
   "cell_type": "code",
   "execution_count": 33,
   "id": "f764814d",
   "metadata": {},
   "outputs": [
    {
     "data": {
      "application/vnd.jupyter.widget-view+json": {
       "model_id": "df176d93c4414d4d9163c767a2c4913e",
       "version_major": 2,
       "version_minor": 0
      },
      "text/plain": [
       "Dropdown(description='Timeframe:', options=('Day', 'Week', 'Month', 'Year', 'All Time'), value='Day')"
      ]
     },
     "metadata": {},
     "output_type": "display_data"
    },
    {
     "data": {
      "application/vnd.jupyter.widget-view+json": {
       "model_id": "4b872a3601264d49955ddc04d2bc2399",
       "version_major": 2,
       "version_minor": 0
      },
      "text/plain": [
       "Dropdown(description='User ID(s):', options=('All', '12367640-999d-4dc8-b121-ecb7f144071a', 'f1f86bb6-27b3-4c1…"
      ]
     },
     "metadata": {},
     "output_type": "display_data"
    }
   ],
   "source": [
    "dropdown_timeframe_hm = widgets.Dropdown(\n",
    "       options=['Day', 'Week', 'Month', 'Year', 'All Time'],\n",
    "       description='Timeframe:')\n",
    "\n",
    "a = df['userId'].unique()\n",
    "a = np.append(['All'], a)\n",
    "\n",
    "dropdown_user_hm = widgets.Dropdown(\n",
    "       options=a,\n",
    "       value='All',\n",
    "       description='User ID(s):')\n",
    "       \n",
    "output_heatmap_widget = widgets.Output()\n",
    "\n",
    "today = dt.datetime.now()\n",
    "timeframe_ago = dt.datetime(1970, 1, 1)\n",
    "\n",
    "\n",
    "def dropdown_timeframe_eventhandler_hm(change):\n",
    "    common_filtering_hm(change.new, dropdown_user_hm.value)\n",
    "\n",
    "def dropdown_user_eventhandler_hm(change):\n",
    "    common_filtering_hm(dropdown_timeframe_hm.value, change.new)\n",
    "    \n",
    "def common_filtering_hm(timeframe, user):\n",
    "    output_heatmap_widget.clear_output()\n",
    "    \n",
    "    #timeframe\n",
    "    if timeframe == 'Day':\n",
    "        timeframe_ago = dt.datetime(today.year, today.month, day=today.day)\n",
    "    elif timeframe == 'Week':\n",
    "        idx = (today.weekday() + 1) % 7 # MON = 0, SUN = 6 -> SUN = 0 .. SAT = 6\n",
    "        last_sun = today - dt.timedelta(7+idx-6)\n",
    "        timeframe_ago = dt.datetime(last_sun.year, last_sun.month, day=last_sun.day)\n",
    "    elif timeframe == 'Month':\n",
    "        timeframe_ago = dt.datetime(today.year, today.month, day=1)\n",
    "    elif timeframe == 'Year':\n",
    "        timeframe_ago = dt.datetime(today.year, 1, day=1)\n",
    "    else:\n",
    "        timeframe_ago = dt.datetime(1970, 1, 1)\n",
    "    df_processed_timeframed = df_processed.drop(df_processed[df_processed.date < timeframe_ago.date()].index)\n",
    "    df_timeframed = df.drop(df[pd.to_datetime(df.timestamp) < timeframe_ago].index)\n",
    "    df_timeframed['week_number'] = [dt.datetime.strptime(str(d), '%Y-%m-%d %H:%M:%S').isocalendar()[1] for d in df_timeframed['timestamp']]\n",
    "    \n",
    "    #user\n",
    "    df_processed_user_timeframed = df_processed_timeframed\n",
    "    df_user_timeframed = df_timeframed\n",
    "    \n",
    "    if user != 'All':\n",
    "        dftemp = df_processed_timeframed\n",
    "        df_processed_user_timeframed = dftemp.drop(dftemp[dftemp.userId != str(user)].index)\n",
    "        df_user_timeframed = df_timeframed.drop(df_timeframed[df_timeframed.userId != str(user)].index)\n",
    "    \n",
    "    with output_heatmap_widget:\n",
    "        df_processed_user_timeframed['seconds'] = [d.total_seconds() for d in df_processed_user_timeframed['duration']]\n",
    "        df_processed_groupedbyID = pd.DataFrame({'seconds' : df_processed_user_timeframed.groupby(['week_number', 'weekday'])['seconds'].sum()}).reset_index()\n",
    "        df_heatmap = df_processed_groupedbyID.pivot(index='weekday', columns='week_number', values='seconds')\n",
    "        df_heatmap.index = pd.CategoricalIndex(df_heatmap.index, categories= ['Saturday', 'Monday', 'Tuesday', 'Wednesday', 'Thursday', 'Friday', 'Sunday'])\n",
    "        df_heatmap.sort_index(level=0, inplace=True)\n",
    "\n",
    "        mask = df_heatmap.isnull()\n",
    "        sns.heatmap(df_heatmap, annot=False, fmt=\"g\", cmap='crest', mask=mask)\n",
    "        plt.show()\n",
    "\n",
    "dropdown_timeframe_hm.observe(dropdown_timeframe_eventhandler_hm, names='value')\n",
    "dropdown_user_hm.observe(dropdown_user_eventhandler_hm, names='value')\n",
    "display(dropdown_timeframe_hm)\n",
    "display(dropdown_user_hm)"
   ]
  },
  {
   "cell_type": "code",
   "execution_count": 34,
   "id": "255a4a8c",
   "metadata": {},
   "outputs": [
    {
     "data": {
      "application/vnd.jupyter.widget-view+json": {
       "model_id": "18f02f59a6754563b2e7c579865ec552",
       "version_major": 2,
       "version_minor": 0
      },
      "text/plain": [
       "Output()"
      ]
     },
     "metadata": {},
     "output_type": "display_data"
    }
   ],
   "source": [
    "display(output_heatmap_widget)"
   ]
  },
  {
   "cell_type": "code",
   "execution_count": null,
   "id": "6eb484c9",
   "metadata": {},
   "outputs": [],
   "source": []
  },
  {
   "cell_type": "markdown",
   "id": "3b41a943",
   "metadata": {},
   "source": [
    "# Pie chart of time spent in different scenes"
   ]
  },
  {
   "cell_type": "code",
   "execution_count": 35,
   "id": "3199d0f7",
   "metadata": {
    "scrolled": false
   },
   "outputs": [
    {
     "data": {
      "application/vnd.jupyter.widget-view+json": {
       "model_id": "669a500d017e4159bf39c5a7ba9d6b09",
       "version_major": 2,
       "version_minor": 0
      },
      "text/plain": [
       "Dropdown(description='Timeframe:', options=('Day', 'Week', 'Month', 'Year', 'All Time'), value='Day')"
      ]
     },
     "metadata": {},
     "output_type": "display_data"
    },
    {
     "data": {
      "application/vnd.jupyter.widget-view+json": {
       "model_id": "ac00082d47594a69a1b3963c4b40277f",
       "version_major": 2,
       "version_minor": 0
      },
      "text/plain": [
       "Dropdown(description='User ID(s):', options=('All', '12367640-999d-4dc8-b121-ecb7f144071a', 'f1f86bb6-27b3-4c1…"
      ]
     },
     "metadata": {},
     "output_type": "display_data"
    },
    {
     "data": {
      "image/png": "[encoded data removed]",
      "text/plain": [
       "<Figure size 360x360 with 1 Axes>"
      ]
     },
     "metadata": {},
     "output_type": "display_data"
    },
    {
     "data": {
      "image/png": "[encoded data removed]",
      "text/plain": [
       "<Figure size 360x360 with 1 Axes>"
      ]
     },
     "metadata": {},
     "output_type": "display_data"
    }
   ],
   "source": [
    "dropdown_timeframe_timespent = widgets.Dropdown(\n",
    "       options=['Day', 'Week', 'Month', 'Year', 'All Time'],\n",
    "       description='Timeframe:')\n",
    "\n",
    "a = df['userId'].unique()\n",
    "a = np.append(['All'], a)\n",
    "\n",
    "dropdown_user_timespent = widgets.Dropdown(\n",
    "       options=a,\n",
    "       value='All',\n",
    "       description='User ID(s):')\n",
    "       \n",
    "output_widget_timespent = widgets.Output()\n",
    "\n",
    "today = dt.datetime.now()\n",
    "timeframe_ago = dt.datetime(1970, 1, 1)\n",
    "\n",
    "\n",
    "def dropdown_timeframe_eventhandler_timespent(change):\n",
    "    common_filtering_timespent(change.new, dropdown_user_timespent.value)\n",
    "\n",
    "def dropdown_user_eventhandler_timespent(change):\n",
    "    common_filtering_timespent(dropdown_timeframe_timespent.value, change.new)\n",
    "    \n",
    "def common_filtering_timespent(timeframe, user):\n",
    "    output_widget_timespent.clear_output()\n",
    "    \n",
    "    #timeframe\n",
    "    if timeframe == 'Day':\n",
    "        timeframe_ago = dt.datetime(today.year, today.month, day=today.day)\n",
    "    elif timeframe == 'Week':\n",
    "        idx = (today.weekday() + 1) % 7 # MON = 0, SUN = 6 -> SUN = 0 .. SAT = 6\n",
    "        last_sun = today - dt.timedelta(7+idx-6)\n",
    "        timeframe_ago = dt.datetime(last_sun.year, last_sun.month, day=last_sun.day)\n",
    "    elif timeframe == 'Month':\n",
    "        timeframe_ago = dt.datetime(today.year, today.month, day=1)\n",
    "    elif timeframe == 'Year':\n",
    "        timeframe_ago = dt.datetime(today.year, 1, day=1)\n",
    "    else:\n",
    "        timeframe_ago = dt.datetime(1970, 1, 1)\n",
    "    df_processed_timeframed = df_processed.drop(df_processed[df_processed.date < timeframe_ago.date()].index)\n",
    "    df_timeframed = df.drop(df[pd.to_datetime(df.timestamp) < timeframe_ago].index)\n",
    "    df_timeframed['week_number'] = [dt.datetime.strptime(str(d), '%Y-%m-%d %H:%M:%S').isocalendar()[1] for d in df_timeframed['timestamp']]\n",
    "    \n",
    "    #user\n",
    "    df_processed_user_timeframed = df_processed_timeframed\n",
    "    df_user_timeframed = df_timeframed\n",
    "    \n",
    "    if user != 'All':\n",
    "        dftemp = df_processed_timeframed\n",
    "        df_processed_user_timeframed = dftemp.drop(dftemp[dftemp.userId != str(user)].index)\n",
    "        df_user_timeframed = df_timeframed.drop(df_timeframed[df_timeframed.userId != str(user)].index)\n",
    "    \n",
    "    with output_widget_timespent:\n",
    "        df_sessions = pd.DataFrame({'duration' : df_processed_user_timeframed.groupby( [ \"sceneId\"] )['duration'].sum()}).reset_index()\n",
    "        df_sessions['duration_sec'] = [d.total_seconds() for d in df_sessions['duration']]\n",
    "        plot = df_sessions.plot.pie(y='duration_sec', x='sceneId', figsize=(5, 5))\n",
    "        display(df_sessions)\n",
    "\n",
    "dropdown_timeframe_timespent.observe(dropdown_timeframe_eventhandler_timespent, names='value')\n",
    "dropdown_user_timespent.observe(dropdown_user_eventhandler_timespent, names='value')\n",
    "display(dropdown_timeframe_timespent)\n",
    "display(dropdown_user_timespent)"
   ]
  },
  {
   "cell_type": "code",
   "execution_count": 36,
   "id": "2b9bbf24",
   "metadata": {},
   "outputs": [
    {
     "data": {
      "application/vnd.jupyter.widget-view+json": {
       "model_id": "54965e5463f64a6887b1df6fd9a95c27",
       "version_major": 2,
       "version_minor": 0
      },
      "text/plain": [
       "Output()"
      ]
     },
     "metadata": {},
     "output_type": "display_data"
    }
   ],
   "source": [
    "display(output_widget_timespent)"
   ]
  },
  {
   "cell_type": "markdown",
   "id": "d570abfd",
   "metadata": {},
   "source": [
    "### Bar Chart showing how long users spent in sessions"
   ]
  },
  {
   "cell_type": "code",
   "execution_count": 10,
   "id": "9a32dac2",
   "metadata": {},
   "outputs": [
    {
     "data": {
      "application/vnd.jupyter.widget-view+json": {
       "model_id": "59115e6ade18438ca81c4293701ea6b6",
       "version_major": 2,
       "version_minor": 0
      },
      "text/plain": [
       "Dropdown(description='Timeframe:', options=('Day', 'Week', 'Month', 'Year', 'All Time'), value='Day')"
      ]
     },
     "metadata": {},
     "output_type": "display_data"
    },
    {
     "data": {
      "application/vnd.jupyter.widget-view+json": {
       "model_id": "b45af23e75044447a6619f2e5a577e6c",
       "version_major": 2,
       "version_minor": 0
      },
      "text/plain": [
       "Dropdown(description='User ID(s):', options=('All', '12367640-999d-4dc8-b121-ecb7f144071a', 'f1f86bb6-27b3-4c1…"
      ]
     },
     "metadata": {},
     "output_type": "display_data"
    }
   ],
   "source": [
    "dropdown_timeframe_timespentsess = widgets.Dropdown(\n",
    "       options=['Day', 'Week', 'Month', 'Year', 'All Time'],\n",
    "       description='Timeframe:')\n",
    "\n",
    "a = df['userId'].unique()\n",
    "a = np.append(['All'], a)\n",
    "\n",
    "dropdown_user_timespentsess = widgets.Dropdown(\n",
    "       options=a,\n",
    "       value='All',\n",
    "       description='User ID(s):')\n",
    "       \n",
    "output_widget_timespentsess = widgets.Output()\n",
    "\n",
    "today = dt.datetime.now()\n",
    "timeframe_ago = dt.datetime(1970, 1, 1)\n",
    "\n",
    "\n",
    "def dropdown_timeframe_eventhandler_timespentsess(change):\n",
    "    common_filtering_timespentsess(change.new, dropdown_user_timespentsess.value)\n",
    "\n",
    "def dropdown_user_eventhandler_timespentsess(change):\n",
    "    common_filtering_timespentsess(dropdown_timeframe_timespentsess.value, change.new)\n",
    "    \n",
    "def common_filtering_timespentsess(timeframe, user):\n",
    "    output_widget_timespentsess.clear_output()\n",
    "    \n",
    "    #timeframe\n",
    "    if timeframe == 'Day':\n",
    "        timeframe_ago = dt.datetime(today.year, today.month, day=today.day)\n",
    "    elif timeframe == 'Week':\n",
    "        idx = (today.weekday() + 1) % 7 # MON = 0, SUN = 6 -> SUN = 0 .. SAT = 6\n",
    "        last_sun = today - dt.timedelta(7+idx-6)\n",
    "        timeframe_ago = dt.datetime(last_sun.year, last_sun.month, day=last_sun.day)\n",
    "    elif timeframe == 'Month':\n",
    "        timeframe_ago = dt.datetime(today.year, today.month, day=1)\n",
    "    elif timeframe == 'Year':\n",
    "        timeframe_ago = dt.datetime(today.year, 1, day=1)\n",
    "    else:\n",
    "        timeframe_ago = dt.datetime(1970, 1, 1)\n",
    "    df_processed_timeframed = df_processed.drop(df_processed[df_processed.date < timeframe_ago.date()].index)\n",
    "    df_timeframed = df.drop(df[pd.to_datetime(df.timestamp) < timeframe_ago].index)\n",
    "    df_timeframed['week_number'] = [dt.datetime.strptime(str(d), '%Y-%m-%d %H:%M:%S').isocalendar()[1] for d in df_timeframed['timestamp']]\n",
    "    \n",
    "    #user\n",
    "    df_processed_user_timeframed = df_processed_timeframed\n",
    "    df_user_timeframed = df_timeframed\n",
    "    \n",
    "    if user != 'All':\n",
    "        dftemp = df_processed_timeframed\n",
    "        df_processed_user_timeframed = dftemp.drop(dftemp[dftemp.userId != str(user)].index)\n",
    "        df_user_timeframed = df_timeframed.drop(df_timeframed[df_timeframed.userId != str(user)].index)\n",
    "    \n",
    "    with output_widget_timespentsess:\n",
    "        fig = plt.figure()\n",
    "        ax = fig.add_axes([0,0,1,1])\n",
    "        ax.set_ylabel('Time spent in sessions')\n",
    "        ax.set_xlabel('User ID')\n",
    "        ax.bar(df_processed_timeframed['userId'], df_processed_timeframed['duration'])\n",
    "        display(df_processed_timeframed)\n",
    "\n",
    "dropdown_timeframe_timespentsess.observe(dropdown_timeframe_eventhandler_timespentsess, names='value')\n",
    "dropdown_user_timespentsess.observe(dropdown_user_eventhandler_timespentsess, names='value')\n",
    "display(dropdown_timeframe_timespentsess)\n",
    "display(dropdown_user_timespentsess)"
   ]
  },
  {
   "cell_type": "code",
   "execution_count": 11,
   "id": "f203e66c",
   "metadata": {
    "scrolled": false
   },
   "outputs": [
    {
     "data": {
      "application/vnd.jupyter.widget-view+json": {
       "model_id": "5f2a6f37c3cd4125b23772a6e61c19e7",
       "version_major": 2,
       "version_minor": 0
      },
      "text/plain": [
       "Output()"
      ]
     },
     "metadata": {},
     "output_type": "display_data"
    }
   ],
   "source": [
    "display(output_widget_timespentsess)"
   ]
  },
  {
   "cell_type": "code",
   "execution_count": 12,
   "id": "5c7e00aa",
   "metadata": {
    "scrolled": true
   },
   "outputs": [
    {
     "data": {
      "text/plain": [
       "id\n",
       "90317576-640b-46af-8656-196d6992c507   0 days 02:42:52\n",
       "dc189bff-821c-43a7-934d-1fb76e1ce616   0 days 02:39:35\n",
       "1b54e734-60a9-406c-b4c4-2d86e2e9c4a5   0 days 03:14:41\n",
       "6acb5e1a-75cd-419b-bb01-acbad9111acb   0 days 01:44:50\n",
       "9d2d9539-2b94-4e49-b8d0-b0dfd94465c8   0 days 00:49:19\n",
       "5f7ff700-355e-4102-ad0f-bd34759e0fbf   0 days 01:37:31\n",
       "022198d7-93ba-4673-8ee0-9f435e2ae268   0 days 03:42:17\n",
       "d8d523a3-7b48-4881-ab8f-75a3d965b0b1   0 days 02:40:09\n",
       "f8595383-d99b-44c3-b6f9-20c72a47ab14   0 days 03:32:19\n",
       "b3dd6c7b-baaf-4d0a-97a6-67b300bead78   0 days 03:31:00\n",
       "Name: duration, dtype: timedelta64[ns]"
      ]
     },
     "execution_count": 12,
     "metadata": {},
     "output_type": "execute_result"
    }
   ],
   "source": [
    "df_processed.loc[df_processed['sceneId'] == '0c6ed35f-e825-47ac-aa10-c8e3f82ce55c']['duration']"
   ]
  },
  {
   "cell_type": "code",
   "execution_count": 13,
   "id": "007838fa",
   "metadata": {},
   "outputs": [
    {
     "data": {
      "text/plain": [
       "Timedelta('1 days 02:14:33')"
      ]
     },
     "execution_count": 13,
     "metadata": {},
     "output_type": "execute_result"
    }
   ],
   "source": [
    "total_duration = df_processed.loc[df_processed['sceneId'] == '0c6ed35f-e825-47ac-aa10-c8e3f82ce55c']['duration'].sum()\n",
    "total_duration"
   ]
  },
  {
   "cell_type": "code",
   "execution_count": 14,
   "id": "c009601b",
   "metadata": {},
   "outputs": [
    {
     "data": {
      "text/plain": [
       "94473"
      ]
     },
     "execution_count": 14,
     "metadata": {},
     "output_type": "execute_result"
    }
   ],
   "source": [
    "total_hours = total_duration.days * 24 * 3600 + total_duration.seconds\n",
    "total_hours"
   ]
  },
  {
   "cell_type": "code",
   "execution_count": 37,
   "id": "af376e14",
   "metadata": {
    "scrolled": false
   },
   "outputs": [
    {
     "data": {
      "text/html": [
       "<div>\n",
       "<style scoped>\n",
       "    .dataframe tbody tr th:only-of-type {\n",
       "        vertical-align: middle;\n",
       "    }\n",
       "\n",
       "    .dataframe tbody tr th {\n",
       "        vertical-align: top;\n",
       "    }\n",
       "\n",
       "    .dataframe thead th {\n",
       "        text-align: right;\n",
       "    }\n",
       "</style>\n",
       "<table border=\"1\" class=\"dataframe\">\n",
       "  <thead>\n",
       "    <tr style=\"text-align: right;\">\n",
       "      <th></th>\n",
       "      <th>duration</th>\n",
       "      <th>duration_secs</th>\n",
       "    </tr>\n",
       "    <tr>\n",
       "      <th>sceneId</th>\n",
       "      <th></th>\n",
       "      <th></th>\n",
       "    </tr>\n",
       "  </thead>\n",
       "  <tbody>\n",
       "    <tr>\n",
       "      <th>c1b7cd3e-eeef-4b9e-8687-c4b440b2db54</th>\n",
       "      <td>1 days 06:15:27</td>\n",
       "      <td>108927</td>\n",
       "    </tr>\n",
       "    <tr>\n",
       "      <th>daac7c40-97e9-49b5-92e5-c7d07ec80936</th>\n",
       "      <td>1 days 05:56:05</td>\n",
       "      <td>107765</td>\n",
       "    </tr>\n",
       "    <tr>\n",
       "      <th>5482399b-bd1c-4a80-8b07-294744221ff1</th>\n",
       "      <td>1 days 05:36:41</td>\n",
       "      <td>106601</td>\n",
       "    </tr>\n",
       "    <tr>\n",
       "      <th>8a67ff79-97c3-41a9-bd25-f124b03cce12</th>\n",
       "      <td>1 days 05:13:47</td>\n",
       "      <td>105227</td>\n",
       "    </tr>\n",
       "    <tr>\n",
       "      <th>cf87fe90-b60b-4e50-9ce9-edcfc0b995c6</th>\n",
       "      <td>1 days 04:48:59</td>\n",
       "      <td>103739</td>\n",
       "    </tr>\n",
       "    <tr>\n",
       "      <th>006ef0bb-cc83-49e6-a7d1-c2a0fce5cd44</th>\n",
       "      <td>1 days 04:35:14</td>\n",
       "      <td>102914</td>\n",
       "    </tr>\n",
       "    <tr>\n",
       "      <th>95282e78-85c9-4d94-b201-7ddd2cb512cf</th>\n",
       "      <td>1 days 04:14:35</td>\n",
       "      <td>101675</td>\n",
       "    </tr>\n",
       "    <tr>\n",
       "      <th>6447fc39-4d88-428e-94cd-87df85013b03</th>\n",
       "      <td>1 days 04:08:02</td>\n",
       "      <td>101282</td>\n",
       "    </tr>\n",
       "    <tr>\n",
       "      <th>599452d1-edfc-4e0f-b25d-9db0514f9ce6</th>\n",
       "      <td>1 days 04:05:53</td>\n",
       "      <td>101153</td>\n",
       "    </tr>\n",
       "    <tr>\n",
       "      <th>1df8ba85-9a54-46a3-a9e2-615b9b19c7f7</th>\n",
       "      <td>1 days 03:57:07</td>\n",
       "      <td>100627</td>\n",
       "    </tr>\n",
       "    <tr>\n",
       "      <th>3aefe5e4-7f0b-4e66-b2c7-d9488643235d</th>\n",
       "      <td>1 days 03:38:12</td>\n",
       "      <td>99492</td>\n",
       "    </tr>\n",
       "    <tr>\n",
       "      <th>f020c2ba-5ec3-410f-9735-48307326b6c3</th>\n",
       "      <td>1 days 03:23:19</td>\n",
       "      <td>98599</td>\n",
       "    </tr>\n",
       "    <tr>\n",
       "      <th>f50e607f-b2d8-456b-9d56-982ef5edb3ea</th>\n",
       "      <td>1 days 03:03:00</td>\n",
       "      <td>97380</td>\n",
       "    </tr>\n",
       "    <tr>\n",
       "      <th>b7839d2c-0576-405d-a41f-2c4649b4d1dd</th>\n",
       "      <td>1 days 02:48:30</td>\n",
       "      <td>96510</td>\n",
       "    </tr>\n",
       "    <tr>\n",
       "      <th>fdc3b9f0-9a09-4595-9b6d-c76893ac4cc6</th>\n",
       "      <td>1 days 02:27:57</td>\n",
       "      <td>95277</td>\n",
       "    </tr>\n",
       "    <tr>\n",
       "      <th>0c6ed35f-e825-47ac-aa10-c8e3f82ce55c</th>\n",
       "      <td>1 days 02:14:33</td>\n",
       "      <td>94473</td>\n",
       "    </tr>\n",
       "    <tr>\n",
       "      <th>83b0c85e-9833-4bd1-b07c-96045aa2dff9</th>\n",
       "      <td>1 days 01:46:39</td>\n",
       "      <td>92799</td>\n",
       "    </tr>\n",
       "    <tr>\n",
       "      <th>070f05ee-9385-4d75-8fa1-3e2edd08c4d4</th>\n",
       "      <td>1 days 01:42:53</td>\n",
       "      <td>92573</td>\n",
       "    </tr>\n",
       "    <tr>\n",
       "      <th>60eb44ad-b6c5-43ab-affb-8d5b5875c321</th>\n",
       "      <td>1 days 01:42:24</td>\n",
       "      <td>92544</td>\n",
       "    </tr>\n",
       "    <tr>\n",
       "      <th>00f3b788-01e2-49b7-b842-88397233298b</th>\n",
       "      <td>1 days 01:33:22</td>\n",
       "      <td>92002</td>\n",
       "    </tr>\n",
       "    <tr>\n",
       "      <th>07287373-5864-4fd5-88ef-608383e392e4</th>\n",
       "      <td>1 days 01:03:36</td>\n",
       "      <td>90216</td>\n",
       "    </tr>\n",
       "    <tr>\n",
       "      <th>9f5c7c40-770f-4f8f-94f5-6faf683a98e8</th>\n",
       "      <td>1 days 01:00:14</td>\n",
       "      <td>90014</td>\n",
       "    </tr>\n",
       "    <tr>\n",
       "      <th>7d8eb34d-1139-43c4-a6b7-ac2dabcc1ec9</th>\n",
       "      <td>1 days 00:31:47</td>\n",
       "      <td>88307</td>\n",
       "    </tr>\n",
       "    <tr>\n",
       "      <th>a6883425-044f-4af8-8610-1566424f0d7a</th>\n",
       "      <td>0 days 23:29:28</td>\n",
       "      <td>84568</td>\n",
       "    </tr>\n",
       "    <tr>\n",
       "      <th>74b8f921-4228-438b-9c4c-92ba32d9c728</th>\n",
       "      <td>0 days 23:27:32</td>\n",
       "      <td>84452</td>\n",
       "    </tr>\n",
       "    <tr>\n",
       "      <th>b1c208d2-c3a7-40a1-aafe-28eab0ffa1fe</th>\n",
       "      <td>0 days 22:28:51</td>\n",
       "      <td>80931</td>\n",
       "    </tr>\n",
       "    <tr>\n",
       "      <th>77b05269-d17d-410e-82ec-06235ffe86ef</th>\n",
       "      <td>0 days 22:12:28</td>\n",
       "      <td>79948</td>\n",
       "    </tr>\n",
       "    <tr>\n",
       "      <th>35c97370-684c-445a-a004-ab79f6436f2c</th>\n",
       "      <td>0 days 22:10:31</td>\n",
       "      <td>79831</td>\n",
       "    </tr>\n",
       "    <tr>\n",
       "      <th>7ee15b48-c907-470b-b22d-9d36b45f3f24</th>\n",
       "      <td>0 days 21:54:24</td>\n",
       "      <td>78864</td>\n",
       "    </tr>\n",
       "    <tr>\n",
       "      <th>298f0c21-1747-4b74-9910-fbbe0200811f</th>\n",
       "      <td>0 days 21:42:01</td>\n",
       "      <td>78121</td>\n",
       "    </tr>\n",
       "    <tr>\n",
       "      <th>2ff6170f-c41a-404f-adc3-19ed0621adab</th>\n",
       "      <td>0 days 21:24:01</td>\n",
       "      <td>77041</td>\n",
       "    </tr>\n",
       "    <tr>\n",
       "      <th>40e14916-62b6-4517-ac10-5a4fd8adeccd</th>\n",
       "      <td>0 days 21:06:25</td>\n",
       "      <td>75985</td>\n",
       "    </tr>\n",
       "    <tr>\n",
       "      <th>8e9ce86e-65a9-441e-b774-da5725cd9a3c</th>\n",
       "      <td>0 days 20:46:03</td>\n",
       "      <td>74763</td>\n",
       "    </tr>\n",
       "    <tr>\n",
       "      <th>4e43a9b2-54f1-47fc-afa1-fea9224515af</th>\n",
       "      <td>0 days 20:39:58</td>\n",
       "      <td>74398</td>\n",
       "    </tr>\n",
       "    <tr>\n",
       "      <th>d75269c0-242f-48d7-b885-8f0041a08a0d</th>\n",
       "      <td>0 days 20:10:30</td>\n",
       "      <td>72630</td>\n",
       "    </tr>\n",
       "    <tr>\n",
       "      <th>35828826-c3ef-4c50-9c32-3e7d9ec8840f</th>\n",
       "      <td>0 days 16:42:13</td>\n",
       "      <td>60133</td>\n",
       "    </tr>\n",
       "  </tbody>\n",
       "</table>\n",
       "</div>"
      ],
      "text/plain": [
       "                                            duration  duration_secs\n",
       "sceneId                                                            \n",
       "c1b7cd3e-eeef-4b9e-8687-c4b440b2db54 1 days 06:15:27         108927\n",
       "daac7c40-97e9-49b5-92e5-c7d07ec80936 1 days 05:56:05         107765\n",
       "5482399b-bd1c-4a80-8b07-294744221ff1 1 days 05:36:41         106601\n",
       "8a67ff79-97c3-41a9-bd25-f124b03cce12 1 days 05:13:47         105227\n",
       "cf87fe90-b60b-4e50-9ce9-edcfc0b995c6 1 days 04:48:59         103739\n",
       "006ef0bb-cc83-49e6-a7d1-c2a0fce5cd44 1 days 04:35:14         102914\n",
       "95282e78-85c9-4d94-b201-7ddd2cb512cf 1 days 04:14:35         101675\n",
       "6447fc39-4d88-428e-94cd-87df85013b03 1 days 04:08:02         101282\n",
       "599452d1-edfc-4e0f-b25d-9db0514f9ce6 1 days 04:05:53         101153\n",
       "1df8ba85-9a54-46a3-a9e2-615b9b19c7f7 1 days 03:57:07         100627\n",
       "3aefe5e4-7f0b-4e66-b2c7-d9488643235d 1 days 03:38:12          99492\n",
       "f020c2ba-5ec3-410f-9735-48307326b6c3 1 days 03:23:19          98599\n",
       "f50e607f-b2d8-456b-9d56-982ef5edb3ea 1 days 03:03:00          97380\n",
       "b7839d2c-0576-405d-a41f-2c4649b4d1dd 1 days 02:48:30          96510\n",
       "fdc3b9f0-9a09-4595-9b6d-c76893ac4cc6 1 days 02:27:57          95277\n",
       "0c6ed35f-e825-47ac-aa10-c8e3f82ce55c 1 days 02:14:33          94473\n",
       "83b0c85e-9833-4bd1-b07c-96045aa2dff9 1 days 01:46:39          92799\n",
       "070f05ee-9385-4d75-8fa1-3e2edd08c4d4 1 days 01:42:53          92573\n",
       "60eb44ad-b6c5-43ab-affb-8d5b5875c321 1 days 01:42:24          92544\n",
       "00f3b788-01e2-49b7-b842-88397233298b 1 days 01:33:22          92002\n",
       "07287373-5864-4fd5-88ef-608383e392e4 1 days 01:03:36          90216\n",
       "9f5c7c40-770f-4f8f-94f5-6faf683a98e8 1 days 01:00:14          90014\n",
       "7d8eb34d-1139-43c4-a6b7-ac2dabcc1ec9 1 days 00:31:47          88307\n",
       "a6883425-044f-4af8-8610-1566424f0d7a 0 days 23:29:28          84568\n",
       "74b8f921-4228-438b-9c4c-92ba32d9c728 0 days 23:27:32          84452\n",
       "b1c208d2-c3a7-40a1-aafe-28eab0ffa1fe 0 days 22:28:51          80931\n",
       "77b05269-d17d-410e-82ec-06235ffe86ef 0 days 22:12:28          79948\n",
       "35c97370-684c-445a-a004-ab79f6436f2c 0 days 22:10:31          79831\n",
       "7ee15b48-c907-470b-b22d-9d36b45f3f24 0 days 21:54:24          78864\n",
       "298f0c21-1747-4b74-9910-fbbe0200811f 0 days 21:42:01          78121\n",
       "2ff6170f-c41a-404f-adc3-19ed0621adab 0 days 21:24:01          77041\n",
       "40e14916-62b6-4517-ac10-5a4fd8adeccd 0 days 21:06:25          75985\n",
       "8e9ce86e-65a9-441e-b774-da5725cd9a3c 0 days 20:46:03          74763\n",
       "4e43a9b2-54f1-47fc-afa1-fea9224515af 0 days 20:39:58          74398\n",
       "d75269c0-242f-48d7-b885-8f0041a08a0d 0 days 20:10:30          72630\n",
       "35828826-c3ef-4c50-9c32-3e7d9ec8840f 0 days 16:42:13          60133"
      ]
     },
     "execution_count": 37,
     "metadata": {},
     "output_type": "execute_result"
    }
   ],
   "source": [
    "df_asd = df_processed[['sceneId', 'duration']].copy()\n",
    "df_asd = df_asd.groupby(\"sceneId\").sum()\n",
    "df_asd['duration_secs'] = [(d.days * 24 * 3600 + d.seconds) for d in df_asd['duration']]\n",
    "df_asd = df_asd.sort_values('duration_secs', ascending=False)\n",
    "df_asd"
   ]
  },
  {
   "cell_type": "code",
   "execution_count": 42,
   "id": "62e044c6",
   "metadata": {},
   "outputs": [
    {
     "data": {
      "text/html": [
       "<div>\n",
       "<style scoped>\n",
       "    .dataframe tbody tr th:only-of-type {\n",
       "        vertical-align: middle;\n",
       "    }\n",
       "\n",
       "    .dataframe tbody tr th {\n",
       "        vertical-align: top;\n",
       "    }\n",
       "\n",
       "    .dataframe thead th {\n",
       "        text-align: right;\n",
       "    }\n",
       "</style>\n",
       "<table border=\"1\" class=\"dataframe\">\n",
       "  <thead>\n",
       "    <tr style=\"text-align: right;\">\n",
       "      <th></th>\n",
       "      <th>duration</th>\n",
       "      <th>duration_secs</th>\n",
       "    </tr>\n",
       "    <tr>\n",
       "      <th>userId</th>\n",
       "      <th></th>\n",
       "      <th></th>\n",
       "    </tr>\n",
       "  </thead>\n",
       "  <tbody>\n",
       "    <tr>\n",
       "      <th>f1f86bb6-27b3-4c1a-ba2b-d885c9ca2d12</th>\n",
       "      <td>4 days 05:02:19</td>\n",
       "      <td>101.038611</td>\n",
       "    </tr>\n",
       "    <tr>\n",
       "      <th>a36d2bd7-92b8-4e91-8c85-62b1cfee37cc</th>\n",
       "      <td>4 days 04:34:55</td>\n",
       "      <td>100.581944</td>\n",
       "    </tr>\n",
       "    <tr>\n",
       "      <th>21d90da3-1e56-4c5d-ba80-cb099df1db34</th>\n",
       "      <td>4 days 03:10:23</td>\n",
       "      <td>99.173056</td>\n",
       "    </tr>\n",
       "    <tr>\n",
       "      <th>ef7f50d4-c6b2-4f19-af72-c6e8a6b9f7b2</th>\n",
       "      <td>3 days 21:16:01</td>\n",
       "      <td>93.266944</td>\n",
       "    </tr>\n",
       "    <tr>\n",
       "      <th>c5673ecc-a571-4cc6-8d44-dba17d755377</th>\n",
       "      <td>3 days 20:53:41</td>\n",
       "      <td>92.894722</td>\n",
       "    </tr>\n",
       "    <tr>\n",
       "      <th>f2508934-ce13-416f-8f5d-d68eaff46217</th>\n",
       "      <td>3 days 17:06:18</td>\n",
       "      <td>89.105000</td>\n",
       "    </tr>\n",
       "    <tr>\n",
       "      <th>12367640-999d-4dc8-b121-ecb7f144071a</th>\n",
       "      <td>3 days 13:03:27</td>\n",
       "      <td>85.057500</td>\n",
       "    </tr>\n",
       "    <tr>\n",
       "      <th>35992cdf-2202-4735-a71d-bfabbbe12dab</th>\n",
       "      <td>3 days 12:05:50</td>\n",
       "      <td>84.097222</td>\n",
       "    </tr>\n",
       "    <tr>\n",
       "      <th>9481fcc9-cc9d-4f6c-a7bb-f4687d70b934</th>\n",
       "      <td>3 days 11:20:37</td>\n",
       "      <td>83.343611</td>\n",
       "    </tr>\n",
       "    <tr>\n",
       "      <th>d44b7ae3-9158-4ca5-92a4-65e4e90b6c07</th>\n",
       "      <td>3 days 05:29:10</td>\n",
       "      <td>77.486111</td>\n",
       "    </tr>\n",
       "  </tbody>\n",
       "</table>\n",
       "</div>"
      ],
      "text/plain": [
       "                                            duration  duration_secs\n",
       "userId                                                             \n",
       "f1f86bb6-27b3-4c1a-ba2b-d885c9ca2d12 4 days 05:02:19     101.038611\n",
       "a36d2bd7-92b8-4e91-8c85-62b1cfee37cc 4 days 04:34:55     100.581944\n",
       "21d90da3-1e56-4c5d-ba80-cb099df1db34 4 days 03:10:23      99.173056\n",
       "ef7f50d4-c6b2-4f19-af72-c6e8a6b9f7b2 3 days 21:16:01      93.266944\n",
       "c5673ecc-a571-4cc6-8d44-dba17d755377 3 days 20:53:41      92.894722\n",
       "f2508934-ce13-416f-8f5d-d68eaff46217 3 days 17:06:18      89.105000\n",
       "12367640-999d-4dc8-b121-ecb7f144071a 3 days 13:03:27      85.057500\n",
       "35992cdf-2202-4735-a71d-bfabbbe12dab 3 days 12:05:50      84.097222\n",
       "9481fcc9-cc9d-4f6c-a7bb-f4687d70b934 3 days 11:20:37      83.343611\n",
       "d44b7ae3-9158-4ca5-92a4-65e4e90b6c07 3 days 05:29:10      77.486111"
      ]
     },
     "execution_count": 42,
     "metadata": {},
     "output_type": "execute_result"
    }
   ],
   "source": [
    "df_asd = df_processed[['userId', 'duration']].copy()\n",
    "df_asd = df_asd.groupby(\"userId\").sum()\n",
    "df_asd['duration_secs'] = [((d.days * 24 * 3600 + d.seconds) / 3600) for d in df_asd['duration']]\n",
    "df_asd = df_asd.sort_values('duration_secs', ascending=False)\n",
    "df_asd"
   ]
  },
  {
   "cell_type": "markdown",
   "id": "75a21771",
   "metadata": {},
   "source": [
    "## Show ratings of users\n"
   ]
  },
  {
   "cell_type": "code",
   "execution_count": 44,
   "id": "2508693f",
   "metadata": {},
   "outputs": [
    {
     "data": {
      "application/vnd.jupyter.widget-view+json": {
       "model_id": "2d640248a0184f9d98b44b9fe93197cb",
       "version_major": 2,
       "version_minor": 0
      },
      "text/plain": [
       "Dropdown(description='Timeframe:', options=('Day', 'Week', 'Month', 'Year', 'All Time'), value='Day')"
      ]
     },
     "metadata": {},
     "output_type": "display_data"
    },
    {
     "data": {
      "application/vnd.jupyter.widget-view+json": {
       "model_id": "9152ad27b9fd43ffb78e56227e5fd7ee",
       "version_major": 2,
       "version_minor": 0
      },
      "text/plain": [
       "Dropdown(description='User ID(s):', options=('All', '12367640-999d-4dc8-b121-ecb7f144071a', 'f1f86bb6-27b3-4c1…"
      ]
     },
     "metadata": {},
     "output_type": "display_data"
    }
   ],
   "source": [
    "dropdown_timeframe_ratings = widgets.Dropdown(\n",
    "       options=['Day', 'Week', 'Month', 'Year', 'All Time'],\n",
    "       description='Timeframe:')\n",
    "\n",
    "a = df['userId'].unique()\n",
    "a = np.append(['All'], a)\n",
    "\n",
    "dropdown_user_ratings = widgets.Dropdown(\n",
    "       options=a,\n",
    "       value='All',\n",
    "       description='User ID(s):')\n",
    "       \n",
    "output_widget_ratings = widgets.Output()\n",
    "\n",
    "today = dt.datetime.now()\n",
    "timeframe_ago = dt.datetime(1970, 1, 1)\n",
    "\n",
    "\n",
    "def dropdown_timeframe_eventhandler_ratings(change):\n",
    "    common_filtering_ratings(change.new, dropdown_user_ratings.value)\n",
    "\n",
    "def dropdown_user_eventhandler_ratings(change):\n",
    "    common_filtering_ratings(dropdown_timeframe_ratings.value, change.new)\n",
    "    \n",
    "def common_filtering_ratings(timeframe, user):\n",
    "    output_widget_ratings.clear_output()\n",
    "    \n",
    "    #timeframe\n",
    "    if timeframe == 'Day':\n",
    "        timeframe_ago = dt.datetime(today.year, today.month, day=today.day)\n",
    "    elif timeframe == 'Week':\n",
    "        idx = (today.weekday() + 1) % 7 # MON = 0, SUN = 6 -> SUN = 0 .. SAT = 6\n",
    "        last_sun = today - dt.timedelta(7+idx-6)\n",
    "        timeframe_ago = dt.datetime(last_sun.year, last_sun.month, day=last_sun.day)\n",
    "    elif timeframe == 'Month':\n",
    "        timeframe_ago = dt.datetime(today.year, today.month, day=1)\n",
    "    elif timeframe == 'Year':\n",
    "        timeframe_ago = dt.datetime(today.year, 1, day=1)\n",
    "    else:\n",
    "        timeframe_ago = dt.datetime(1970, 1, 1)\n",
    "    df_processed_timeframed = df_processed.drop(df_processed[df_processed.date < timeframe_ago.date()].index)\n",
    "    df_timeframed = df.drop(df[pd.to_datetime(df.timestamp) < timeframe_ago].index)\n",
    "    df_timeframed['week_number'] = [dt.datetime.strptime(str(d), '%Y-%m-%d %H:%M:%S').isocalendar()[1] for d in df_timeframed['timestamp']]\n",
    "    \n",
    "    #user\n",
    "    df_processed_user_timeframed = df_processed_timeframed\n",
    "    df_user_timeframed = df_timeframed\n",
    "    \n",
    "    if user != 'All':\n",
    "        dftemp = df_processed_timeframed\n",
    "        df_processed_user_timeframed = dftemp.drop(dftemp[dftemp.userId != str(user)].index)\n",
    "        df_user_timeframed = df_timeframed.drop(df_timeframed[df_timeframed.userId != str(user)].index)\n",
    "    \n",
    "    with output_widget_ratings:\n",
    "        df_rating = df_user_timeframed.drop(df_user_timeframed[df_user_timeframed['type'] != \"CORE_SCENE_RATE\"].index)\n",
    "        df_rating['data_str'] = [ast.literal_eval(str(d)) for d in df_rating['data']]\n",
    "        df_rating['ratingValue'] = [d['ratingValue'] for d in df_rating['data_str']]\n",
    "        df_rating['ratingCategory'] = [d['ratingCategory'] for d in df_rating['data_str']]\n",
    "        df_rating = df_rating.drop('data', axis=1)\n",
    "        df_rating = df_rating.drop('data_str', axis=1)\n",
    "        df_rating_grouped = pd.DataFrame({'temp' : df_rating.groupby([\"ratingValue\"])['type']}).reset_index()\n",
    "        df_rating_grouped['count'] = [len(d[1]) for d in df_rating_grouped['temp']]\n",
    "        df_rating_grouped = df_rating_grouped.drop('temp', axis=1)\n",
    "        df_rating_grouped.columns = ['ratingValue', 'count']\n",
    "        plot = df_rating_grouped.plot.pie(y='count', figsize=(5, 5))\n",
    "        display(plot)\n",
    "\n",
    "dropdown_timeframe_ratings.observe(dropdown_timeframe_eventhandler_ratings, names='value')\n",
    "dropdown_user_ratings.observe(dropdown_user_eventhandler_ratings, names='value')\n",
    "display(dropdown_timeframe_ratings)\n",
    "display(dropdown_user_ratings)"
   ]
  },
  {
   "cell_type": "markdown",
   "id": "5369dd76",
   "metadata": {},
   "source": [
    "# Histograms"
   ]
  },
  {
   "cell_type": "markdown",
   "id": "f9010352",
   "metadata": {},
   "source": [
    "## Histogram showing concurrent users throughout an average day"
   ]
  },
  {
   "cell_type": "code",
   "execution_count": 45,
   "id": "7e2a1818",
   "metadata": {},
   "outputs": [
    {
     "data": {
      "application/vnd.jupyter.widget-view+json": {
       "model_id": "25fa427d56bb4a5f8435b06001a7f203",
       "version_major": 2,
       "version_minor": 0
      },
      "text/plain": [
       "Dropdown(description='Timeframe:', options=('Day', 'Week', 'Month', 'Year', 'All Time'), value='Day')"
      ]
     },
     "metadata": {},
     "output_type": "display_data"
    },
    {
     "data": {
      "application/vnd.jupyter.widget-view+json": {
       "model_id": "4f2a0526b04344a59c9d038aabbcd7ce",
       "version_major": 2,
       "version_minor": 0
      },
      "text/plain": [
       "Dropdown(description='User ID(s):', options=('All', '12367640-999d-4dc8-b121-ecb7f144071a', 'f1f86bb6-27b3-4c1…"
      ]
     },
     "metadata": {},
     "output_type": "display_data"
    },
    {
     "data": {
      "image/png": "[encoded data removed]",
      "text/plain": [
       "<Figure size 432x288 with 1 Axes>"
      ]
     },
     "metadata": {
      "needs_background": "light"
     },
     "output_type": "display_data"
    }
   ],
   "source": [
    "dropdown_timeframe_hist = widgets.Dropdown(\n",
    "       options=['Day', 'Week', 'Month', 'Year', 'All Time'],\n",
    "       description='Timeframe:')\n",
    "\n",
    "a = df['userId'].unique()\n",
    "a = np.append(['All'], a)\n",
    "\n",
    "dropdown_user_hist = widgets.Dropdown(\n",
    "       options=a,\n",
    "       value='All',\n",
    "       description='User ID(s):')\n",
    "       \n",
    "output_widget_hist = widgets.Output()\n",
    "\n",
    "today = dt.datetime.now()\n",
    "timeframe_ago = dt.datetime(1970, 1, 1)\n",
    "\n",
    "\n",
    "def dropdown_timeframe_eventhandler_hist(change):\n",
    "    common_filtering_hist(change.new, dropdown_user_hist.value)\n",
    "\n",
    "def dropdown_user_eventhandler_hist(change):\n",
    "    common_filtering_hist(dropdown_timeframe_hist.value, change.new)\n",
    "    \n",
    "def get_times_active(row):\n",
    "    end = row['time'].hour\n",
    "    start = row['time'].hour - row['duration'].seconds//3600\n",
    "    return_set = set()\n",
    "    for i in range(end - start + 1):\n",
    "        return_set.add(str(start + i))\n",
    "    return return_set\n",
    "\n",
    "def common_filtering_hist(timeframe, user):\n",
    "    output_widget_hist.clear_output()\n",
    "    \n",
    "    #timeframe\n",
    "    if timeframe == 'Day':\n",
    "        timeframe_ago = dt.datetime(today.year, today.month, day=today.day)\n",
    "    elif timeframe == 'Week':\n",
    "        idx = (today.weekday() + 1) % 7 # MON = 0, SUN = 6 -> SUN = 0 .. SAT = 6\n",
    "        last_sun = today - dt.timedelta(7+idx-6)\n",
    "        timeframe_ago = dt.datetime(last_sun.year, last_sun.month, day=last_sun.day)\n",
    "    elif timeframe == 'Month':\n",
    "        timeframe_ago = dt.datetime(today.year, today.month, day=1)\n",
    "    elif timeframe == 'Year':\n",
    "        timeframe_ago = dt.datetime(today.year, 1, day=1)\n",
    "    else:\n",
    "        timeframe_ago = dt.datetime(1970, 1, 1)\n",
    "    df_processed_timeframed = df_processed.drop(df_processed[df_processed.date < timeframe_ago.date()].index)\n",
    "    df_timeframed = df.drop(df[pd.to_datetime(df.timestamp) < timeframe_ago].index)\n",
    "    df_timeframed['week_number'] = [dt.datetime.strptime(str(d), '%Y-%m-%d %H:%M:%S').isocalendar()[1] for d in df_timeframed['timestamp']]\n",
    "    \n",
    "    #user\n",
    "    df_processed_user_timeframed = df_processed_timeframed\n",
    "    df_user_timeframed = df_timeframed\n",
    "    \n",
    "    if user != 'All':\n",
    "        dftemp = df_processed_timeframed\n",
    "        df_processed_user_timeframed = dftemp.drop(dftemp[dftemp.userId != str(user)].index)\n",
    "        df_user_timeframed = df_timeframed.drop(df_timeframed[df_timeframed.userId != str(user)].index)\n",
    "    \n",
    "    with output_widget_hist:\n",
    "        df_processed_user_timeframed['hours_active'] = df_processed_user_timeframed.apply(get_times_active, axis=1) \n",
    "        df_pre_fri_hist = df_processed_user_timeframed.loc[df_processed_user_timeframed['weekday'] == 'Monday']\n",
    "        \n",
    "        data_for_hist = {}\n",
    "            \n",
    "        count = 0\n",
    "        for times in df_pre_fri_hist['hours_active']:\n",
    "            for time in times:\n",
    "                data_for_hist[count] = float(time)\n",
    "                count += 1\n",
    "\n",
    "        df_fri_hist = pd.DataFrame(data_for_hist, index = [0])\n",
    "        df_fri_hist = df_fri_hist.reindex(sorted(df_fri_hist.columns), axis=1)\n",
    "        \n",
    "        axarr = df_fri_hist.transpose().hist(bins=6)\n",
    "\n",
    "        for ax in axarr.flatten():\n",
    "            ax.set_xlabel(\"Time of day (24hr clock)\")\n",
    "            ax.set_ylabel(\"Concurrent Users\")\n",
    "        \n",
    "        display(axarr)\n",
    "\n",
    "\n",
    "dropdown_timeframe_hist.observe(dropdown_timeframe_eventhandler_hist, names='value')\n",
    "dropdown_user_hist.observe(dropdown_user_eventhandler_hist, names='value')\n",
    "display(dropdown_timeframe_hist)\n",
    "display(dropdown_user_hist)"
   ]
  },
  {
   "cell_type": "code",
   "execution_count": 46,
   "id": "84dec565",
   "metadata": {
    "scrolled": true
   },
   "outputs": [
    {
     "data": {
      "application/vnd.jupyter.widget-view+json": {
       "model_id": "6ce1d2a9700d46ddbe4400c7dce39ff4",
       "version_major": 2,
       "version_minor": 0
      },
      "text/plain": [
       "Output()"
      ]
     },
     "metadata": {},
     "output_type": "display_data"
    }
   ],
   "source": [
    "display(output_widget_hist)"
   ]
  },
  {
   "cell_type": "markdown",
   "id": "2d78fd1e",
   "metadata": {},
   "source": [
    "## Histogram showing length of sessions"
   ]
  },
  {
   "cell_type": "code",
   "execution_count": 47,
   "id": "5e8b220a",
   "metadata": {},
   "outputs": [
    {
     "data": {
      "application/vnd.jupyter.widget-view+json": {
       "model_id": "5259f56649534e3f880f7849f08661f4",
       "version_major": 2,
       "version_minor": 0
      },
      "text/plain": [
       "Dropdown(description='Timeframe:', options=('Day', 'Week', 'Month', 'Year', 'All Time'), value='Day')"
      ]
     },
     "metadata": {},
     "output_type": "display_data"
    },
    {
     "data": {
      "application/vnd.jupyter.widget-view+json": {
       "model_id": "9f41b698f35a432d85624488cabd2522",
       "version_major": 2,
       "version_minor": 0
      },
      "text/plain": [
       "Dropdown(description='User ID(s):', options=('All', '12367640-999d-4dc8-b121-ecb7f144071a', 'f1f86bb6-27b3-4c1…"
      ]
     },
     "metadata": {},
     "output_type": "display_data"
    },
    {
     "data": {
      "image/png": "[encoded data removed]",
      "text/plain": [
       "<Figure size 432x288 with 1 Axes>"
      ]
     },
     "metadata": {
      "needs_background": "light"
     },
     "output_type": "display_data"
    },
    {
     "data": {
      "image/png": "[encoded data removed]",
      "text/plain": [
       "<Figure size 432x288 with 1 Axes>"
      ]
     },
     "metadata": {
      "needs_background": "light"
     },
     "output_type": "display_data"
    }
   ],
   "source": [
    "dropdown_timeframe_histsess = widgets.Dropdown(\n",
    "       options=['Day', 'Week', 'Month', 'Year', 'All Time'],\n",
    "       description='Timeframe:')\n",
    "\n",
    "a = df['userId'].unique()\n",
    "a = np.append(['All'], a)\n",
    "\n",
    "dropdown_user_histsess = widgets.Dropdown(\n",
    "       options=a,\n",
    "       value='All',\n",
    "       description='User ID(s):')\n",
    "       \n",
    "output_widget_histsess = widgets.Output()\n",
    "\n",
    "today = dt.datetime.now()\n",
    "timeframe_ago = dt.datetime(1970, 1, 1)\n",
    "\n",
    "\n",
    "def dropdown_timeframe_eventhandler_histsess(change):\n",
    "    common_filtering_histsess(change.new, dropdown_user_histsess.value)\n",
    "\n",
    "def dropdown_user_eventhandler_histsess(change):\n",
    "    common_filtering_histsess(dropdown_timeframe_histsess.value, change.new)\n",
    "    \n",
    "def common_filtering_histsess(timeframe, user):\n",
    "    output_widget_histsess.clear_output()\n",
    "    \n",
    "    #timeframe\n",
    "    if timeframe == 'Day':\n",
    "        timeframe_ago = dt.datetime(today.year, today.month, day=today.day)\n",
    "    elif timeframe == 'Week':\n",
    "        idx = (today.weekday() + 1) % 7 # MON = 0, SUN = 6 -> SUN = 0 .. SAT = 6\n",
    "        last_sun = today - dt.timedelta(7+idx-6)\n",
    "        timeframe_ago = dt.datetime(last_sun.year, last_sun.month, day=last_sun.day)\n",
    "    elif timeframe == 'Month':\n",
    "        timeframe_ago = dt.datetime(today.year, today.month, day=1)\n",
    "    elif timeframe == 'Year':\n",
    "        timeframe_ago = dt.datetime(today.year, 1, day=1)\n",
    "    else:\n",
    "        timeframe_ago = dt.datetime(1970, 1, 1)\n",
    "    df_processed_timeframed = df_processed.drop(df_processed[df_processed.date < timeframe_ago.date()].index)\n",
    "    df_timeframed = df.drop(df[pd.to_datetime(df.timestamp) < timeframe_ago].index)\n",
    "    df_timeframed['week_number'] = [dt.datetime.strptime(str(d), '%Y-%m-%d %H:%M:%S').isocalendar()[1] for d in df_timeframed['timestamp']]\n",
    "    \n",
    "    #user\n",
    "    df_processed_user_timeframed = df_processed_timeframed\n",
    "    df_user_timeframed = df_timeframed\n",
    "    \n",
    "    if user != 'All':\n",
    "        dftemp = df_processed_timeframed\n",
    "        df_processed_user_timeframed = dftemp.drop(dftemp[dftemp.userId != str(user)].index)\n",
    "        df_user_timeframed = df_timeframed.drop(df_timeframed[df_timeframed.userId != str(user)].index)\n",
    "    \n",
    "    with output_widget_histsess:\n",
    "        df_sesh_len_hist = df_processed_user_timeframed[['duration']].copy()\n",
    "        df_sesh_len_hist['minutes'] = [d.total_seconds()/60 for d in df_processed_user_timeframed['duration']]\n",
    "        df_min_hist = df_sesh_len_hist[['minutes']].copy()\n",
    "        axarr = df_min_hist.hist(bins=6)\n",
    "\n",
    "        for ax in axarr.flatten():\n",
    "            ax.set_xlabel(\"Length of session (minutes)\")\n",
    "            ax.set_ylabel(\"Number of sessions\")\n",
    "        \n",
    "        display(axarr)\n",
    "\n",
    "dropdown_timeframe_histsess.observe(dropdown_timeframe_eventhandler_histsess, names='value')\n",
    "dropdown_user_histsess.observe(dropdown_user_eventhandler_histsess, names='value')\n",
    "display(dropdown_timeframe_histsess)\n",
    "display(dropdown_user_histsess)"
   ]
  },
  {
   "cell_type": "markdown",
   "id": "4fcca8da",
   "metadata": {},
   "source": [
    "## Radar graph showing average ratings for each category"
   ]
  },
  {
   "cell_type": "code",
   "execution_count": 48,
   "id": "bd4cf070",
   "metadata": {
    "scrolled": false
   },
   "outputs": [
    {
     "data": {
      "application/vnd.jupyter.widget-view+json": {
       "model_id": "ce77692c5e6245d19dc07e302f4030ca",
       "version_major": 2,
       "version_minor": 0
      },
      "text/plain": [
       "Dropdown(description='Timeframe:', options=('Day', 'Week', 'Month', 'Year', 'All Time'), value='Day')"
      ]
     },
     "metadata": {},
     "output_type": "display_data"
    },
    {
     "data": {
      "application/vnd.jupyter.widget-view+json": {
       "model_id": "240b244c08f34f8080d05d63f4d2f6c7",
       "version_major": 2,
       "version_minor": 0
      },
      "text/plain": [
       "Dropdown(description='User ID(s):', options=('All', '12367640-999d-4dc8-b121-ecb7f144071a', 'f1f86bb6-27b3-4c1…"
      ]
     },
     "metadata": {},
     "output_type": "display_data"
    }
   ],
   "source": [
    "import ast\n",
    "\n",
    "df_rating_cat_grouped = None\n",
    "\n",
    "dropdown_timeframe_radarrating = widgets.Dropdown(\n",
    "       options=['Day', 'Week', 'Month', 'Year', 'All Time'],\n",
    "       description='Timeframe:')\n",
    "\n",
    "a = df['userId'].unique()\n",
    "a = np.append(['All'], a)\n",
    "\n",
    "dropdown_user_radarrating = widgets.Dropdown(\n",
    "       options=a,\n",
    "       value='All',\n",
    "       description='User ID(s):')\n",
    "       \n",
    "output_widget_radarrating = widgets.Output()\n",
    "\n",
    "today = dt.datetime.now()\n",
    "timeframe_ago = dt.datetime(1970, 1, 1)\n",
    "\n",
    "\n",
    "def dropdown_timeframe_eventhandler_radarrating(change):\n",
    "    common_filtering_radarrating(change.new, dropdown_user_radarrating.value)\n",
    "\n",
    "def dropdown_user_eventhandler_radarrating(change):\n",
    "    common_filtering_radarrating(dropdown_timeframe_radarrating.value, change.new)\n",
    "    \n",
    "def common_filtering_radarrating(timeframe, user):\n",
    "    output_widget_radarrating.clear_output()\n",
    "    \n",
    "    #timeframe\n",
    "    if timeframe == 'Day':\n",
    "        timeframe_ago = dt.datetime(today.year, today.month, day=today.day)\n",
    "    elif timeframe == 'Week':\n",
    "        idx = (today.weekday() + 1) % 7 # MON = 0, SUN = 6 -> SUN = 0 .. SAT = 6\n",
    "        last_sun = today - dt.timedelta(7+idx-6)\n",
    "        timeframe_ago = dt.datetime(last_sun.year, last_sun.month, day=last_sun.day)\n",
    "    elif timeframe == 'Month':\n",
    "        timeframe_ago = dt.datetime(today.year, today.month, day=1)\n",
    "    elif timeframe == 'Year':\n",
    "        timeframe_ago = dt.datetime(today.year, 1, day=1)\n",
    "    else:\n",
    "        timeframe_ago = dt.datetime(1970, 1, 1)\n",
    "    df_processed_timeframed = df_processed.drop(df_processed[df_processed.date < timeframe_ago.date()].index)\n",
    "    df_timeframed = df.drop(df[pd.to_datetime(df.timestamp) < timeframe_ago].index)\n",
    "    df_timeframed['week_number'] = [dt.datetime.strptime(str(d), '%Y-%m-%d %H:%M:%S').isocalendar()[1] for d in df_timeframed['timestamp']]\n",
    "    \n",
    "    #user\n",
    "    df_processed_user_timeframed = df_processed_timeframed\n",
    "    df_user_timeframed = df_timeframed\n",
    "    \n",
    "    if user != 'All':\n",
    "        dftemp = df_processed_timeframed\n",
    "        df_processed_user_timeframed = dftemp.drop(dftemp[dftemp.userId != str(user)].index)\n",
    "        df_user_timeframed = df_timeframed.drop(df_timeframed[df_timeframed.userId != str(user)].index)\n",
    "    \n",
    "    with output_widget_radarrating:\n",
    "        df_rating = df_user_timeframed.drop(df_user_timeframed[df_user_timeframed['type'] != \"CORE_SCENE_RATE\"].index)\n",
    "        df_rating['data_str'] = [ast.literal_eval(str(d)) for d in df_rating['data']]\n",
    "        df_rating['ratingValue'] = [d['ratingValue'] for d in df_rating['data_str']]\n",
    "        df_rating['ratingCategory'] = [d['ratingCategory'] for d in df_rating['data_str']]\n",
    "        df_rating = df_rating.drop('data', axis=1)\n",
    "        df_rating = df_rating.drop('data_str', axis=1)\n",
    "        df_rating_cat_grouped = pd.DataFrame({'mean' : df_rating.groupby([\"ratingCategory\"])['ratingValue'].mean()}).reset_index()\n",
    "        fig = plt.figure()\n",
    "        ax = fig.add_subplot(111, projection=\"polar\")\n",
    "\n",
    "        # theta has 5 different angles, and the first one repeated\n",
    "        theta = np.arange(len(df_rating_cat_grouped) + 1) / float(len(df_rating_cat_grouped)) * 2 * np.pi\n",
    "        # values has the 5 values from 'mean', with the first element repeated\n",
    "        values = df_rating_cat_grouped['mean'].values\n",
    "        values = np.append(values, values[0])\n",
    "\n",
    "        # draw the polygon and the mark the points for each angle/value combination\n",
    "        l1, = ax.plot(theta, values, color=\"C2\", marker=\"o\", label=\"Mean rating\")\n",
    "        plt.xticks(theta[:-1], df_rating_cat_grouped['ratingCategory'], color='grey', size=12)\n",
    "        ax.tick_params(pad=10) # to increase the distance of the labels to the plot\n",
    "        # fill the area of the polygon with green and some transparency\n",
    "        ax.fill(theta, values, 'green', alpha=0.1)\n",
    "\n",
    "        # plt.legend() # shows the legend, using the label of the line plot (useful when there is more than 1 polygon)\n",
    "        plt.title(\"Average Ratings for Different Categories\")\n",
    "        \n",
    "        display(plt.show())\n",
    "        display(df_rating_cat_grouped)\n",
    "\n",
    "dropdown_timeframe_radarrating.observe(dropdown_timeframe_eventhandler_radarrating, names='value')\n",
    "dropdown_user_radarrating.observe(dropdown_user_eventhandler_radarrating, names='value')\n",
    "display(dropdown_timeframe_radarrating)\n",
    "display(dropdown_user_radarrating)"
   ]
  },
  {
   "cell_type": "code",
   "execution_count": 49,
   "id": "8bd4be18",
   "metadata": {},
   "outputs": [
    {
     "data": {
      "application/vnd.jupyter.widget-view+json": {
       "model_id": "5d147784dd7e49cc8c6f2fcefd14cb2b",
       "version_major": 2,
       "version_minor": 0
      },
      "text/plain": [
       "Output()"
      ]
     },
     "metadata": {},
     "output_type": "display_data"
    }
   ],
   "source": [
    "display(output_widget_radarrating)"
   ]
  },
  {
   "cell_type": "code",
   "execution_count": 50,
   "id": "d438528b",
   "metadata": {},
   "outputs": [],
   "source": [
    "df_rating_cat_grouped"
   ]
  },
  {
   "cell_type": "code",
   "execution_count": null,
   "id": "65a39690",
   "metadata": {},
   "outputs": [],
   "source": []
  },
  {
   "cell_type": "code",
   "execution_count": null,
   "id": "439829fc",
   "metadata": {},
   "outputs": [],
   "source": []
  },
  {
   "cell_type": "code",
   "execution_count": null,
   "id": "5b9b8a56",
   "metadata": {},
   "outputs": [],
   "source": []
  },
  {
   "cell_type": "code",
   "execution_count": null,
   "id": "8d12a7f0",
   "metadata": {},
   "outputs": [],
   "source": []
  },
  {
   "cell_type": "code",
   "execution_count": null,
   "id": "4f74b3cb",
   "metadata": {},
   "outputs": [],
   "source": []
  },
  {
   "cell_type": "code",
   "execution_count": null,
   "id": "651c6feb",
   "metadata": {},
   "outputs": [],
   "source": []
  },
  {
   "cell_type": "code",
   "execution_count": null,
   "id": "96710c3b",
   "metadata": {},
   "outputs": [],
   "source": []
  },
  {
   "cell_type": "code",
   "execution_count": null,
   "id": "8bc5abe0",
   "metadata": {},
   "outputs": [],
   "source": []
  },
  {
   "cell_type": "code",
   "execution_count": null,
   "id": "caf93bd3",
   "metadata": {},
   "outputs": [],
   "source": []
  },
  {
   "cell_type": "code",
   "execution_count": null,
   "id": "9db7c4aa",
   "metadata": {},
   "outputs": [],
   "source": []
  }
 ],
 "metadata": {
  "kernelspec": {
   "display_name": "Python 3",
   "language": "python",
   "name": "python3"
  },
  "language_info": {
   "codemirror_mode": {
    "name": "ipython",
    "version": 3
   },
   "file_extension": ".py",
   "mimetype": "text/x-python",
   "name": "python",
   "nbconvert_exporter": "python",
   "pygments_lexer": "ipython3",
   "version": "3.7.11"
  }
 },
 "nbformat": 4,
 "nbformat_minor": 5
}
